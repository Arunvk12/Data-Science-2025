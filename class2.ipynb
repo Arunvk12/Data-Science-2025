{
 "cells": [
  {
   "cell_type": "code",
   "execution_count": 2,
   "id": "7c1e44b1",
   "metadata": {},
   "outputs": [
    {
     "data": {
      "text/plain": [
       "['d', 't', '']"
      ]
     },
     "execution_count": 2,
     "metadata": {},
     "output_type": "execute_result"
    }
   ],
   "source": [
    "x=\"data\"\n",
    "x.split(\"a\")\n"
   ]
  },
  {
   "cell_type": "code",
   "execution_count": 5,
   "id": "dead3751",
   "metadata": {},
   "outputs": [
    {
     "data": {
      "text/plain": [
       "2"
      ]
     },
     "execution_count": 5,
     "metadata": {},
     "output_type": "execute_result"
    }
   ],
   "source": [
    "x=\"data science\"\n",
    "x.count(\"e\")"
   ]
  },
  {
   "cell_type": "code",
   "execution_count": null,
   "metadata": {},
   "outputs": [
    {
     "data": {
      "text/plain": [
       "'data engineering'"
      ]
     },
     "execution_count": 11,
     "metadata": {},
     "output_type": "execute_result"
    }
   ],
   "source": [
    "x=\"data science\"\n",
    "x.replace(\"science\",\"engineering\")\n"
   ]
  },
  {
   "cell_type": "code",
   "execution_count": null,
   "id": "5667aa78",
   "metadata": {},
   "outputs": [
    {
     "data": {
      "text/plain": [
       "1"
      ]
     },
     "execution_count": 17,
     "metadata": {},
     "output_type": "execute_result"
    }
   ],
   "source": [
    "x=\"data science\"\n",
    "x.index('a')\n"
   ]
  },
  {
   "cell_type": "code",
   "execution_count": null,
   "id": "93407558",
   "metadata": {},
   "outputs": [
    {
     "data": {
      "text/plain": [
       "'data'"
      ]
     },
     "execution_count": 21,
     "metadata": {},
     "output_type": "execute_result"
    }
   ],
   "source": [
    "x=\"data science\"\n",
    "x[0:4]#slicing x[start:end]]"
   ]
  },
  {
   "cell_type": "code",
   "execution_count": 22,
   "id": "681a6338",
   "metadata": {},
   "outputs": [
    {
     "data": {
      "text/plain": [
       "'science'"
      ]
     },
     "execution_count": 22,
     "metadata": {},
     "output_type": "execute_result"
    }
   ],
   "source": [
    "x=\"data science\"\n",
    "x[5:]"
   ]
  },
  {
   "cell_type": "code",
   "execution_count": 23,
   "id": "3c0267c2",
   "metadata": {},
   "outputs": [
    {
     "data": {
      "text/plain": [
       "'ien'"
      ]
     },
     "execution_count": 23,
     "metadata": {},
     "output_type": "execute_result"
    }
   ],
   "source": [
    "x=\"data science\"\n",
    "x[-5:-2]"
   ]
  },
  {
   "cell_type": "code",
   "execution_count": 26,
   "id": "481f5622",
   "metadata": {},
   "outputs": [
    {
     "data": {
      "text/plain": [
       "'data scien'"
      ]
     },
     "execution_count": 26,
     "metadata": {},
     "output_type": "execute_result"
    }
   ],
   "source": [
    "x=\"data science\"\n",
    "x[:-2]"
   ]
  },
  {
   "cell_type": "code",
   "execution_count": null,
   "id": "b2d00fd8",
   "metadata": {},
   "outputs": [],
   "source": [
    "x=\"data science\"\n"
   ]
  }
 ],
 "metadata": {
  "kernelspec": {
   "display_name": "Python 3",
   "language": "python",
   "name": "python3"
  },
  "language_info": {
   "codemirror_mode": {
    "name": "ipython",
    "version": 3
   },
   "file_extension": ".py",
   "mimetype": "text/x-python",
   "name": "python",
   "nbconvert_exporter": "python",
   "pygments_lexer": "ipython3",
   "version": "3.13.5"
  }
 },
 "nbformat": 4,
 "nbformat_minor": 5
}
