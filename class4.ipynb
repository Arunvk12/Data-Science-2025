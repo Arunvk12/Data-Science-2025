{
 "cells": [
  {
   "cell_type": "code",
   "execution_count": 1,
   "id": "09a1f410",
   "metadata": {},
   "outputs": [
    {
     "data": {
      "text/plain": [
       "{1, 2, 3, 4, 5}"
      ]
     },
     "execution_count": 1,
     "metadata": {},
     "output_type": "execute_result"
    }
   ],
   "source": [
    "x={1,2,3,4,5,1,1,1}#set has {} same has dict but it doesnt have keyvalues and it gives unique values\n",
    "x"
   ]
  },
  {
   "cell_type": "code",
   "execution_count": 2,
   "id": "c7f0bbc0",
   "metadata": {},
   "outputs": [
    {
     "data": {
      "text/plain": [
       "{1, 'a', 'aa'}"
      ]
     },
     "execution_count": 2,
     "metadata": {},
     "output_type": "execute_result"
    }
   ],
   "source": [
    "x={1,\"a\",\"aa\",\"a\"}\n",
    "x#it also same for characters"
   ]
  },
  {
   "cell_type": "code",
   "execution_count": null,
   "id": "dd2b8a01",
   "metadata": {},
   "outputs": [],
   "source": [
    "#sets\n",
    "#set has {} same has dict but it doesnt have keyvalues and it gives unique values\n",
    "#in sets it gives the elements in auto sort by the first value\n",
    "#and it doesn't have index "
   ]
  },
  {
   "cell_type": "code",
   "execution_count": 7,
   "id": "6f74bc93",
   "metadata": {},
   "outputs": [
    {
     "data": {
      "text/plain": [
       "{1, 2, 3, 4, 5, 6}"
      ]
     },
     "execution_count": 7,
     "metadata": {},
     "output_type": "execute_result"
    }
   ],
   "source": [
    "#union function\n",
    "# it gives all the combination in the set and set always return without duplicates\n",
    "x={2,3,4,5}\n",
    "y={1,2,3,4,5,6}\n",
    "x.union(y)\n"
   ]
  },
  {
   "cell_type": "code",
   "execution_count": 8,
   "id": "65d6cc07",
   "metadata": {},
   "outputs": [
    {
     "data": {
      "text/plain": [
       "{2, 3, 4, 5}"
      ]
     },
     "execution_count": 8,
     "metadata": {},
     "output_type": "execute_result"
    }
   ],
   "source": [
    "#intersection\n",
    "x.intersection(y)#it gives common elements in the set"
   ]
  },
  {
   "cell_type": "code",
   "execution_count": 24,
   "id": "9fa40a11",
   "metadata": {},
   "outputs": [
    {
     "name": "stdout",
     "output_type": "stream",
     "text": [
      "{3, 4, 5, 6} {1, 2, 3, 5, 9}\n",
      "{4, 6}\n",
      "{1, 2, 9}\n"
     ]
    }
   ],
   "source": [
    "#differences\n",
    "x={6,5,4,3}\n",
    "y={1,3,2,5,9}\n",
    "print(x,y)\n",
    "print(x.difference(y))#\"x differences of y means that the element which present ini x but not in y it displays the values ex(a-b)\"\n",
    "print(y.difference(x))#\"y differences of x means that the element which present ini y but not in x it displays the values ex(b-a)\""
   ]
  },
  {
   "cell_type": "code",
   "execution_count": 39,
   "id": "66534d7a",
   "metadata": {},
   "outputs": [
    {
     "name": "stdout",
     "output_type": "stream",
     "text": [
      "{1, 2, 3, 4, 5} {1, 2, 5, 7, 8, 9}\n",
      "{3, 4}\n",
      "{1, 2, 5, 7, 8, 9}\n"
     ]
    }
   ],
   "source": [
    "#differences_update\n",
    "x={1,3,4,5,2}\n",
    "y={1,5,2,7,8,9}\n",
    "print(x,y)#it has two opearations the 1st one is it make the differences checking the y and it update the x value which have the differences\n",
    "x.difference_update(y)\n",
    "print(x)\n",
    "y.difference_update(x)\n",
    "print(y)\n"
   ]
  },
  {
   "cell_type": "code",
   "execution_count": 43,
   "id": "7adc22ad",
   "metadata": {},
   "outputs": [
    {
     "name": "stdout",
     "output_type": "stream",
     "text": [
      "{1, 2, 3, 4, 5, 6, 7, 8, 9}\n",
      "{4, 5, 7}\n",
      "{1, 2, 3, 6, 8, 9}\n"
     ]
    }
   ],
   "source": [
    "#symmetric differences\n",
    "x={3,2,4,5,6,7}#it combination of union and intersection\n",
    "y={1,9,8,7,5,4}\n",
    "print(x.union(y))\n",
    "print(x.intersection(y))\n",
    "print(x.symmetric_difference(y))"
   ]
  },
  {
   "cell_type": "code",
   "execution_count": 68,
   "id": "02510a3a",
   "metadata": {},
   "outputs": [
    {
     "name": "stdout",
     "output_type": "stream",
     "text": [
      "False\n",
      "True\n"
     ]
    }
   ],
   "source": [
    "#subset\n",
    "x={3,2,4,5,6,7,9,8,1}\n",
    "y={1,9,8}\n",
    "print(x.issubset(y))#it checks the x set values is present in the y set\n",
    "print(y.issubset(x))#it checks the y set values is present in the x set \n"
   ]
  },
  {
   "cell_type": "code",
   "execution_count": 69,
   "id": "cb0baa97",
   "metadata": {},
   "outputs": [
    {
     "data": {
      "text/plain": [
       "True"
      ]
     },
     "execution_count": 69,
     "metadata": {},
     "output_type": "execute_result"
    }
   ],
   "source": [
    "#super set\n",
    "x.issuperset(y)"
   ]
  },
  {
   "cell_type": "code",
   "execution_count": null,
   "id": "d71428b0",
   "metadata": {},
   "outputs": [
    {
     "data": {
      "text/plain": [
       "False"
      ]
     },
     "execution_count": 70,
     "metadata": {},
     "output_type": "execute_result"
    }
   ],
   "source": [
    "#disjoint means every element is not common on both sets\n",
    "x.isdisjoint(y)"
   ]
  },
  {
   "cell_type": "code",
   "execution_count": 76,
   "id": "0728168e",
   "metadata": {},
   "outputs": [],
   "source": [
    "class_a = {\"Aarav\", \"Vivaan\", \"Aditya\", \"Rohan\", \"Yash\", \"Siddharth\", \"Manav\", \"Rahul\",\"rakesh\"}\n",
    "class_b = {\"Riya\", \"Sneha\", \"Aditya\", \"Rahul\", \"Ishita\", \"Manav\", \"Kavya\", \"Yash\"}"
   ]
  },
  {
   "cell_type": "code",
   "execution_count": 78,
   "id": "4eb5338a",
   "metadata": {},
   "outputs": [
    {
     "data": {
      "text/plain": [
       "4"
      ]
     },
     "execution_count": 78,
     "metadata": {},
     "output_type": "execute_result"
    }
   ],
   "source": [
    "len(class_a.intersection(class_b))"
   ]
  },
  {
   "cell_type": "code",
   "execution_count": 82,
   "id": "25dde5bd",
   "metadata": {},
   "outputs": [
    {
     "name": "stdout",
     "output_type": "stream",
     "text": [
      "5\n",
      "{'rakesh', 'Aarav', 'Vivaan', 'Siddharth', 'Rohan'}\n",
      "{'Kavya', 'Sneha', 'Riya', 'Ishita'}\n",
      "{'Ishita', 'rakesh', 'Aarav', 'Vivaan', 'Sneha', 'Siddharth', 'Kavya', 'Riya', 'Rohan'}\n",
      "{'Ishita', 'rakesh', 'Aarav', 'Sneha', 'Vivaan', 'Siddharth', 'Riya', 'Kavya', 'Rohan'}\n"
     ]
    }
   ],
   "source": [
    "print(len(class_a.difference(class_b)))\n",
    "print(class_a.difference(class_b))\n",
    "print(class_b.difference(class_a))\n",
    "print(class_b.symmetric_difference(class_a))\n",
    "print(class_a.symmetric_difference(class_b))\n"
   ]
  },
  {
   "cell_type": "code",
   "execution_count": null,
   "id": "592568ce",
   "metadata": {},
   "outputs": [],
   "source": [
    "#only means -(differences)\n",
    "#both means intersection\n",
    "#atleastone means union"
   ]
  },
  {
   "cell_type": "code",
   "execution_count": 84,
   "id": "a328359f",
   "metadata": {},
   "outputs": [
    {
     "name": "stdout",
     "output_type": "stream",
     "text": [
      "2\n",
      "1\n"
     ]
    }
   ],
   "source": [
    "#boolean expression \n",
    "#TRUE=1,FALSE=0\n",
    "print(True+1)\n",
    "print(False+1)"
   ]
  },
  {
   "cell_type": "code",
   "execution_count": 5,
   "id": "3e3e70bd",
   "metadata": {},
   "outputs": [
    {
     "name": "stdout",
     "output_type": "stream",
     "text": [
      "21\n",
      "17\n",
      "9.5\n",
      "38\n",
      "1\n",
      "9\n",
      "361\n"
     ]
    }
   ],
   "source": [
    "#arthmatic opreator\n",
    "x=19\n",
    "y=2\n",
    "print(x+y)\n",
    "print(x-y)\n",
    "print(x/y)\n",
    "print(x*y)\n",
    "print(x%y)\n",
    "print(x//y)#it is floor devision which gives the nearest value in the decimal\n",
    "print(x**y)"
   ]
  },
  {
   "cell_type": "code",
   "execution_count": 10,
   "id": "bb863e8c",
   "metadata": {},
   "outputs": [
    {
     "data": {
      "text/plain": [
       "9.5"
      ]
     },
     "execution_count": 10,
     "metadata": {},
     "output_type": "execute_result"
    }
   ],
   "source": [
    "s=10#normal assigment\n",
    "s+=10#these means s=s+10 , += means compund assigment \n",
    "s-=1\n",
    "s/2\n"
   ]
  },
  {
   "cell_type": "code",
   "execution_count": 11,
   "id": "37e99883",
   "metadata": {},
   "outputs": [
    {
     "data": {
      "text/plain": [
       "0"
      ]
     },
     "execution_count": 11,
     "metadata": {},
     "output_type": "execute_result"
    }
   ],
   "source": [
    "x=20\n",
    "x=-20\n",
    "x+=20\n",
    "x"
   ]
  },
  {
   "cell_type": "code",
   "execution_count": 18,
   "id": "d6c1453a",
   "metadata": {},
   "outputs": [
    {
     "data": {
      "text/plain": [
       "30.0"
      ]
     },
     "execution_count": 18,
     "metadata": {},
     "output_type": "execute_result"
    }
   ],
   "source": [
    "x=101\n",
    "x+=20\n",
    "x//=2 \n",
    "x/2\n",
    "\n"
   ]
  },
  {
   "cell_type": "code",
   "execution_count": null,
   "id": "273d07ae",
   "metadata": {},
   "outputs": [
    {
     "name": "stdout",
     "output_type": "stream",
     "text": [
      "is False\n",
      "is False\n",
      "is True\n",
      "is True\n",
      "is False\n",
      "is True\n"
     ]
    }
   ],
   "source": [
    "#comparison opearotr\n",
    "x=5\n",
    "y=6\n",
    "print(\"is\",x>y)\n",
    "print(\"is\",x>=y)\n",
    "print(\"is\",x<y)\n",
    "print(\"is\",x<=y)\n",
    "print(\"is\",x==y)\n",
    "print(\"is\",x!=y)"
   ]
  },
  {
   "cell_type": "code",
   "execution_count": null,
   "id": "97706535",
   "metadata": {},
   "outputs": [
    {
     "data": {
      "text/plain": [
       "False"
      ]
     },
     "execution_count": 26,
     "metadata": {},
     "output_type": "execute_result"
    }
   ],
   "source": [
    "x=10\n",
    "y=20 \n",
    "x=y#in these we have given condition that x is equal to y so that it came false in the below condition of not equal\n",
    "x!=y"
   ]
  },
  {
   "cell_type": "code",
   "execution_count": null,
   "id": "6be8965c",
   "metadata": {},
   "outputs": [],
   "source": [
    "#logical operaotr\n",
    "#AND\n",
    "#OR\n",
    "#NOT\n",
    "\n",
    "\n"
   ]
  },
  {
   "cell_type": "code",
   "execution_count": 29,
   "id": "79ad1584",
   "metadata": {},
   "outputs": [
    {
     "data": {
      "text/plain": [
       "True"
      ]
     },
     "execution_count": 29,
     "metadata": {},
     "output_type": "execute_result"
    }
   ],
   "source": [
    "#AND\n",
    "x=10\n",
    "y=5\n",
    "x>5 and y>4"
   ]
  },
  {
   "cell_type": "code",
   "execution_count": 30,
   "id": "55fd067e",
   "metadata": {},
   "outputs": [
    {
     "name": "stdout",
     "output_type": "stream",
     "text": [
      "True\n",
      "False\n",
      "False\n",
      "False\n",
      "True\n",
      "True\n",
      "True\n",
      "False\n",
      "False\n",
      "False\n",
      "False\n",
      "True\n"
     ]
    }
   ],
   "source": [
    "#AND\n",
    "print(True and True) # True\n",
    "print(True and False) # False\n",
    "print( False and True) # False\n",
    "print(False and False) # False\n",
    "\n",
    "#OR\n",
    "print(True or True) # True\n",
    "print(True or False) # True\n",
    "print( False or True) # True\n",
    "print(False or False) #False\n",
    "\n",
    "\n",
    "#NOT\n",
    "print(not(True or True)) #False\n",
    "print(not(True or False)) # False\n",
    "print(not( False or True)) # False\n",
    "print(not(False or False)) # True"
   ]
  },
  {
   "cell_type": "code",
   "execution_count": null,
   "id": "61a84450",
   "metadata": {},
   "outputs": [
    {
     "name": "stdout",
     "output_type": "stream",
     "text": [
      "True\n",
      "False\n",
      "True\n"
     ]
    }
   ],
   "source": [
    "#IDENTIY OPERATORS :IS,IS NOT\n",
    "#membership opearotr : IN,NOT IN\n",
    "\n",
    "x=[1,2,3] #IN THESE THE IS CONDITION IS ACCPET THE TRUE WHEN THE BOTH VARIABLES ARE STORED IN THE SAME LOCATION \n",
    "x=y#THE PYTHON SAVES THE RAM MEMORY SO = IS NOT ASSIGNED A MEMORY LOCATION\n",
    "z=[1,2,3]\n",
    "print(x is y)\n",
    "print(x is z)#WHY IT CAME FALSE MEANS THAT Z VARIABLE IS STORED IN THE OTHER LOATION BYTHE WAY IT THE SAME VALUE IT SHOWS THE FALSE\n",
    "print(x is not z)#beacuse they are not in the same location"
   ]
  },
  {
   "cell_type": "code",
   "execution_count": null,
   "id": "1e8d843a",
   "metadata": {},
   "outputs": [
    {
     "data": {
      "text/plain": [
       "False"
      ]
     },
     "execution_count": 35,
     "metadata": {},
     "output_type": "execute_result"
    }
   ],
   "source": [
    "#in\n",
    "1 in [1,3,4,5]"
   ]
  },
  {
   "cell_type": "code",
   "execution_count": 36,
   "id": "c14f3588",
   "metadata": {},
   "outputs": [
    {
     "data": {
      "text/plain": [
       "False"
      ]
     },
     "execution_count": 36,
     "metadata": {},
     "output_type": "execute_result"
    }
   ],
   "source": [
    "1 in (2,4,5)"
   ]
  },
  {
   "cell_type": "code",
   "execution_count": 39,
   "id": "12df185c",
   "metadata": {},
   "outputs": [
    {
     "data": {
      "text/plain": [
       "True"
      ]
     },
     "execution_count": 39,
     "metadata": {},
     "output_type": "execute_result"
    }
   ],
   "source": [
    "\"1\" in \"DaTA1\""
   ]
  },
  {
   "cell_type": "code",
   "execution_count": null,
   "id": "15942454",
   "metadata": {},
   "outputs": [
    {
     "data": {
      "text/plain": [
       "True"
      ]
     },
     "execution_count": 40,
     "metadata": {},
     "output_type": "execute_result"
    }
   ],
   "source": [
    "1 in{1,3,4}#it works in dict only for the keys"
   ]
  },
  {
   "cell_type": "code",
   "execution_count": 41,
   "id": "b7baa3ad",
   "metadata": {},
   "outputs": [
    {
     "data": {
      "text/plain": [
       "True"
      ]
     },
     "execution_count": 41,
     "metadata": {},
     "output_type": "execute_result"
    }
   ],
   "source": [
    "1 in {1:4}"
   ]
  },
  {
   "cell_type": "code",
   "execution_count": 44,
   "id": "2068c1d7",
   "metadata": {},
   "outputs": [
    {
     "data": {
      "text/plain": [
       "'0b1111'"
      ]
     },
     "execution_count": 44,
     "metadata": {},
     "output_type": "execute_result"
    }
   ],
   "source": [
    "bin(15)"
   ]
  },
  {
   "cell_type": "code",
   "execution_count": 46,
   "id": "b0bce21f",
   "metadata": {},
   "outputs": [
    {
     "data": {
      "text/plain": [
       "'0b101101'"
      ]
     },
     "execution_count": 46,
     "metadata": {},
     "output_type": "execute_result"
    }
   ],
   "source": [
    "bin(45)"
   ]
  },
  {
   "cell_type": "code",
   "execution_count": 53,
   "id": "63612014",
   "metadata": {},
   "outputs": [
    {
     "name": "stdout",
     "output_type": "stream",
     "text": [
      "1\n",
      "7\n",
      "4\n"
     ]
    }
   ],
   "source": [
    "#BITWISE OPERATOR\n",
    "#&,|,~\n",
    "\n",
    "#&\n",
    "print(3 & 5)\n",
    "# |\n",
    "print(3 | 5)\n",
    "\n",
    "# ~\n",
    "print(~3 & 5)\n"
   ]
  },
  {
   "cell_type": "code",
   "execution_count": 56,
   "id": "0c1ab039",
   "metadata": {},
   "outputs": [
    {
     "data": {
      "text/plain": [
       "'0b11'"
      ]
     },
     "execution_count": 56,
     "metadata": {},
     "output_type": "execute_result"
    }
   ],
   "source": [
    "bin(3)"
   ]
  },
  {
   "cell_type": "code",
   "execution_count": null,
   "id": "727fad83",
   "metadata": {},
   "outputs": [],
   "source": []
  }
 ],
 "metadata": {
  "kernelspec": {
   "display_name": "Python 3",
   "language": "python",
   "name": "python3"
  },
  "language_info": {
   "codemirror_mode": {
    "name": "ipython",
    "version": 3
   },
   "file_extension": ".py",
   "mimetype": "text/x-python",
   "name": "python",
   "nbconvert_exporter": "python",
   "pygments_lexer": "ipython3",
   "version": "3.13.5"
  }
 },
 "nbformat": 4,
 "nbformat_minor": 5
}
