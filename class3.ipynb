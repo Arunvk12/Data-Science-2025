{
 "cells": [
  {
   "cell_type": "code",
   "execution_count": null,
   "id": "fe30eef3",
   "metadata": {},
   "outputs": [
    {
     "name": "stdout",
     "output_type": "stream",
     "text": [
      "<class 'list'>\n",
      "3\n",
      "<class 'int'> <class 'float'> <class 'str'>\n"
     ]
    }
   ],
   "source": [
    "x=[12,3.4,\"data\"]#list is the collection of different data types and they are mutable(chanageable)\n",
    "print(type(x))\n",
    "print(len(x))\n",
    "print(type(x[0]),type(x[1]),type(x[2]))"
   ]
  },
  {
   "cell_type": "code",
   "execution_count": null,
   "id": "e3a7547d",
   "metadata": {},
   "outputs": [],
   "source": [
    "#list is a collection of different elements contain different data types\n",
    "#list is mutable because the elements can be changed in list where as in string elements cannot be changed because string is immutable"
   ]
  },
  {
   "cell_type": "code",
   "execution_count": null,
   "id": "6d29eec2",
   "metadata": {},
   "outputs": [
    {
     "name": "stdout",
     "output_type": "stream",
     "text": [
      "22\n",
      "[22, 3.4, 'data']\n"
     ]
    }
   ],
   "source": [
    "x[0]=22\n",
    "print(x[0])#in list we can add values and we can also change\n",
    "print(x)"
   ]
  },
  {
   "cell_type": "code",
   "execution_count": null,
   "id": "cae17937",
   "metadata": {},
   "outputs": [],
   "source": [
    "# x=\"abc\"\n",
    "# x[0]=\"aaaaa error occureded\"#in string we cant modify as the list theyfore they are immutable"
   ]
  },
  {
   "cell_type": "code",
   "execution_count": 19,
   "id": "68f51faf",
   "metadata": {},
   "outputs": [
    {
     "name": "stdout",
     "output_type": "stream",
     "text": [
      "<class 'list'>\n"
     ]
    },
    {
     "data": {
      "text/plain": [
       "4"
      ]
     },
     "execution_count": 19,
     "metadata": {},
     "output_type": "execute_result"
    }
   ],
   "source": [
    "f=[143,33,[5,6,4]]\n",
    "print(type(f))\n",
    "f[2][2]"
   ]
  },
  {
   "cell_type": "code",
   "execution_count": null,
   "id": "0bb437b8",
   "metadata": {},
   "outputs": [
    {
     "data": {
      "text/plain": [
       "'ine'"
      ]
     },
     "execution_count": 37,
     "metadata": {},
     "output_type": "execute_result"
    }
   ],
   "source": [
    "x=[1,2,3,[\"data science\",\"machine\"],[ \"learning\"]]\n",
    "x[3][-1][-3]\n"
   ]
  },
  {
   "cell_type": "code",
   "execution_count": 40,
   "id": "4dfd81a2",
   "metadata": {},
   "outputs": [
    {
     "data": {
      "text/plain": [
       "'ING'"
      ]
     },
     "execution_count": 44,
     "metadata": {},
     "output_type": "execute_result"
    }
   ],
   "source": [
    "x=[1,2,3,[\"data science\",\"machine\"],[\"learning\"]]\n",
    "x[4][0][-3:].upper()"
   ]
  },
  {
   "cell_type": "code",
   "execution_count": 3,
   "id": "ff8b909e",
   "metadata": {},
   "outputs": [
    {
     "data": {
      "text/plain": [
       "[[['Monday', [24.5, 34.2, 22.1, 36.0]],\n",
       "  ['Tuesday', [25.0, 33.5, 23.0, 35.5]],\n",
       "  ['Wednesday', [23.8, 32.0, 21.5, 34.0]]],\n",
       " [['Monday', [26.1, 35.0, 24.2, 37.2]],\n",
       "  ['Tuesday', [25.8, 34.5, 23.7, 36.1]],\n",
       "  ['Wednesday', [24.9, 33.3, 22.5, 35.7]]]]"
      ]
     },
     "execution_count": 3,
     "metadata": {},
     "output_type": "execute_result"
    }
   ],
   "source": [
    "temperature_data = [\n",
    "\n",
    "[\n",
    "\n",
    "# Week 1\n",
    "\n",
    "[\"Monday\",[24.5, 34.2, 22.1, 36.0]],\n",
    "\n",
    "\n",
    "\n",
    "[\"Tuesday\",[25.0, 33.5, 23.0, 35.5]],\n",
    "\n",
    "[\"Wednesday\",[23.8, 32.0, 21.5, 34.0]],\n",
    "\n",
    "\n",
    "],\n",
    "\n",
    "[\n",
    "\n",
    "# Week 2\n",
    "\n",
    "[\"Monday\",[26.1, 35.0, 24.2, 37.2]],\n",
    "\n",
    "[\"Tuesday\",[25.8, 34.5, 23.7, 36.1]],\n",
    "\n",
    "[\"Wednesday\",[24.9, 33.3, 22.5, 35.7]],\n",
    "\n",
    "]\n",
    "\n",
    "]\n",
    "temperature_data"
   ]
  },
  {
   "cell_type": "code",
   "execution_count": 4,
   "id": "0e12e7bc",
   "metadata": {},
   "outputs": [
    {
     "data": {
      "text/plain": [
       "[23.8, 32.0, 21.5, 34.0]"
      ]
     },
     "execution_count": 4,
     "metadata": {},
     "output_type": "execute_result"
    }
   ],
   "source": [
    "temperature_data[0][2][1]"
   ]
  },
  {
   "cell_type": "code",
   "execution_count": 5,
   "id": "d6a63e0d",
   "metadata": {},
   "outputs": [
    {
     "data": {
      "text/plain": [
       "36.1"
      ]
     },
     "execution_count": 5,
     "metadata": {},
     "output_type": "execute_result"
    }
   ],
   "source": [
    "temperature_data[1][1][1][-1]"
   ]
  },
  {
   "cell_type": "code",
   "execution_count": 7,
   "id": "b7562200",
   "metadata": {},
   "outputs": [
    {
     "data": {
      "text/plain": [
       "36.1"
      ]
     },
     "execution_count": 7,
     "metadata": {},
     "output_type": "execute_result"
    }
   ],
   "source": [
    "temperature_data[-1][-2][-1][-1]"
   ]
  },
  {
   "cell_type": "code",
   "execution_count": 11,
   "id": "7488e43c",
   "metadata": {},
   "outputs": [
    {
     "data": {
      "text/plain": [
       "[1, 2, 3, 10]"
      ]
     },
     "execution_count": 11,
     "metadata": {},
     "output_type": "execute_result"
    }
   ],
   "source": [
    "#now methods of list \n",
    "#append where it adds element in the list at the end\n",
    "x=[1,2,3]\n",
    "x.append(10)\n",
    "x\n"
   ]
  },
  {
   "cell_type": "code",
   "execution_count": 13,
   "id": "365e4177",
   "metadata": {},
   "outputs": [
    {
     "data": {
      "text/plain": [
       "[1, 2, 3, [1, 2, 3]]"
      ]
     },
     "execution_count": 13,
     "metadata": {},
     "output_type": "execute_result"
    }
   ],
   "source": [
    "x=[1,2,3]\n",
    "x.append([1,2,3])\n",
    "x"
   ]
  },
  {
   "cell_type": "code",
   "execution_count": null,
   "id": "382ee907",
   "metadata": {},
   "outputs": [
    {
     "data": {
      "text/plain": [
       "[1, 2, 3, 6, 9, 8]"
      ]
     },
     "execution_count": 14,
     "metadata": {},
     "output_type": "execute_result"
    }
   ],
   "source": [
    "#extend where it extract the element  and add to the list it works based on index\n",
    "x=[1,2,3]\n",
    "x.extend([6,9,8])\n",
    "x"
   ]
  },
  {
   "cell_type": "code",
   "execution_count": 21,
   "id": "3381ea9a",
   "metadata": {},
   "outputs": [
    {
     "data": {
      "text/plain": [
       "[34, 56, 78, 'a', 'b', 'c', 'abc']"
      ]
     },
     "execution_count": 21,
     "metadata": {},
     "output_type": "execute_result"
    }
   ],
   "source": [
    "x=[34,56,78]\n",
    "x.extend(\"abc\")\n",
    "x.extend([\"abc\"])\n",
    "x"
   ]
  },
  {
   "cell_type": "code",
   "execution_count": null,
   "id": "a9ac4c57",
   "metadata": {},
   "outputs": [
    {
     "data": {
      "text/plain": [
       "[3, 5]"
      ]
     },
     "execution_count": 22,
     "metadata": {},
     "output_type": "execute_result"
    }
   ],
   "source": [
    "x=[3,5,6]#these remove is used to remove the specfic element in the list\n",
    "x.remove(6)\n",
    "x"
   ]
  },
  {
   "cell_type": "code",
   "execution_count": 24,
   "id": "9a45d691",
   "metadata": {},
   "outputs": [
    {
     "data": {
      "text/plain": [
       "[12, 'inserted', 4, 5]"
      ]
     },
     "execution_count": 24,
     "metadata": {},
     "output_type": "execute_result"
    }
   ],
   "source": [
    "x=[12,4,5]\n",
    "x.insert(1,\"inserted\")#these is insert method where in the bracket the left side is the index that were we need to insert and the right side is the which element you want to insert\n",
    "x#if we give the position as large number then it will inserted as last(20,insert)\n"
   ]
  },
  {
   "cell_type": "code",
   "execution_count": null,
   "id": "13fd9972",
   "metadata": {},
   "outputs": [
    {
     "data": {
      "text/plain": [
       "[1, 2, 5, 8]"
      ]
     },
     "execution_count": 25,
     "metadata": {},
     "output_type": "execute_result"
    }
   ],
   "source": [
    "x=[5,8,2,1]#sort method is used to sort the list element in the acsending order and it takes gedault as ascending \n",
    "x.sort()\n",
    "x"
   ]
  },
  {
   "cell_type": "code",
   "execution_count": null,
   "id": "5b6b8d8f",
   "metadata": {},
   "outputs": [
    {
     "data": {
      "text/plain": [
       "['Aaa', 'aaa', 'asd']"
      ]
     },
     "execution_count": 28,
     "metadata": {},
     "output_type": "execute_result"
    }
   ],
   "source": [
    "x=[\"asd\",\"aaa\",\"Aaa\"]\n",
    "x.sort()#always captial letter first and if we combine both int and char it throws error \n",
    "x"
   ]
  },
  {
   "cell_type": "code",
   "execution_count": 29,
   "id": "c2a052f2",
   "metadata": {},
   "outputs": [
    {
     "data": {
      "text/plain": [
       "['asd', 'aaa', 'Aaa']"
      ]
     },
     "execution_count": 29,
     "metadata": {},
     "output_type": "execute_result"
    }
   ],
   "source": [
    "x=[\"asd\",\"aaa\",\"Aaa\"]\n",
    "x.sort(reverse=True)#it used for descending order\n",
    "x"
   ]
  },
  {
   "cell_type": "code",
   "execution_count": 31,
   "id": "7ec46db6",
   "metadata": {},
   "outputs": [
    {
     "data": {
      "text/plain": [
       "[9, 1, 1, 4, 6]"
      ]
     },
     "execution_count": 31,
     "metadata": {},
     "output_type": "execute_result"
    }
   ],
   "source": [
    "x=[6,4,1,1,9]\n",
    "x.reverse()#it used reverse the data just like mirror\n",
    "x"
   ]
  },
  {
   "cell_type": "code",
   "execution_count": null,
   "id": "b61ab36a",
   "metadata": {},
   "outputs": [
    {
     "name": "stdout",
     "output_type": "stream",
     "text": [
      "[1, 2, 4, 3333]\n",
      "[1, 2, 4, 3333]\n"
     ]
    }
   ],
   "source": [
    "#shallow copy or copy by references\n",
    "x=[1,2,4,3]\n",
    "y=x\n",
    "y[3]=3333#if you any modify in the y variable it changes in the x variable\n",
    "print(y)\n",
    "print(x)"
   ]
  },
  {
   "cell_type": "code",
   "execution_count": 36,
   "id": "9c02e70f",
   "metadata": {},
   "outputs": [
    {
     "name": "stdout",
     "output_type": "stream",
     "text": [
      "[1, 2, 4, 3333]\n",
      "[1, 2, 4, 3]\n"
     ]
    }
   ],
   "source": [
    "x=[1,2,4,3]\n",
    "y=x.copy()#deep copy where it not get reflected\n",
    "y[3]=3333\n",
    "print(y)\n",
    "print(x)"
   ]
  },
  {
   "cell_type": "code",
   "execution_count": null,
   "id": "0c613172",
   "metadata": {},
   "outputs": [
    {
     "name": "stdout",
     "output_type": "stream",
     "text": [
      "3\n"
     ]
    }
   ],
   "source": [
    "#count\n",
    "x=[1,2,3,1,1,5]#it counts the no of occuraines\n",
    "print(x.count(1))"
   ]
  },
  {
   "cell_type": "code",
   "execution_count": null,
   "id": "da714103",
   "metadata": {},
   "outputs": [
    {
     "data": {
      "text/plain": [
       "[4, 3, 2, 1, 8]"
      ]
     },
     "execution_count": 41,
     "metadata": {},
     "output_type": "execute_result"
    }
   ],
   "source": [
    "#pop\n",
    "x=[4,5,3,2,1,8]#pop removes the index but the remove method it removes the spicifc number or element which we give \n",
    "x.pop(1)#by default last value\n",
    "x\n",
    "   "
   ]
  },
  {
   "cell_type": "code",
   "execution_count": null,
   "id": "a0b67c15",
   "metadata": {},
   "outputs": [],
   "source": [
    "#tuple\n",
    "#it is a small data type it has only two functions\n",
    "#tuple is inmutable we can't modify the elements inside the tuple\n",
    "#it helps to the store the values which are fixed but later no one can change it"
   ]
  },
  {
   "cell_type": "code",
   "execution_count": 42,
   "id": "3d5f4167",
   "metadata": {},
   "outputs": [
    {
     "data": {
      "text/plain": [
       "2"
      ]
     },
     "execution_count": 42,
     "metadata": {},
     "output_type": "execute_result"
    }
   ],
   "source": [
    "#count in tuple\n",
    "x=(10,20,30,10)\n",
    "x.count(10)\n"
   ]
  },
  {
   "cell_type": "code",
   "execution_count": 46,
   "id": "e9372053",
   "metadata": {},
   "outputs": [
    {
     "data": {
      "text/plain": [
       "2"
      ]
     },
     "execution_count": 46,
     "metadata": {},
     "output_type": "execute_result"
    }
   ],
   "source": [
    "#index in tuple\n",
    "x=(10,20,30,10)\n",
    "x.index(30)"
   ]
  },
  {
   "cell_type": "code",
   "execution_count": null,
   "id": "4c085a70",
   "metadata": {},
   "outputs": [
    {
     "name": "stdout",
     "output_type": "stream",
     "text": [
      "6months\n",
      "data science\n"
     ]
    }
   ],
   "source": [
    "#DICTIONARIES\n",
    "student={\"name\":\"data science\",\"duration\":\"6months\"}\n",
    "#in dict we have key and values and we dont use the index in the dict\n",
    "print(student[\"duration\"]#[] \n",
    ")\n",
    "print(student[\"name\"])\n",
    "#only datatype is not used in the pair of key is list remaining data types can be used shuch as 1:\"value\",2.0:\"value\",(1,2,3):\"value\""
   ]
  },
  {
   "cell_type": "code",
   "execution_count": 54,
   "id": "a342717e",
   "metadata": {},
   "outputs": [],
   "source": [
    "employee_data = {\n",
    "\"EMP001\": {\n",
    "\"name\": \"Rahul Sharma\",\n",
    "\"age\": 29,\n",
    "\"department\":  \"Finance\"\n",
    "},\n",
    "\"EMP002\": {\n",
    "\"name\": \"Priya Iyer\",\n",
    "\"age\": 26,\n",
    "\"department\": \"Human Resources\"\n",
    "}\n",
    "} "
   ]
  },
  {
   "cell_type": "code",
   "execution_count": 56,
   "id": "e52d2bb9",
   "metadata": {},
   "outputs": [
    {
     "data": {
      "text/plain": [
       "'Finance'"
      ]
     },
     "execution_count": 56,
     "metadata": {},
     "output_type": "execute_result"
    }
   ],
   "source": [
    "employee_data[\"EMP001\"][\"department\"]"
   ]
  },
  {
   "cell_type": "code",
   "execution_count": 57,
   "id": "fd0a84d3",
   "metadata": {},
   "outputs": [
    {
     "data": {
      "text/plain": [
       "26"
      ]
     },
     "execution_count": 57,
     "metadata": {},
     "output_type": "execute_result"
    }
   ],
   "source": [
    "employee_data[\"EMP002\"][\"age\"]"
   ]
  },
  {
   "cell_type": "code",
   "execution_count": null,
   "id": "7a6a4eb5",
   "metadata": {},
   "outputs": [],
   "source": [
    "#.keys() is a in built function which helps to give the keys in the dictinoary"
   ]
  },
  {
   "cell_type": "code",
   "execution_count": 58,
   "id": "49346570",
   "metadata": {},
   "outputs": [
    {
     "data": {
      "text/plain": [
       "dict_keys(['name', 'data'])"
      ]
     },
     "execution_count": 58,
     "metadata": {},
     "output_type": "execute_result"
    }
   ],
   "source": [
    "dict={\"name\":\"data science\",\"data\":\"15/07/2003\"}\n",
    "dict.keys()"
   ]
  },
  {
   "cell_type": "code",
   "execution_count": 60,
   "id": "33c7a13f",
   "metadata": {},
   "outputs": [
    {
     "data": {
      "text/plain": [
       "dict_values(['data science', '15/07/2003'])"
      ]
     },
     "execution_count": 60,
     "metadata": {},
     "output_type": "execute_result"
    }
   ],
   "source": [
    "dict.values()"
   ]
  },
  {
   "cell_type": "code",
   "execution_count": 61,
   "id": "6bb449a0",
   "metadata": {},
   "outputs": [
    {
     "data": {
      "text/plain": [
       "dict_items([('name', 'data science'), ('data', '15/07/2003')])"
      ]
     },
     "execution_count": 61,
     "metadata": {},
     "output_type": "execute_result"
    }
   ],
   "source": [
    "#items is a combination of both key and value\n",
    "dict.items()"
   ]
  },
  {
   "cell_type": "code",
   "execution_count": 63,
   "id": "6cf0e9e5",
   "metadata": {},
   "outputs": [
    {
     "data": {
      "text/plain": [
       "{'name': 'data', 'data': '15/07/2003'}"
      ]
     },
     "execution_count": 63,
     "metadata": {},
     "output_type": "execute_result"
    }
   ],
   "source": [
    "#dict is mutable we can modify the values\n",
    "dict[\"name\"]=\"data\"\n",
    "dict"
   ]
  },
  {
   "cell_type": "code",
   "execution_count": 65,
   "id": "2e5e6b52",
   "metadata": {},
   "outputs": [
    {
     "data": {
      "text/plain": [
       "{'name': 'data', 'data': '15/07/2003', 'new name': 'data3'}"
      ]
     },
     "execution_count": 65,
     "metadata": {},
     "output_type": "execute_result"
    }
   ],
   "source": [
    "dict[\"new name\"]=\"data3\"\n",
    "dict"
   ]
  },
  {
   "cell_type": "code",
   "execution_count": null,
   "id": "07cd8865",
   "metadata": {},
   "outputs": [
    {
     "data": {
      "text/plain": [
       "{'name': 'datascience', 'data': '15/07/2003', 'new name': 'data3'}"
      ]
     },
     "execution_count": 68,
     "metadata": {},
     "output_type": "execute_result"
    }
   ],
   "source": [
    "dict.update({\"name\":\"datascience\"})\n",
    "dict#these update is used to update the data or even add the new data\n"
   ]
  },
  {
   "cell_type": "code",
   "execution_count": null,
   "id": "40450945",
   "metadata": {},
   "outputs": [
    {
     "data": {
      "text/plain": [
       "'data3'"
      ]
     },
     "execution_count": 82,
     "metadata": {},
     "output_type": "execute_result"
    }
   ],
   "source": [
    "dict.pop(\"new name\")#it is use to remove the key "
   ]
  },
  {
   "cell_type": "code",
   "execution_count": 83,
   "id": "60fa4d26",
   "metadata": {},
   "outputs": [
    {
     "data": {
      "text/plain": [
       "{'name': 'datascience'}"
      ]
     },
     "execution_count": 83,
     "metadata": {},
     "output_type": "execute_result"
    }
   ],
   "source": [
    "dict"
   ]
  },
  {
   "cell_type": "code",
   "execution_count": 84,
   "id": "7fddc424",
   "metadata": {},
   "outputs": [
    {
     "data": {
      "text/plain": [
       "('name', 'datascience')"
      ]
     },
     "execution_count": 84,
     "metadata": {},
     "output_type": "execute_result"
    }
   ],
   "source": [
    "dict.popitem()#it used to remove the last element"
   ]
  },
  {
   "cell_type": "code",
   "execution_count": 85,
   "id": "b5ec7af3",
   "metadata": {},
   "outputs": [
    {
     "data": {
      "text/plain": [
       "{}"
      ]
     },
     "execution_count": 85,
     "metadata": {},
     "output_type": "execute_result"
    }
   ],
   "source": [
    "dict"
   ]
  },
  {
   "cell_type": "code",
   "execution_count": 87,
   "id": "bf3ea1bf",
   "metadata": {},
   "outputs": [
    {
     "data": {
      "text/plain": [
       "{}"
      ]
     },
     "execution_count": 87,
     "metadata": {},
     "output_type": "execute_result"
    }
   ],
   "source": [
    "d={\"s\":1233444243,\"a\":2323131233}\n",
    "d.clear()#it complete clear the dicticonary\n",
    "d"
   ]
  }
 ],
 "metadata": {
  "kernelspec": {
   "display_name": "Python 3",
   "language": "python",
   "name": "python3"
  },
  "language_info": {
   "codemirror_mode": {
    "name": "ipython",
    "version": 3
   },
   "file_extension": ".py",
   "mimetype": "text/x-python",
   "name": "python",
   "nbconvert_exporter": "python",
   "pygments_lexer": "ipython3",
   "version": "3.13.5"
  }
 },
 "nbformat": 4,
 "nbformat_minor": 5
}
