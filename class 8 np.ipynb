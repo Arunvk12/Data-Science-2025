{
 "cells": [
  {
   "cell_type": "code",
   "execution_count": 5,
   "id": "0c4926f6",
   "metadata": {},
   "outputs": [
    {
     "data": {
      "text/plain": [
       "numpy.ndarray"
      ]
     },
     "execution_count": 5,
     "metadata": {},
     "output_type": "execute_result"
    }
   ],
   "source": [
    "import numpy as np\n",
    "type(np.array([1,2,3]))\n"
   ]
  },
  {
   "cell_type": "code",
   "execution_count": 7,
   "id": "5ce5bcdd",
   "metadata": {},
   "outputs": [
    {
     "data": {
      "text/plain": [
       "array([[174,  57, 147,  22,  55],\n",
       "       [ 60,  91, 137,  99, 103],\n",
       "       [162, 142,  92,  52,  80],\n",
       "       [ 50,  58, 171,  33, 191],\n",
       "       [ 62,  65, 103,  66,   8]], dtype=int32)"
      ]
     },
     "execution_count": 7,
     "metadata": {},
     "output_type": "execute_result"
    }
   ],
   "source": [
    "data=np.random.randint(1,200,(5,5))\n",
    "data"
   ]
  },
  {
   "cell_type": "code",
   "execution_count": 10,
   "id": "cab9d0b9",
   "metadata": {},
   "outputs": [
    {
     "name": "stdout",
     "output_type": "stream",
     "text": [
      "174\n",
      "[[ 92  52]\n",
      " [171  33]]\n",
      "[[33]]\n"
     ]
    }
   ],
   "source": [
    "print(data[0,0])\n",
    "print(data[-3:-1,-3:-1])\n",
    "print(data[-2:-1,-2:-1])\n"
   ]
  },
  {
   "cell_type": "code",
   "execution_count": 12,
   "id": "9ff5e4f4",
   "metadata": {},
   "outputs": [
    {
     "name": "stdout",
     "output_type": "stream",
     "text": [
      "<class 'list'>\n",
      "<class 'numpy.ndarray'>\n"
     ]
    }
   ],
   "source": [
    "x=[1,2,3]#these is list data type               \n",
    "print(type(x))\n",
    "y=np.array([1,2,3])# numpy array data type\n",
    "print(type(y))"
   ]
  },
  {
   "cell_type": "code",
   "execution_count": null,
   "id": "4542fad8",
   "metadata": {},
   "outputs": [
    {
     "data": {
      "text/plain": [
       "array([0.5, 1. , 1.5])"
      ]
     },
     "execution_count": 15,
     "metadata": {},
     "output_type": "execute_result"
    }
   ],
   "source": [
    "#list vs np array differences \n",
    "#1st one is we can't divide for performe opearation directly in list but in np arrary we can\n",
    "# x/2 error occered\n",
    "y/2#it perfoms operation all at onces beacuse it designed for that"
   ]
  },
  {
   "cell_type": "code",
   "execution_count": null,
   "id": "90728516",
   "metadata": {},
   "outputs": [
    {
     "name": "stdout",
     "output_type": "stream",
     "text": [
      "[1, 2, 3, 6.0]\n",
      "[1. 2. 3. 6.]\n"
     ]
    }
   ],
   "source": [
    "#2nd one is in list float remains float but in numpy all the elements are float\n",
    "x=[1,2,3,6.0]\n",
    "y=np.array([1,2,3,6.0])\n",
    "print(x)\n",
    "print(y)#it ascpect to have all same data type it changes when in the array which has highest data type"
   ]
  },
  {
   "cell_type": "code",
   "execution_count": null,
   "id": "1b361de8",
   "metadata": {},
   "outputs": [
    {
     "data": {
      "text/plain": [
       "[1, 2, 3, 'data']"
      ]
     },
     "execution_count": 18,
     "metadata": {},
     "output_type": "execute_result"
    }
   ],
   "source": [
    "y=[1,2,3,\"data\"]#data type changes as per the highest priority of data atype\n",
    "y"
   ]
  },
  {
   "cell_type": "code",
   "execution_count": null,
   "id": "137803e4",
   "metadata": {},
   "outputs": [],
   "source": [
    "#performanes type np array is better  it use backend as c programming lang and it is memory efficient it stores the same data type where as compared to list it stores every element of different data type soo"
   ]
  },
  {
   "cell_type": "code",
   "execution_count": null,
   "id": "9a322437",
   "metadata": {},
   "outputs": [],
   "source": [
    "#3d one \n",
    "#list->hetrogenous element as different data type\n",
    "#numpy->omogenous as same data type"
   ]
  },
  {
   "cell_type": "code",
   "execution_count": null,
   "id": "9a926966",
   "metadata": {},
   "outputs": [],
   "source": [
    "#random family functions\n",
    "#radnomly generate integer numbers"
   ]
  },
  {
   "cell_type": "code",
   "execution_count": 21,
   "id": "ca96d8da",
   "metadata": {},
   "outputs": [
    {
     "data": {
      "text/plain": [
       "array([[65, 88, 29, 87, 80],\n",
       "       [70, 27, 57, 42, 57],\n",
       "       [75, 89,  6, 23, 97],\n",
       "       [90, 16, 61, 48, 48],\n",
       "       [28, 76, 74,  9, 72]], dtype=int32)"
      ]
     },
     "execution_count": 21,
     "metadata": {},
     "output_type": "execute_result"
    }
   ],
   "source": [
    "np.random.randint(0,100,(5,5))"
   ]
  },
  {
   "cell_type": "code",
   "execution_count": null,
   "id": "12f41771",
   "metadata": {},
   "outputs": [
    {
     "data": {
      "text/plain": [
       "array([[0.21838366, 0.26972735, 0.78250347],\n",
       "       [0.939789  , 0.8694213 , 0.06718863],\n",
       "       [0.00376329, 0.13187935, 0.68539606]])"
      ]
     },
     "execution_count": 28,
     "metadata": {},
     "output_type": "execute_result"
    }
   ],
   "source": [
    "np.random.rand(3,3)\n",
    "#it always fallow range 0 to 1"
   ]
  },
  {
   "cell_type": "code",
   "execution_count": null,
   "id": "0b8262e1",
   "metadata": {},
   "outputs": [
    {
     "data": {
      "text/plain": [
       "array([0.        , 0.33333333, 0.66666667, 1.        ])"
      ]
     },
     "execution_count": 31,
     "metadata": {},
     "output_type": "execute_result"
    }
   ],
   "source": [
    "#normalization or ,min max dara\n",
    "data=np.array([1,2,3,4])\n",
    "(data-data.min())/(data.max()-data.min())"
   ]
  },
  {
   "cell_type": "code",
   "execution_count": null,
   "id": "e4352ee4",
   "metadata": {},
   "outputs": [],
   "source": []
  }
 ],
 "metadata": {
  "kernelspec": {
   "display_name": "Python 3",
   "language": "python",
   "name": "python3"
  },
  "language_info": {
   "codemirror_mode": {
    "name": "ipython",
    "version": 3
   },
   "file_extension": ".py",
   "mimetype": "text/x-python",
   "name": "python",
   "nbconvert_exporter": "python",
   "pygments_lexer": "ipython3",
   "version": "3.13.6"
  }
 },
 "nbformat": 4,
 "nbformat_minor": 5
}
