{
 "cells": [
  {
   "cell_type": "code",
   "execution_count": 2,
   "id": "5e45df41",
   "metadata": {},
   "outputs": [
    {
     "name": "stdout",
     "output_type": "stream",
     "text": [
      "[[    1 25000   300  1200    10]\n",
      " [    2 32000   450  1500    15]\n",
      " [    3 28000   380  1100     8]\n",
      " [    4 41000   500  1600    20]\n",
      " [    5 35000   420  1400    12]\n",
      " [    6 27000   360  1300     9]\n",
      " [    7 39000   480  1700    18]\n",
      " [    8 30000   400  1250    14]\n",
      " [    9 45000   550  1800    25]\n",
      " [   10 33000   410  1450    11]]\n",
      "[Store ID, Sales, Customers, Inventory, Returns] \n"
     ]
    }
   ],
   "source": [
    "import numpy as np\n",
    "\n",
    "# Manually created array: [Store ID, Sales, Customers, Inventory, Returns]\n",
    "retail_data = np.array([\n",
    "    [1, 25000, 300, 1200, 10],\n",
    "    [2, 32000, 450, 1500, 15],\n",
    "    [3, 28000, 380, 1100, 8],\n",
    "    [4, 41000, 500, 1600, 20],\n",
    "    [5, 35000, 420, 1400, 12],\n",
    "    [6, 27000, 360, 1300, 9],\n",
    "    [7, 39000, 480, 1700, 18],\n",
    "    [8, 30000, 400, 1250, 14],\n",
    "    [9, 45000, 550, 1800, 25],\n",
    "    [10, 33000, 410, 1450, 11]\n",
    "])\n",
    "\n",
    "print(retail_data)\n",
    "print(\"[Store ID, Sales, Customers, Inventory, Returns] \")"
   ]
  },
  {
   "cell_type": "code",
   "execution_count": null,
   "id": "a3f58d4b",
   "metadata": {},
   "outputs": [],
   "source": [
    "# Retail Data – Business Questions (for `retail_data`)\n",
    "\n",
    "**Assumed columns:** `[StoreID, Sales, Customers, Inventory, Returns]`\n",
    "\n",
    "## Basic Performance Analysis\n",
    "1. What is the **total revenue** generated across all stores?\n",
    "2. Which store recorded the **highest sales**?\n",
    "3. Which store recorded the **lowest sales**?\n",
    "4. What is the **average daily sales** per store?\n",
    "5. How many stores achieved sales **above ₹35,000**?\n",
    "\n",
    "## Customer Insights\n",
    "6. Which store had the **highest customer footfall**?\n",
    "7. What is the **average number of customers** per store?\n",
    "8. How many stores have **more than 450 customers**?\n",
    "9. Which store has the **lowest customer count**?\n",
    "10. Is there any store where **high sales do not correspond to high customers**?\n",
    "\n",
    "## Inventory & Returns Analysis\n",
    "11. What is the **total inventory** across all stores?\n",
    "12. Which store has the **highest inventory stock**?\n",
    "13. How many stores have **inventory less than 1300 units**?\n",
    "14. Which store has the **highest return rate** (returns ÷ inventory)?\n",
    "15. Which stores have **returns greater than 15 units**?\n",
    "\n",
    "## Sales & Customer Correlation\n",
    "16. Is there a **positive correlation** between sales and customers?\n",
    "17. Which store has **high customer visits but low sales**?\n",
    "18. Which store has **low customers but high sales**?\n",
    "19. How many stores have **sales per customer above ₹90**?\n",
    "20. Which stores could **benefit from customer acquisition campaigns** (low customers, high inventory)?\n",
    "\n",
    "## Profitability & Growth\n",
    "21. If profit margin is **20% of sales**, what is the **profit per store**?\n",
    "22. Which store has the **highest profit**?\n",
    "23. Which store has the **lowest profit**?\n",
    "24. If sales increase by **10% next month**, what are the **new sales figures**?\n",
    "25. How will **total profit** change with the 10% sales increase?\n",
    "\n",
    "## Operational Strategy\n",
    "26. Which stores need **inventory restocking** based on sales and current stock?\n",
    "27. Which stores show **high returns percentage** and might require **quality checks**?\n",
    "28. Which store is the **best performer overall** (sales, customers, inventory turnover)?\n",
    "29. Which store is the **worst performer overall**?\n",
    "30. Which stores can be considered for **expansion** based on strong sales and customer metrics?\n"
   ]
  },
  {
   "cell_type": "code",
   "execution_count": null,
   "id": "8f105b1f",
   "metadata": {},
   "outputs": [],
   "source": [
    "## Basic Performance Analysis\n",
    "1. What is the **total revenue** generated across all stores?\n",
    "2. Which store recorded the **highest sales**?\n",
    "3. Which store recorded the **lowest sales**?\n",
    "4. What is the **average daily sales** per store?\n",
    "5. How many stores achieved sales **above ₹35,000**?\n"
   ]
  },
  {
   "cell_type": "code",
   "execution_count": 4,
   "id": "31605640",
   "metadata": {},
   "outputs": [
    {
     "data": {
      "text/plain": [
       "np.int64(335000)"
      ]
     },
     "execution_count": 4,
     "metadata": {},
     "output_type": "execute_result"
    }
   ],
   "source": [
    "# 1. What is the **total revenue** generated across all stores?\n",
    "retail_data[:,1].sum()"
   ]
  },
  {
   "cell_type": "code",
   "execution_count": 5,
   "id": "c257d183",
   "metadata": {},
   "outputs": [
    {
     "data": {
      "text/plain": [
       "np.int64(9)"
      ]
     },
     "execution_count": 5,
     "metadata": {},
     "output_type": "execute_result"
    }
   ],
   "source": [
    "# 2.Which store recorded the **highest sales**?\n",
    "retail_data[:,1].argmax()+1"
   ]
  },
  {
   "cell_type": "code",
   "execution_count": 8,
   "id": "7a712f02",
   "metadata": {},
   "outputs": [
    {
     "data": {
      "text/plain": [
       "np.int64(1)"
      ]
     },
     "execution_count": 8,
     "metadata": {},
     "output_type": "execute_result"
    }
   ],
   "source": [
    "# 3.Which store recorded the **lowest sales**?\n",
    "retail_data[:,1].argmin()+1"
   ]
  },
  {
   "cell_type": "code",
   "execution_count": 14,
   "id": "5cf54f3d",
   "metadata": {},
   "outputs": [
    {
     "data": {
      "text/plain": [
       "np.float64(33500.0)"
      ]
     },
     "execution_count": 14,
     "metadata": {},
     "output_type": "execute_result"
    }
   ],
   "source": [
    "# 4. What is the **average daily sales** per store?\n",
    "avg=retail_data[:,1].mean()\n",
    "avg\n"
   ]
  },
  {
   "cell_type": "code",
   "execution_count": 15,
   "id": "10113448",
   "metadata": {},
   "outputs": [
    {
     "data": {
      "text/plain": [
       "array([False, False, False,  True, False, False,  True, False,  True,\n",
       "       False])"
      ]
     },
     "execution_count": 15,
     "metadata": {},
     "output_type": "execute_result"
    }
   ],
   "source": [
    "# 5.How many stores achieved sales **above ₹35,000**?\n",
    "retail_data[:,1]>35000"
   ]
  },
  {
   "cell_type": "code",
   "execution_count": null,
   "id": "b813f189",
   "metadata": {},
   "outputs": [],
   "source": [
    "## Customer Insights\n",
    "6. Which store had the **highest customer footfall**?\n",
    "7. What is the **average number of customers** per store?\n",
    "8. How many stores have **more than 450 customers**?\n",
    "9. Which store has the **lowest customer count**?\n",
    "10. Is there any store where **high sales do not correspond to high customers**?"
   ]
  },
  {
   "cell_type": "code",
   "execution_count": 26,
   "id": "7ce0df4c",
   "metadata": {},
   "outputs": [
    {
     "data": {
      "text/plain": [
       "np.int64(9)"
      ]
     },
     "execution_count": 26,
     "metadata": {},
     "output_type": "execute_result"
    }
   ],
   "source": [
    "# 6. Which store had the **highest customer footfall**?\n",
    "retail_data[:,2].argmax()+1"
   ]
  },
  {
   "cell_type": "code",
   "execution_count": 28,
   "id": "d69a1b9d",
   "metadata": {},
   "outputs": [
    {
     "data": {
      "text/plain": [
       "np.float64(425.0)"
      ]
     },
     "execution_count": 28,
     "metadata": {},
     "output_type": "execute_result"
    }
   ],
   "source": [
    "# 7. What is the **average number of customers** per store?\n",
    "avg=retail_data[:,2].mean()\n",
    "avg"
   ]
  },
  {
   "cell_type": "code",
   "execution_count": 31,
   "id": "7058b320",
   "metadata": {},
   "outputs": [
    {
     "data": {
      "text/plain": [
       "array([False, False, False,  True, False, False,  True, False,  True,\n",
       "       False])"
      ]
     },
     "execution_count": 31,
     "metadata": {},
     "output_type": "execute_result"
    }
   ],
   "source": [
    "# 8. How many stores have **more than 450 customers**?\n",
    "retail_data[:,2]>450\n"
   ]
  },
  {
   "cell_type": "code",
   "execution_count": 34,
   "id": "26a35599",
   "metadata": {},
   "outputs": [
    {
     "data": {
      "text/plain": [
       "np.int64(1)"
      ]
     },
     "execution_count": 34,
     "metadata": {},
     "output_type": "execute_result"
    }
   ],
   "source": [
    "# 9. Which store has the **lowest customer count**?\n",
    "retail_data[:,2].argmin()+1\n"
   ]
  },
  {
   "cell_type": "code",
   "execution_count": 43,
   "id": "60714956",
   "metadata": {},
   "outputs": [
    {
     "data": {
      "text/plain": [
       "array([[    5, 35000,   420,  1400,    12]])"
      ]
     },
     "execution_count": 43,
     "metadata": {},
     "output_type": "execute_result"
    }
   ],
   "source": [
    "# 10. Is there any store where **high sales do not correspond to high customers**?\n",
    "a = retail_data[:,1].mean()\n",
    "b = retail_data[:,2].mean()\n",
    "res = retail_data[(retail_data[:,1] > a) & (retail_data[:,2]< b)]\n",
    "res"
   ]
  },
  {
   "cell_type": "code",
   "execution_count": null,
   "id": "bbafa5e4",
   "metadata": {},
   "outputs": [],
   "source": [
    "## Inventory & Returns Analysis\n",
    "11. What is the **total inventory** across all stores?\n",
    "12. Which store has the **highest inventory stock**?\n",
    "13. How many stores have **inventory less than 1300 units**?\n",
    "14. Which store has the **highest return rate** (returns ÷ inventory)?\n",
    "15. Which stores have **returns greater than 15 units**?\n"
   ]
  },
  {
   "cell_type": "code",
   "execution_count": 45,
   "id": "19f44a4b",
   "metadata": {},
   "outputs": [
    {
     "data": {
      "text/plain": [
       "np.int64(14300)"
      ]
     },
     "execution_count": 45,
     "metadata": {},
     "output_type": "execute_result"
    }
   ],
   "source": [
    "# 11. What is the **total inventory** across all stores?\n",
    "retail_data[:,3].sum()"
   ]
  },
  {
   "cell_type": "code",
   "execution_count": 47,
   "id": "d667785a",
   "metadata": {},
   "outputs": [
    {
     "data": {
      "text/plain": [
       "np.int64(9)"
      ]
     },
     "execution_count": 47,
     "metadata": {},
     "output_type": "execute_result"
    }
   ],
   "source": [
    "# Which store has the **highest inventory stock**?\n",
    "retail_data[:,3].argmax()+1"
   ]
  },
  {
   "cell_type": "code",
   "execution_count": 48,
   "id": "7b0b67fe",
   "metadata": {},
   "outputs": [
    {
     "data": {
      "text/plain": [
       "array([[    1, 25000,   300,  1200,    10],\n",
       "       [    3, 28000,   380,  1100,     8],\n",
       "       [    8, 30000,   400,  1250,    14]])"
      ]
     },
     "execution_count": 48,
     "metadata": {},
     "output_type": "execute_result"
    }
   ],
   "source": [
    "# 13. How many stores have **inventory less than 1300 units**?\n",
    "retail_data[retail_data[:,3]<1300]"
   ]
  },
  {
   "cell_type": "code",
   "execution_count": 51,
   "id": "d5daca35",
   "metadata": {},
   "outputs": [
    {
     "data": {
      "text/plain": [
       "array([    9, 45000,   550,  1800,    25])"
      ]
     },
     "execution_count": 51,
     "metadata": {},
     "output_type": "execute_result"
    }
   ],
   "source": [
    "# 14. Which store has the **highest return rate** (returns ÷ inventory)?\n",
    "high=retail_data[:,4]/retail_data[:,3]\n",
    "retail_data[high.argmax()]"
   ]
  },
  {
   "cell_type": "code",
   "execution_count": 53,
   "id": "ec54f76a",
   "metadata": {},
   "outputs": [
    {
     "data": {
      "text/plain": [
       "array([[    4, 41000,   500,  1600,    20],\n",
       "       [    7, 39000,   480,  1700,    18],\n",
       "       [    9, 45000,   550,  1800,    25]])"
      ]
     },
     "execution_count": 53,
     "metadata": {},
     "output_type": "execute_result"
    }
   ],
   "source": [
    "# Which stores have **returns greater than 15 units**?\n",
    "retail_data[retail_data[:,4]>15]"
   ]
  },
  {
   "cell_type": "code",
   "execution_count": null,
   "id": "2ade1ad9",
   "metadata": {},
   "outputs": [],
   "source": [
    "## Sales & Customer Correlation\n",
    "16. Is there a **positive correlation** between sales and customers?\n",
    "17. Which store has **high customer visits but low sales**?\n",
    "18. Which store has **low customers but high sales**?\n",
    "19. How many stores have **sales per customer above ₹90**?\n",
    "20. Which stores could **benefit from customer acquisition campaigns** (low customers, high inventory)?"
   ]
  },
  {
   "cell_type": "code",
   "execution_count": 57,
   "id": "540e3bec",
   "metadata": {},
   "outputs": [
    {
     "data": {
      "text/plain": [
       "np.float64(0.9593636912502479)"
      ]
     },
     "execution_count": 57,
     "metadata": {},
     "output_type": "execute_result"
    }
   ],
   "source": [
    "# 16. Is there a **positive correlation** between sales and customers?\n",
    "s=retail_data[:,1]\n",
    "c=retail_data[:,2]\n",
    "np.corrcoef(s,c)[0,1]\n"
   ]
  },
  {
   "cell_type": "code",
   "execution_count": 66,
   "id": "b5209ffc",
   "metadata": {},
   "outputs": [
    {
     "data": {
      "text/plain": [
       "array([[    2, 32000,   450,  1500,    15]])"
      ]
     },
     "execution_count": 66,
     "metadata": {},
     "output_type": "execute_result"
    }
   ],
   "source": [
    "# Which store has **high customer visits but low sales**?\n",
    "a=retail_data[:,2].mean()\n",
    "b=retail_data[:,1].mean()\n",
    "res=retail_data[(retail_data[:,2]>a)& (retail_data[:,1]<b)]\n",
    "res"
   ]
  },
  {
   "cell_type": "code",
   "execution_count": 69,
   "id": "400b55ba",
   "metadata": {},
   "outputs": [
    {
     "data": {
      "text/plain": [
       "array([[    5, 35000,   420,  1400,    12]])"
      ]
     },
     "execution_count": 69,
     "metadata": {},
     "output_type": "execute_result"
    }
   ],
   "source": [
    "# Which store has **low customers but high sales**?\n",
    "a\n",
    "b\n",
    "retail_data[(retail_data[:,2]<a) & (retail_data[:,1]>b)]"
   ]
  },
  {
   "cell_type": "code",
   "execution_count": 83,
   "id": "9da8458e",
   "metadata": {},
   "outputs": [
    {
     "data": {
      "text/plain": [
       "array([], shape=(0, 5), dtype=int64)"
      ]
     },
     "execution_count": 83,
     "metadata": {},
     "output_type": "execute_result"
    }
   ],
   "source": [
    "# 19. How many stores have **sales per customer above ₹90**?\n",
    "s=retail_data[:,1]/retail_data[:,2]\n",
    "# (s>90).sum()\n",
    "retail_data[s>90]"
   ]
  },
  {
   "cell_type": "code",
   "execution_count": 86,
   "id": "0c0c0deb",
   "metadata": {},
   "outputs": [
    {
     "data": {
      "text/plain": [
       "array([[   10, 33000,   410,  1450,    11]])"
      ]
     },
     "execution_count": 86,
     "metadata": {},
     "output_type": "execute_result"
    }
   ],
   "source": [
    "# 20. Which stores could **benefit from customer acquisition campaigns** (low customers, high inventory)?\n",
    "c=retail_data[:,2].mean()\n",
    "i=retail_data[:,3].mean()\n",
    "res=retail_data[(retail_data[:,2]<c) &(retail_data[:,3]>i)]\n",
    "res"
   ]
  },
  {
   "cell_type": "code",
   "execution_count": null,
   "id": "99b2b7dc",
   "metadata": {},
   "outputs": [],
   "source": [
    "## Profitability & Growth\n",
    "21. If profit margin is **20% of sales**, what is the **profit per store**?\n",
    "22. Which store has the **highest profit**?\n",
    "23. Which store has the **lowest profit**?\n",
    "24. If sales increase by **10% next month**, what are the **new sales figures**?\n",
    "25. How will **total profit** change with the 10% sales increase?"
   ]
  },
  {
   "cell_type": "code",
   "execution_count": 108,
   "id": "25af0ff7",
   "metadata": {},
   "outputs": [
    {
     "data": {
      "text/plain": [
       "array([5000., 6400., 5600., 8200., 7000., 5400., 7800., 6000., 9000.,\n",
       "       6600.])"
      ]
     },
     "execution_count": 108,
     "metadata": {},
     "output_type": "execute_result"
    }
   ],
   "source": [
    "# 21. If profit margin is **20% of sales**, what is the **profit per store**?\n",
    "retail_data[:,1]*0.2"
   ]
  },
  {
   "cell_type": "code",
   "execution_count": 113,
   "id": "a00f41e0",
   "metadata": {},
   "outputs": [
    {
     "data": {
      "text/plain": [
       "np.int64(9)"
      ]
     },
     "execution_count": 113,
     "metadata": {},
     "output_type": "execute_result"
    }
   ],
   "source": [
    "# 22. Which store has the **highest profit**?\n",
    "s=retail_data[:,1]*0.2\n",
    "np.argmax(s)+1"
   ]
  },
  {
   "cell_type": "code",
   "execution_count": 114,
   "id": "3e4ae748",
   "metadata": {},
   "outputs": [
    {
     "data": {
      "text/plain": [
       "np.int64(1)"
      ]
     },
     "execution_count": 114,
     "metadata": {},
     "output_type": "execute_result"
    }
   ],
   "source": [
    "# 23. Which store has the **lowest profit**?\n",
    "s=retail_data[:,1]*0.2\n",
    "np.argmin(s)+1"
   ]
  },
  {
   "cell_type": "code",
   "execution_count": 131,
   "id": "ae78b490",
   "metadata": {},
   "outputs": [
    {
     "data": {
      "text/plain": [
       "array([27500., 35200., 30800., 45100., 38500., 29700., 42900., 33000.,\n",
       "       49500., 36300.])"
      ]
     },
     "execution_count": 131,
     "metadata": {},
     "output_type": "execute_result"
    }
   ],
   "source": [
    "# 24. If sales increase by **10% next month**, what are the **new sales figures**?\n",
    "\n",
    "old=retail_data[:,1]\n",
    "inc=old*0.10\n",
    "new=old+inc\n",
    "new\n"
   ]
  },
  {
   "cell_type": "code",
   "execution_count": 138,
   "id": "bc8465e5",
   "metadata": {},
   "outputs": [
    {
     "name": "stdout",
     "output_type": "stream",
     "text": [
      "[5500. 7040. 6160. 9020. 7700. 5940. 8580. 6600. 9900. 7260.]\n",
      "67000.0\n",
      "73700.0\n",
      "6700.0\n"
     ]
    }
   ],
   "source": [
    "# 25. How will **total profit** change with the 10% sales increase?\n",
    "old=retail_data[:,1]*0.2\n",
    "inc=old*0.1\n",
    "new=old+inc\n",
    "print(new)\n",
    "x=sum(old)\n",
    "print(x)\n",
    "y=sum(new)\n",
    "print(y)\n",
    "print(y-x)\n"
   ]
  },
  {
   "cell_type": "code",
   "execution_count": null,
   "id": "0033828a",
   "metadata": {},
   "outputs": [],
   "source": [
    "## Operational Strategy\n",
    "26. Which stores need **inventory restocking** based on sales and current stock?\n",
    "27. Which stores show **high returns percentage** and might require **quality checks**?\n",
    "28. Which store is the **best performer overall** (sales, customers, inventory turnover)?\n",
    "29. Which store is the **worst performer overall**?\n",
    "30. Which stores can be considered for **expansion** based on strong sales and customer metrics?"
   ]
  },
  {
   "cell_type": "code",
   "execution_count": 146,
   "id": "a992c4ad",
   "metadata": {},
   "outputs": [
    {
     "data": {
      "text/plain": [
       "array([[    5, 35000,   420,  1400,    12]])"
      ]
     },
     "execution_count": 146,
     "metadata": {},
     "output_type": "execute_result"
    }
   ],
   "source": [
    "# 26. Which stores need **inventory restocking** based on sales and current stock?\n",
    "s=retail_data[:,1].mean()\n",
    "i=retail_data[:,3].mean()\n",
    "retail_data[(retail_data[:,1]>s) & (retail_data[:,3]<i)]"
   ]
  },
  {
   "cell_type": "code",
   "execution_count": 155,
   "id": "757b3ef8",
   "metadata": {},
   "outputs": [
    {
     "data": {
      "text/plain": [
       "array([[    2, 32000,   450,  1500,    15],\n",
       "       [    4, 41000,   500,  1600,    20],\n",
       "       [    7, 39000,   480,  1700,    18],\n",
       "       [    8, 30000,   400,  1250,    14],\n",
       "       [    9, 45000,   550,  1800,    25]])"
      ]
     },
     "execution_count": 155,
     "metadata": {},
     "output_type": "execute_result"
    }
   ],
   "source": [
    "# 27. Which stores show **high returns percentage** and might require **quality checks**?\n",
    "r=(retail_data[:,4]/retail_data[:,1])*100\n",
    "m=r.mean()\n",
    "retail_data[r>m]\n",
    "\n"
   ]
  },
  {
   "cell_type": "code",
   "execution_count": 165,
   "id": "51b6d298",
   "metadata": {},
   "outputs": [
    {
     "name": "stdout",
     "output_type": "stream",
     "text": [
      "the best store is 9\n"
     ]
    }
   ],
   "source": [
    "# 28. Which store is the **best performer overall** (sales, customers, inventory turnover)?\n",
    "s=retail_data[:,1]/retail_data[:,1].max()\n",
    "c=retail_data[:,2]/retail_data[:,2].max()\n",
    "turn=retail_data[:,1]/retail_data[:,3]\n",
    "tscore=turn/retail_data[:,3].max()\n",
    "\n",
    "best=s+c+tscore\n",
    "best_score=np.argmax(best)\n",
    "print(\"the best store is\",int(retail_data[best_score,0]))\n",
    "# print(\"Best performer store ID:\", int(retail_data[best_store_index, 0]))"
   ]
  },
  {
   "cell_type": "code",
   "execution_count": 167,
   "id": "aa78852e",
   "metadata": {},
   "outputs": [
    {
     "name": "stdout",
     "output_type": "stream",
     "text": [
      "the worste store is 1\n"
     ]
    }
   ],
   "source": [
    "# 29. Which store is the **worst performer overall**?\n",
    "s=retail_data[:,1]/retail_data[:,1].max()\n",
    "c=retail_data[:,2]/retail_data[:,2].max()\n",
    "turn=retail_data[:,1]/retail_data[:,3]\n",
    "tscore=turn/retail_data[:,3].max()\n",
    "best=s+c+tscore\n",
    "best_score=np.argmin(best)\n",
    "print(\"the worste store is\",int(retail_data[best_score,0]))\n",
    "\n"
   ]
  },
  {
   "cell_type": "code",
   "execution_count": 179,
   "id": "18d96428",
   "metadata": {},
   "outputs": [
    {
     "data": {
      "text/plain": [
       "array([[    4, 41000,   500,  1600,    20],\n",
       "       [    7, 39000,   480,  1700,    18],\n",
       "       [    9, 45000,   550,  1800,    25]])"
      ]
     },
     "execution_count": 179,
     "metadata": {},
     "output_type": "execute_result"
    }
   ],
   "source": [
    "# 30. Which stores can be considered for **expansion** based on strong sales and customer metrics?\n",
    "s=retail_data[:,1].mean()\n",
    "c=retail_data[:,2].mean()\n",
    "res=retail_data[(retail_data[:,1]>s) & (retail_data[:,2]>c)]\n",
    "res\n"
   ]
  }
 ],
 "metadata": {
  "kernelspec": {
   "display_name": "Python 3",
   "language": "python",
   "name": "python3"
  },
  "language_info": {
   "codemirror_mode": {
    "name": "ipython",
    "version": 3
   },
   "file_extension": ".py",
   "mimetype": "text/x-python",
   "name": "python",
   "nbconvert_exporter": "python",
   "pygments_lexer": "ipython3",
   "version": "3.13.6"
  }
 },
 "nbformat": 4,
 "nbformat_minor": 5
}
