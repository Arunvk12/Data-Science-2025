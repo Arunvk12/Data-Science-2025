{
 "cells": [
  {
   "cell_type": "code",
   "execution_count": null,
   "id": "ef07f3f1",
   "metadata": {},
   "outputs": [],
   "source": [
    "# #if\n",
    "# #if else\n",
    "# #if elif else\n",
    "# #for\n",
    "# while\n",
    "# continue\n",
    "# break"
   ]
  },
  {
   "cell_type": "code",
   "execution_count": 4,
   "id": "cac96551",
   "metadata": {},
   "outputs": [
    {
     "name": "stdout",
     "output_type": "stream",
     "text": [
      "the value of x is greater then 15\n"
     ]
    }
   ],
   "source": [
    "#if \n",
    "x=25\n",
    "if x>=15:\n",
    "    print(\"the value of x is greater then 15\")"
   ]
  },
  {
   "cell_type": "code",
   "execution_count": 15,
   "id": "68d769d9",
   "metadata": {},
   "outputs": [
    {
     "name": "stdout",
     "output_type": "stream",
     "text": [
      "the value of x is lesser  then 15\n"
     ]
    }
   ],
   "source": [
    "#if else\n",
    "x=int(input(\"enter the number:\"))\n",
    "if x>=35:\n",
    "    print(\"the value of x is greater then 15\")\n",
    "else:\n",
    "    print(\"the value of x is lesser  then 15\")"
   ]
  },
  {
   "cell_type": "code",
   "execution_count": 14,
   "id": "a02d37fc",
   "metadata": {},
   "outputs": [
    {
     "name": "stdout",
     "output_type": "stream",
     "text": [
      "True\n"
     ]
    }
   ],
   "source": [
    "x=\"science\"\n",
    "if not(len(x)%2==0 and x.startswith(\"s\")):\n",
    "    print(True)\n"
   ]
  },
  {
   "cell_type": "code",
   "execution_count": 21,
   "id": "87f29bc3",
   "metadata": {},
   "outputs": [
    {
     "name": "stdout",
     "output_type": "stream",
     "text": [
      "B\n"
     ]
    }
   ],
   "source": [
    "f=int(input())\n",
    "if f>80:\n",
    "    print(\"A\")\n",
    "elif f>=60 and f<=80:\n",
    "    print(\"B\")\n",
    "else:\n",
    "    print(\"fail\")"
   ]
  },
  {
   "cell_type": "code",
   "execution_count": 25,
   "id": "2f14e63f",
   "metadata": {},
   "outputs": [
    {
     "name": "stdout",
     "output_type": "stream",
     "text": [
      "negative number\n"
     ]
    }
   ],
   "source": [
    "n=int(input(\"ener the number:\"))\n",
    "if n>0:\n",
    "    print(\"positive number\")\n",
    "elif n<0:\n",
    "    print(\"negative number\")\n",
    "else:\n",
    "    print(\" ZERO\")"
   ]
  },
  {
   "cell_type": "code",
   "execution_count": 30,
   "id": "0da5adc6",
   "metadata": {},
   "outputs": [
    {
     "name": "stdout",
     "output_type": "stream",
     "text": [
      "even number\n"
     ]
    }
   ],
   "source": [
    "n=int(input(\"ener the number:\"))\n",
    "if n%2==0:\n",
    "    print(\"even number\")\n",
    "else:\n",
    "    print('odd number')"
   ]
  },
  {
   "cell_type": "code",
   "execution_count": null,
   "id": "39ae161d",
   "metadata": {},
   "outputs": [
    {
     "name": "stdout",
     "output_type": "stream",
     "text": [
      "C\n"
     ]
    }
   ],
   "source": [
    "n=int(input(\"ener the number:\"))\n",
    "if n>=90:\n",
    "    print(\"A\")\n",
    "elif n>=75:\n",
    "    print(\"B\")\n",
    "elif n>=50:\n",
    "    print(\"C\")\n",
    "else:\n",
    "    print(\"fail\")"
   ]
  },
  {
   "cell_type": "code",
   "execution_count": 44,
   "id": "7ff08865",
   "metadata": {},
   "outputs": [
    {
     "name": "stdout",
     "output_type": "stream",
     "text": [
      "ovels\n"
     ]
    }
   ],
   "source": [
    "char=input(\"enter the alphabate\").lower()\n",
    "if char in \"aeiou\":\n",
    "    print(\"ovels\")\n",
    "else:\n",
    "    print(\"consonents\")"
   ]
  },
  {
   "cell_type": "code",
   "execution_count": 48,
   "id": "cfddbff4",
   "metadata": {},
   "outputs": [
    {
     "name": "stdout",
     "output_type": "stream",
     "text": [
      "to long\n"
     ]
    }
   ],
   "source": [
    "username=input(\"enter the username\")\n",
    "if len(username)<5:\n",
    "    print(\"to short\")\n",
    "elif len(username)>15:\n",
    "    print(\"to long\")\n",
    "else:\n",
    "    print(\"valid username\")"
   ]
  },
  {
   "cell_type": "code",
   "execution_count": 51,
   "id": "6ffdeea9",
   "metadata": {},
   "outputs": [
    {
     "data": {
      "text/plain": [
       "['data', 'science']"
      ]
     },
     "execution_count": 51,
     "metadata": {},
     "output_type": "execute_result"
    }
   ],
   "source": [
    "\"data science\".split()"
   ]
  },
  {
   "cell_type": "code",
   "execution_count": 61,
   "id": "51b4d64d",
   "metadata": {},
   "outputs": [
    {
     "name": "stdout",
     "output_type": "stream",
     "text": [
      "data s,ien,e,"
     ]
    }
   ],
   "source": [
    "for i in \"data science\".split(\"c\"):\n",
    "    print(i,end=\",\")"
   ]
  },
  {
   "cell_type": "code",
   "execution_count": 65,
   "id": "24d3dd8f",
   "metadata": {},
   "outputs": [
    {
     "name": "stdout",
     "output_type": "stream",
     "text": [
      "d,a,t,a,"
     ]
    }
   ],
   "source": [
    "ch=\"da7ta\"\n",
    "for i in ch:\n",
    "    if i.isalpha():\n",
    "        print(i,end=\",\")"
   ]
  },
  {
   "cell_type": "code",
   "execution_count": 66,
   "id": "9f7117f0",
   "metadata": {},
   "outputs": [
    {
     "name": "stdout",
     "output_type": "stream",
     "text": [
      "7,"
     ]
    }
   ],
   "source": [
    "ch=\"da7ta\"\n",
    "for i in ch:\n",
    "    if i.isdigit():\n",
    "        print(i,end=\",\")"
   ]
  },
  {
   "cell_type": "code",
   "execution_count": 67,
   "id": "3591276c",
   "metadata": {},
   "outputs": [
    {
     "name": "stdout",
     "output_type": "stream",
     "text": [
      "d,a,7,t,a,"
     ]
    }
   ],
   "source": [
    "ch=\"da7ta\"\n",
    "for i in ch:\n",
    "    if i.isalnum():\n",
    "        print(i,end=\",\")"
   ]
  },
  {
   "cell_type": "code",
   "execution_count": null,
   "id": "50220bf7",
   "metadata": {},
   "outputs": [
    {
     "data": {
      "text/plain": [
       "'1111daa'"
      ]
     },
     "execution_count": 69,
     "metadata": {},
     "output_type": "execute_result"
    }
   ],
   "source": [
    "\"11\"+\"11\"+\"daa\"\n",
    "\n"
   ]
  },
  {
   "cell_type": "code",
   "execution_count": 74,
   "id": "7971ee0b",
   "metadata": {},
   "outputs": [
    {
     "data": {
      "text/plain": [
       "'*************************'"
      ]
     },
     "execution_count": 74,
     "metadata": {},
     "output_type": "execute_result"
    }
   ],
   "source": [
    "'*'*25"
   ]
  },
  {
   "cell_type": "code",
   "execution_count": 75,
   "id": "24bda6ef",
   "metadata": {},
   "outputs": [
    {
     "name": "stdout",
     "output_type": "stream",
     "text": [
      "0\n",
      "1\n",
      "2\n",
      "3\n",
      "4\n",
      "5\n",
      "6\n",
      "7\n",
      "8\n",
      "9\n"
     ]
    }
   ],
   "source": [
    "for i in range(0,10):\n",
    "    print(i)"
   ]
  },
  {
   "cell_type": "code",
   "execution_count": 77,
   "id": "23036d5d",
   "metadata": {},
   "outputs": [
    {
     "name": "stdout",
     "output_type": "stream",
     "text": [
      "1\n",
      "3\n",
      "5\n",
      "7\n",
      "9\n"
     ]
    }
   ],
   "source": [
    "for i in range(1,10,2):\n",
    "    print(i)"
   ]
  },
  {
   "cell_type": "code",
   "execution_count": 79,
   "id": "0324c4e0",
   "metadata": {},
   "outputs": [
    {
     "name": "stdout",
     "output_type": "stream",
     "text": [
      "10\n",
      "7\n",
      "4\n",
      "1\n"
     ]
    }
   ],
   "source": [
    "for i in range(10,0,-3):\n",
    "    print(i)"
   ]
  },
  {
   "cell_type": "code",
   "execution_count": 83,
   "id": "03eec608",
   "metadata": {},
   "outputs": [
    {
     "name": "stdout",
     "output_type": "stream",
     "text": [
      "*\n",
      "**\n",
      "***\n",
      "****\n",
      "*****\n"
     ]
    }
   ],
   "source": [
    "for i in range(1,6):\n",
    "    print(\"*\"*i)#\"1\"*2=11 /\"*\"*2= **"
   ]
  },
  {
   "cell_type": "code",
   "execution_count": 84,
   "id": "14ea2351",
   "metadata": {},
   "outputs": [
    {
     "name": "stdout",
     "output_type": "stream",
     "text": [
      "*****\n",
      "****\n",
      "***\n",
      "**\n",
      "*\n"
     ]
    }
   ],
   "source": [
    "for i in range(1,6):\n",
    "    print(\"*\"*(6-i))"
   ]
  },
  {
   "cell_type": "code",
   "execution_count": 85,
   "id": "a0c922dc",
   "metadata": {},
   "outputs": [
    {
     "name": "stdout",
     "output_type": "stream",
     "text": [
      "*****\n",
      "****\n",
      "***\n",
      "**\n",
      "*\n"
     ]
    }
   ],
   "source": [
    "for i in range(5,0,-1):\n",
    "    print(\"*\"*i)"
   ]
  },
  {
   "cell_type": "code",
   "execution_count": 94,
   "id": "57f5b065",
   "metadata": {},
   "outputs": [],
   "source": [
    "customer_review='''customers find the laptop's build quality good, with one\n",
    "noting its premium look a@$@%@%nd feel, and consider it good value\n",
    " for money. Moreover, the sound quality is acceptable, and\n",
    " they find it suitable fo@$@4r student use. However, the performance\n",
    " receives mixed feedback, with some finding it satisfying while others\n",
    " describe it as extremely bad. Addit@@@ionally, the fingerprint sensor is not available,\n",
    "and cus24$@$@%tomers report poor battery performance.'''"
   ]
  },
  {
   "cell_type": "code",
   "execution_count": 95,
   "id": "2766d77a",
   "metadata": {},
   "outputs": [
    {
     "name": "stdout",
     "output_type": "stream",
     "text": [
      "140\n"
     ]
    }
   ],
   "source": [
    "customer_review\n",
    "counter=0\n",
    "for i in customer_review:\n",
    "    if i in \"aeiouAEIOU\" and i.isalpha():\n",
    "        counter=counter+1\n",
    "print(counter)"
   ]
  },
  {
   "cell_type": "code",
   "execution_count": 97,
   "id": "b6576291",
   "metadata": {},
   "outputs": [
    {
     "name": "stdout",
     "output_type": "stream",
     "text": [
      "222\n"
     ]
    }
   ],
   "source": [
    "customer_review\n",
    "counter=0\n",
    "for i in customer_review:\n",
    "    if i not in \"aeiouAEIOU\" and i.isalpha():\n",
    "        counter=counter+1\n",
    "print(counter)"
   ]
  },
  {
   "cell_type": "code",
   "execution_count": 101,
   "id": "08ae8213",
   "metadata": {},
   "outputs": [
    {
     "name": "stdout",
     "output_type": "stream",
     "text": [
      "d\n",
      "da\n",
      "dat\n",
      "data\n"
     ]
    }
   ],
   "source": [
    "x=\"data\"\n",
    "for i in range(1,len(x)+1):\n",
    "    print(x[0:i])"
   ]
  }
 ],
 "metadata": {
  "kernelspec": {
   "display_name": "Python 3",
   "language": "python",
   "name": "python3"
  },
  "language_info": {
   "codemirror_mode": {
    "name": "ipython",
    "version": 3
   },
   "file_extension": ".py",
   "mimetype": "text/x-python",
   "name": "python",
   "nbconvert_exporter": "python",
   "pygments_lexer": "ipython3",
   "version": "3.13.5"
  }
 },
 "nbformat": 4,
 "nbformat_minor": 5
}
