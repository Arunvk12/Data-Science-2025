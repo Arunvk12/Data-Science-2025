{
 "cells": [
  {
   "cell_type": "code",
   "execution_count": 5,
   "id": "e5cd818b",
   "metadata": {},
   "outputs": [
    {
     "name": "stdout",
     "output_type": "stream",
     "text": [
      "\n",
      "Question 26: Find the person with maximum age in list of dictionaries\n",
      "30\n"
     ]
    }
   ],
   "source": [
    "# Question 26: Find the person with maximum age in list of dictionaries\n",
    "print(\"\\nQuestion 26: Find the person with maximum age in list of dictionaries\")\n",
    "# Your code here\n",
    "d=[{'name': 'Alice', 'age':25}, {'name': 'Bob', 'age': 30}]\n",
    "st=[]\n",
    "m=[]\n",
    "for i in d:\n",
    "    a=i['age']\n",
    "    st.append(a)\n",
    "    m=max(st)\n",
    "print(m)\n"
   ]
  },
  {
   "cell_type": "code",
   "execution_count": 10,
   "id": "170e9f86",
   "metadata": {},
   "outputs": [
    {
     "name": "stdout",
     "output_type": "stream",
     "text": [
      "\n",
      "Question 27: Create a 4D list: [[[[1, 2], [3, 4]], [[5, 6], [7, 8]]], [[[9, 10], [11, 12]], [[13, 14], [15, 16]]]]\n"
     ]
    },
    {
     "data": {
      "text/plain": [
       "[[[[1, 2], [3, 4]], [[5, 6], [7, 8]]],\n",
       " [[[9, 10], [11, 12]], [[13, 14], [15, 16]]]]"
      ]
     },
     "execution_count": 10,
     "metadata": {},
     "output_type": "execute_result"
    }
   ],
   "source": [
    "# Question 27: Create a 4D list: [[[[1, 2], [3, 4]], [[5, 6], [7, 8]]], [[[9, 10], [11, 12]], [[13, 14], [15, 16]]]]\n",
    "print(\"\\nQuestion 27: Create a 4D list: [[[[1, 2], [3, 4]], [[5, 6], [7, 8]]], [[[9, 10], [11, 12]], [[13, 14], [15, 16]]]]\")\n",
    "# Your code here\n",
    "l=[[[[1, 2], [3, 4]], [[5, 6], [7, 8]]], [[[9, 10], [11, 12]], [[13, 14], [15, 16]]]]\n",
    "l\n"
   ]
  },
  {
   "cell_type": "code",
   "execution_count": null,
   "id": "ca5de527",
   "metadata": {},
   "outputs": [],
   "source": [
    "# Question 28: Find the maximum value in 4D list\n",
    "print(\"\\nQuestion 28: Find the maximum value in 4D list\")\n",
    "# Your code here\n"
   ]
  },
  {
   "cell_type": "code",
   "execution_count": 9,
   "id": "a1a03804",
   "metadata": {},
   "outputs": [
    {
     "name": "stdout",
     "output_type": "stream",
     "text": [
      "\n",
      "Question 29: Create a list of sets: [{1, 2, 3}, {4, 5, 6}, {7, 8, 9}]\n"
     ]
    },
    {
     "data": {
      "text/plain": [
       "list"
      ]
     },
     "execution_count": 9,
     "metadata": {},
     "output_type": "execute_result"
    }
   ],
   "source": [
    "# Question 29: Create a list of sets: [{1, 2, 3}, {4, 5, 6}, {7, 8, 9}]\n",
    "print(\"\\nQuestion 29: Create a list of sets: [{1, 2, 3}, {4, 5, 6}, {7, 8, 9}]\")\n",
    "# Your code here\n",
    "l=[{1,2,3},{4,5,6},{7,8,9}]\n",
    "type(l)\n"
   ]
  },
  {
   "cell_type": "code",
   "execution_count": 21,
   "id": "f3b0d085",
   "metadata": {},
   "outputs": [
    {
     "name": "stdout",
     "output_type": "stream",
     "text": [
      "\n",
      "Question 30: Find the union of all sets in list of sets\n"
     ]
    },
    {
     "data": {
      "text/plain": [
       "{1, 2, 3, 4, 5, 6, 7, 8, 9}"
      ]
     },
     "execution_count": 21,
     "metadata": {},
     "output_type": "execute_result"
    }
   ],
   "source": [
    "\n",
    "# Question 30: Find the union of all sets in list of sets\n",
    "print(\"\\nQuestion 30: Find the union of all sets in list of sets\")\n",
    "# Your code here\n",
    "l=[{1,2,3,3},{4,5,5,6},{7,8,9}]\n",
    "result=set.union(*l)\n",
    "result\n"
   ]
  },
  {
   "cell_type": "code",
   "execution_count": 22,
   "id": "6b54a207",
   "metadata": {},
   "outputs": [
    {
     "name": "stdout",
     "output_type": "stream",
     "text": [
      "\n",
      "Question 31: Create a list of complex numbers: [1+2j, 3+4j, 5+6j]\n"
     ]
    },
    {
     "data": {
      "text/plain": [
       "[(1+2j), (3+4j), (5+6j)]"
      ]
     },
     "execution_count": 22,
     "metadata": {},
     "output_type": "execute_result"
    }
   ],
   "source": [
    "\n",
    "# Question 31: Create a list of complex numbers: [1+2j, 3+4j, 5+6j]\n",
    "print(\"\\nQuestion 31: Create a list of complex numbers: [1+2j, 3+4j, 5+6j]\")\n",
    "# Your code here\n",
    "l=[1+2j, 3+4j, 5+6j]\n",
    "l"
   ]
  },
  {
   "cell_type": "code",
   "execution_count": 26,
   "id": "4c38a3ee",
   "metadata": {},
   "outputs": [
    {
     "name": "stdout",
     "output_type": "stream",
     "text": [
      "\n",
      "Question 32: Find the magnitude of each complex number in list\n",
      "2.23606797749979\n",
      "5.0\n",
      "7.810249675906654\n"
     ]
    }
   ],
   "source": [
    "# Question 32: Find the magnitude of each complex number in list\n",
    "print(\"\\nQuestion 32: Find the magnitude of each complex number in list\")\n",
    "# Your code here\n",
    "l=[1+2j, 3+4j, 5+6j]\n",
    "for i in l:\n",
    "    c=abs(i)\n",
    "    print(c)"
   ]
  },
  {
   "cell_type": "code",
   "execution_count": null,
   "id": "49a74ecd",
   "metadata": {},
   "outputs": [],
   "source": [
    "######TUPLE###########"
   ]
  },
  {
   "cell_type": "code",
   "execution_count": 27,
   "id": "eaa736d9",
   "metadata": {},
   "outputs": [
    {
     "name": "stdout",
     "output_type": "stream",
     "text": [
      "SOLVED EXAMPLE:\n",
      "Find the sum and product of all elements in a tuple\n",
      "Tuple: (2, 4, 6, 8, 10)\n",
      "Sum: 30\n",
      "Product: 3840\n",
      "--------------------------------------------------\n"
     ]
    }
   ],
   "source": [
    "# Question: Find the sum and product of all elements in a tuple\n",
    "print(\"SOLVED EXAMPLE:\")\n",
    "print(\"Find the sum and product of all elements in a tuple\")\n",
    "numbers = (2, 4, 6, 8, 10)\n",
    "sum_tuple = sum(numbers)\n",
    "product = 1\n",
    "for num in numbers:\n",
    "    product *= num\n",
    "print(f\"Tuple: {numbers}\")\n",
    "print(f\"Sum: {sum_tuple}\")\n",
    "print(f\"Product: {product}\")\n",
    "print(\"-\" * 50)\n"
   ]
  },
  {
   "cell_type": "code",
   "execution_count": 40,
   "id": "8cf91827",
   "metadata": {},
   "outputs": [
    {
     "name": "stdout",
     "output_type": "stream",
     "text": [
      "Question 1: Create a tuple of first 10 natural numbers\n",
      "(1, 2, 3, 4, 5, 6, 7, 8, 9, 10)\n"
     ]
    }
   ],
   "source": [
    "# Question 1: Create a tuple of first 10 natural numbers\n",
    "print(\"Question 1: Create a tuple of first 10 natural numbers\")\n",
    "# Your code here\n",
    "n=int(input())\n",
    "c=tuple(range(1,n+1))\n",
    "print(c)\n",
    "\n",
    "\n"
   ]
  },
  {
   "cell_type": "code",
   "execution_count": 41,
   "id": "6723d73f",
   "metadata": {},
   "outputs": [
    {
     "name": "stdout",
     "output_type": "stream",
     "text": [
      "\n",
      "Question 2: Find the length of tuple (1, 2, 3, 4, 5, 6, 7, 8, 9, 10)\n",
      "10\n"
     ]
    }
   ],
   "source": [
    "# Question 2: Find the length of tuple (1, 2, 3, 4, 5, 6, 7, 8, 9, 10)\n",
    "print(\"\\nQuestion 2: Find the length of tuple (1, 2, 3, 4, 5, 6, 7, 8, 9, 10)\")\n",
    "# Your code here\n",
    "l=(1, 2, 3, 4, 5, 6, 7, 8, 9, 10)\n",
    "print(len(l))"
   ]
  },
  {
   "cell_type": "code",
   "execution_count": 49,
   "id": "da449b36",
   "metadata": {},
   "outputs": [
    {
     "name": "stdout",
     "output_type": "stream",
     "text": [
      "\n",
      "Question 3: Access the 3rd element from tuple ('a', 'b', 'c', 'd', 'e')\n"
     ]
    },
    {
     "data": {
      "text/plain": [
       "'c'"
      ]
     },
     "execution_count": 49,
     "metadata": {},
     "output_type": "execute_result"
    }
   ],
   "source": [
    "# Question 3: Access the 3rd element from tuple ('a', 'b', 'c', 'd', 'e')\n",
    "print(\"\\nQuestion 3: Access the 3rd element from tuple ('a', 'b', 'c', 'd', 'e')\")\n",
    "# Your code here\n",
    "t=('a', 'b', 'c', 'd', 'e')\n",
    "t[2]"
   ]
  },
  {
   "cell_type": "code",
   "execution_count": 50,
   "id": "a8ed4aed",
   "metadata": {},
   "outputs": [
    {
     "name": "stdout",
     "output_type": "stream",
     "text": [
      "\n",
      "Question 4: Find the maximum value in tuple (23, 45, 12, 67, 34, 89, 56)\n"
     ]
    },
    {
     "data": {
      "text/plain": [
       "89"
      ]
     },
     "execution_count": 50,
     "metadata": {},
     "output_type": "execute_result"
    }
   ],
   "source": [
    "# Question 4: Find the maximum value in tuple (23, 45, 12, 67, 34, 89, 56)\n",
    "print(\"\\nQuestion 4: Find the maximum value in tuple (23, 45, 12, 67, 34, 89, 56)\")\n",
    "# Your code here\n",
    "t=(23, 45, 12, 67, 34, 89, 56)\n",
    "max(t)"
   ]
  },
  {
   "cell_type": "code",
   "execution_count": 52,
   "id": "cfb00463",
   "metadata": {},
   "outputs": [
    {
     "name": "stdout",
     "output_type": "stream",
     "text": [
      "\n",
      "Question 5: Count how many times 5 appears in (1, 5, 2, 5, 3, 5, 4, 5, 6)\n"
     ]
    },
    {
     "data": {
      "text/plain": [
       "4"
      ]
     },
     "execution_count": 52,
     "metadata": {},
     "output_type": "execute_result"
    }
   ],
   "source": [
    "# Question 5: Count how many times 5 appears in (1, 5, 2, 5, 3, 5, 4, 5, 6)\n",
    "print(\"\\nQuestion 5: Count how many times 5 appears in (1, 5, 2, 5, 3, 5, 4, 5, 6)\")\n",
    "# Your code here\n",
    "t=(1, 5, 2, 5, 3, 5, 4, 5, 6)\n",
    "t.count(5)"
   ]
  },
  {
   "cell_type": "code",
   "execution_count": 54,
   "id": "50dc23b8",
   "metadata": {},
   "outputs": [
    {
     "name": "stdout",
     "output_type": "stream",
     "text": [
      "\n",
      "Question 6: Create a tuple of mixed data types (integer, float, string, boolean)\n"
     ]
    },
    {
     "data": {
      "text/plain": [
       "tuple"
      ]
     },
     "execution_count": 54,
     "metadata": {},
     "output_type": "execute_result"
    }
   ],
   "source": [
    "# Question 6: Create a tuple of mixed data types (integer, float, string, boolean)\n",
    "print(\"\\nQuestion 6: Create a tuple of mixed data types (integer, float, string, boolean)\")\n",
    "# Your code here\n",
    "t=(1,4.0,\"data\",True)\n",
    "type(t)"
   ]
  },
  {
   "cell_type": "code",
   "execution_count": 60,
   "id": "47e76106",
   "metadata": {},
   "outputs": [
    {
     "name": "stdout",
     "output_type": "stream",
     "text": [
      "\n",
      "Question 7: Find the index of element 'python' in ('java', 'python', 'c++', 'javascript')\n"
     ]
    },
    {
     "data": {
      "text/plain": [
       "1"
      ]
     },
     "execution_count": 60,
     "metadata": {},
     "output_type": "execute_result"
    }
   ],
   "source": [
    "# Question 7: Find the index of element 'python' in ('java', 'python', 'c++', 'javascript')\n",
    "print(\"\\nQuestion 7: Find the index of element 'python' in ('java', 'python', 'c++', 'javascript')\")\n",
    "# Your code here\n",
    "t=('java', 'python', 'c++', 'javascript')\n",
    "t.index(\"python\")\n"
   ]
  },
  {
   "cell_type": "code",
   "execution_count": 67,
   "id": "a908049d",
   "metadata": {},
   "outputs": [
    {
     "name": "stdout",
     "output_type": "stream",
     "text": [
      "\n",
      "Question 8: Check if 25 exists in tuple (10, 20, 30, 40, 50)\n"
     ]
    },
    {
     "data": {
      "text/plain": [
       "False"
      ]
     },
     "execution_count": 67,
     "metadata": {},
     "output_type": "execute_result"
    }
   ],
   "source": [
    "\n",
    "# Question 8: Check if 25 exists in tuple (10, 20, 30, 40, 50)\n",
    "print(\"\\nQuestion 8: Check if 25 exists in tuple (10, 20, 30, 40, 50)\")\n",
    "# Your code here\n",
    "t=(10, 20, 30, 40, 50)\n",
    "25 in t\n",
    "# c=25\n",
    "# for i in t:\n",
    "#     if i==c:\n",
    "#         print(f'{c}is exist')\n",
    "#         break\n",
    "#     else:\n",
    "#         print( f'{c}is not exist')\n",
    "# "
   ]
  },
  {
   "cell_type": "code",
   "execution_count": 89,
   "id": "36739f08",
   "metadata": {},
   "outputs": [
    {
     "name": "stdout",
     "output_type": "stream",
     "text": [
      "\n",
      "Question 9: Create a tuple of first 5 even numbers\n",
      "(2, 4, 6, 8, 10)\n"
     ]
    }
   ],
   "source": [
    "# Question 9: Create a tuple of first 5 even numbers\n",
    "print(\"\\nQuestion 9: Create a tuple of first 5 even numbers\")\n",
    "# Your code here\n",
    "st=[]\n",
    "n=2\n",
    "count=0\n",
    "while count<5:\n",
    "    st.append(n)\n",
    "    n+=2\n",
    "    count+=1\n",
    "print(tuple(st))\n",
    "\n"
   ]
  },
  {
   "cell_type": "code",
   "execution_count": 2,
   "id": "7c24c42a",
   "metadata": {},
   "outputs": [
    {
     "name": "stdout",
     "output_type": "stream",
     "text": [
      "\n",
      "Question 10: Find the average of numbers in tuple (15, 23, 31, 42, 56, 78)\n"
     ]
    },
    {
     "data": {
      "text/plain": [
       "40.833333333333336"
      ]
     },
     "execution_count": 2,
     "metadata": {},
     "output_type": "execute_result"
    }
   ],
   "source": [
    "# Question 10: Find the average of numbers in tuple (15, 23, 31, 42, 56, 78)\n",
    "print(\"\\nQuestion 10: Find the average of numbers in tuple (15, 23, 31, 42, 56, 78)\")\n",
    "# Your code here \n",
    "\n",
    "t=(15, 23, 31, 42, 56, 78)\n",
    "av=sum(t)/len(t)\n",
    "av"
   ]
  },
  {
   "cell_type": "code",
   "execution_count": null,
   "id": "c4626793",
   "metadata": {},
   "outputs": [],
   "source": [
    "#DICTIONARY DATATYPE ASSIGNMENT\n",
    "print(\"SOLVED EXAMPLE:\")\n",
    "print(\"Find the key with maximum value in a dictionary\")\n",
    "scores = {'Alice': 85, 'Bob': 92, 'Charlie': 78, 'Diana': 95, 'Eve': 88}\n",
    "max_key = max(scores, key=scores.get)\n",
    "max_value = scores[max_key]\n",
    "print(f\"Dictionary: {scores}\")\n",
    "print(f\"Key with maximum value: {max_key}\")\n",
    "print(f\"Maximum value: {max_value}\")\n",
    "print(\"-\" * 50)"
   ]
  },
  {
   "cell_type": "code",
   "execution_count": 3,
   "id": "7e9ab533",
   "metadata": {},
   "outputs": [
    {
     "name": "stdout",
     "output_type": "stream",
     "text": [
      "Question 1: Create a dictionary of student names and their ages\n"
     ]
    },
    {
     "data": {
      "text/plain": [
       "{'karthik': 10, 'bhuvan': 7}"
      ]
     },
     "execution_count": 3,
     "metadata": {},
     "output_type": "execute_result"
    }
   ],
   "source": [
    "# Question 1: Create a dictionary of student names and their ages\n",
    "print(\"Question 1: Create a dictionary of student names and their ages\")\n",
    "# Your code here\n",
    "d={\"karthik\":10,\"bhuvan\":7}\n",
    "d"
   ]
  },
  {
   "cell_type": "code",
   "execution_count": null,
   "id": "bb9c866a",
   "metadata": {},
   "outputs": [
    {
     "name": "stdout",
     "output_type": "stream",
     "text": [
      "\n",
      "Question 2: Add a new key-value pair to dictionary {'a': 1, 'b': 2, 'c': 3}\n"
     ]
    },
    {
     "data": {
      "text/plain": [
       "{'a': 1, 'b': 2, 'c': 3, 'd': 25}"
      ]
     },
     "execution_count": 4,
     "metadata": {},
     "output_type": "execute_result"
    }
   ],
   "source": [
    "# Question 2: Add a new key-value pair to dictionary {'a': 1, 'b': 2, 'c': 3}\n",
    "print(\"\\nQuestion 2: Add a new key-value pair to dictionary {'a': 1, 'b': 2, 'c': 3}\")\n",
    "# Your code here\n",
    "d={'a': 1, 'b': 2, 'c': 3}\n",
    "d.update({\"d\":25})#d['d]=4\n",
    "d"
   ]
  },
  {
   "cell_type": "code",
   "execution_count": 6,
   "id": "5ab5f4a5",
   "metadata": {},
   "outputs": [
    {
     "name": "stdout",
     "output_type": "stream",
     "text": [
      "\n",
      "Question 3: Get all keys from dictionary {'name': 'John', 'age': 25, 'city': 'New York'}\n",
      "dict_keys(['name', 'age', 'city'])\n"
     ]
    }
   ],
   "source": [
    "# Question 3: Get all keys from dictionary {'name': 'John', 'age': 25, 'city': 'New York'}\n",
    "print(\"\\nQuestion 3: Get all keys from dictionary {'name': 'John', 'age': 25, 'city': 'New York'}\")\n",
    "# Your code here\n",
    "d={'name': 'John', 'age': 25, 'city': 'New York'}\n",
    "print(d.keys())"
   ]
  },
  {
   "cell_type": "code",
   "execution_count": 8,
   "id": "9cc727e2",
   "metadata": {},
   "outputs": [
    {
     "name": "stdout",
     "output_type": "stream",
     "text": [
      "\n",
      "Question 4: Get all values from dictionary {'python': 3, 'java': 2, 'c++': 1}\n",
      "dict_values([3, 2, 1])\n"
     ]
    }
   ],
   "source": [
    "# Question 4: Get all values from dictionary {'python': 3, 'java': 2, 'c++': 1}\n",
    "print(\"\\nQuestion 4: Get all values from dictionary {'python': 3, 'java': 2, 'c++': 1}\")\n",
    "# Your code here\n",
    "d={'python': 3, 'java': 2, 'c++': 1}\n",
    "print(d.values())"
   ]
  },
  {
   "cell_type": "code",
   "execution_count": 14,
   "id": "40bd3e88",
   "metadata": {},
   "outputs": [
    {
     "name": "stdout",
     "output_type": "stream",
     "text": [
      "\n",
      "Question 5: Check if key 'age' exists in {'name': 'Alice', 'age': 30, 'city': 'London'}\n",
      "age is exist\n"
     ]
    }
   ],
   "source": [
    "\n",
    "# Question 5: Check if key 'age' exists in {'name': 'Alice', 'age': 30, 'city': 'London'}\n",
    "print(\"\\nQuestion 5: Check if key 'age' exists in {'name': 'Alice', 'age': 30, 'city': 'London'}\")\n",
    "# Your code here\n",
    "d={'name': 'Alice', 'age': 30, 'city': 'London'}\n",
    "for i in d:\n",
    "    if i==\"age\":\n",
    "        print(f\"{i} is exist\")\n",
    "        break\n"
   ]
  },
  {
   "cell_type": "code",
   "execution_count": 20,
   "id": "01317f04",
   "metadata": {},
   "outputs": [
    {
     "name": "stdout",
     "output_type": "stream",
     "text": [
      "\n",
      "Question 6: Remove key 'temp' from {'a': 1, 'b': 2, 'temp': 3, 'c': 4}\n"
     ]
    },
    {
     "data": {
      "text/plain": [
       "{'a': 1, 'b': 2, 'c': 4}"
      ]
     },
     "execution_count": 20,
     "metadata": {},
     "output_type": "execute_result"
    }
   ],
   "source": [
    "\n",
    "# Question 6: Remove key 'temp' from {'a': 1, 'b': 2, 'temp': 3, 'c': 4}\n",
    "print(\"\\nQuestion 6: Remove key 'temp' from {'a': 1, 'b': 2, 'temp': 3, 'c': 4}\")\n",
    "# Your code here\n",
    "d={'a': 1, 'b': 2, 'temp': 3, 'c': 4}\n",
    "d.pop('temp')\n",
    "d"
   ]
  },
  {
   "cell_type": "code",
   "execution_count": 23,
   "id": "fe1f96b0",
   "metadata": {},
   "outputs": [
    {
     "name": "stdout",
     "output_type": "stream",
     "text": [
      "\n",
      "Question 7: Find the sum of all values in {'math': 85, 'science': 92, 'english': 78}\n",
      "255\n"
     ]
    }
   ],
   "source": [
    "# Question 7: Find the sum of all values in {'math': 85, 'science': 92, 'english': 78}\n",
    "print(\"\\nQuestion 7: Find the sum of all values in {'math': 85, 'science': 92, 'english': 78}\")\n",
    "# Your code here\n",
    "d={'math': 85, 'science': 92, 'english': 78}\n",
    "s=d.values()\n",
    "print(sum(s))\n",
    "    \n"
   ]
  },
  {
   "cell_type": "code",
   "execution_count": 37,
   "id": "e584f73b",
   "metadata": {},
   "outputs": [
    {
     "name": "stdout",
     "output_type": "stream",
     "text": [
      "\n",
      "Question 8: Create a dictionary with squares of numbers 1 to 5\n"
     ]
    },
    {
     "data": {
      "text/plain": [
       "{1: 1, 2: 4, 3: 9, 4: 16, 5: 25}"
      ]
     },
     "execution_count": 37,
     "metadata": {},
     "output_type": "execute_result"
    }
   ],
   "source": [
    "# Question 8: Create a dictionary with squares of numbers 1 to 5\n",
    "print(\"\\nQuestion 8: Create a dictionary with squares of numbers 1 to 5\")\n",
    "# Your code here\n",
    "d={}\n",
    "n=1\n",
    "c=1\n",
    "while c<=5:\n",
    "    values=n**2\n",
    "    d[c]=values\n",
    "    n=n+1\n",
    "    c=c+1\n",
    "d\n",
    "\n"
   ]
  },
  {
   "cell_type": "code",
   "execution_count": null,
   "id": "d87a0029",
   "metadata": {},
   "outputs": [
    {
     "name": "stdout",
     "output_type": "stream",
     "text": [
      "\n",
      "Question 9: Count frequency of each character in string 'hello'\n"
     ]
    },
    {
     "data": {
      "text/plain": [
       "{'h': 1, 'e': 1, 'l': 2, 'o': 1}"
      ]
     },
     "execution_count": 41,
     "metadata": {},
     "output_type": "execute_result"
    }
   ],
   "source": [
    "# Question 9: Count frequency of each character in string \"hello\"\n",
    "print(\"\\nQuestion 9: Count frequency of each character in string 'hello'\")\n",
    "# Your code here\n",
    "d='hello'\n",
    "c={}\n",
    "for i in d:\n",
    "    if i in c:\n",
    "        c[i]+=1\n",
    "    else:\n",
    "        c[i]=1\n",
    "c\n",
    "        \n",
    "                \n",
    "            \n",
    "        "
   ]
  },
  {
   "cell_type": "code",
   "execution_count": null,
   "id": "04b634a4",
   "metadata": {},
   "outputs": [
    {
     "name": "stdout",
     "output_type": "stream",
     "text": [
      "\n",
      "Question 10: Merge two dictionaries {'a': 1, 'b': 2} and {'c': 3, 'd': 4}\n"
     ]
    },
    {
     "data": {
      "text/plain": [
       "{'a': 1, 'b': 2, 'c': 3, 'd': 4}"
      ]
     },
     "execution_count": 53,
     "metadata": {},
     "output_type": "execute_result"
    }
   ],
   "source": [
    "# Question 10: Merge two dictionaries {'a': 1, 'b': 2} and {'c': 3, 'd': 4}\n",
    "print(\"\\nQuestion 10: Merge two dictionaries {'a': 1, 'b': 2} and {'c': 3, 'd': 4}\")\n",
    "# Your code here\n",
    "f= {'a': 1, 'b': 2}\n",
    "g={'c': 3, 'd': 4}\n",
    "c={}\n",
    "for i in f:     #or c=f|g\n",
    "    c[i] =f[i]\n",
    "for j in g:\n",
    "    c[j]=g[j]\n",
    "print(c)\n",
    "\n"
   ]
  },
  {
   "cell_type": "code",
   "execution_count": 61,
   "id": "6928a630",
   "metadata": {},
   "outputs": [
    {
     "name": "stdout",
     "output_type": "stream",
     "text": [
      "\n",
      "Question 11: Create a nested dictionary: {'person': {'name': 'Alice', 'age': 25}}\n"
     ]
    },
    {
     "data": {
      "text/plain": [
       "{'person': {'name': 'alice', 'age': 25}, 'rakesh': {'age': 52}}"
      ]
     },
     "execution_count": 61,
     "metadata": {},
     "output_type": "execute_result"
    }
   ],
   "source": [
    "# Question 11: Create a nested dictionary: {'person': {'name': 'Alice', 'age': 25}}\n",
    "print(\"\\nQuestion 11: Create a nested dictionary: {'person': {'name': 'Alice', 'age': 25}}\")\n",
    "# Your code here\n",
    "d={'person':{\"name\":\"alice\",\"age\":25}\n",
    "   ,'rakesh':{'age':52}}\n",
    "d"
   ]
  },
  {
   "cell_type": "code",
   "execution_count": 69,
   "id": "8ab2931e",
   "metadata": {},
   "outputs": [
    {
     "name": "stdout",
     "output_type": "stream",
     "text": [
      "\n",
      "Question 12: Access nested value 'name' from {'person': {'name': 'Alice', 'age': 25}}\n"
     ]
    },
    {
     "data": {
      "text/plain": [
       "'Alice'"
      ]
     },
     "execution_count": 69,
     "metadata": {},
     "output_type": "execute_result"
    }
   ],
   "source": [
    "# Question 12: Access nested value 'name' from {'person': {'name': 'Alice', 'age': 25}}\n",
    "print(\"\\nQuestion 12: Access nested value 'name' from {'person': {'name': 'Alice', 'age': 25}}\")\n",
    "# Your code here\n",
    "d={'person': {'name': 'Alice', 'age': 25}}\n",
    "d['person']['name']\n"
   ]
  },
  {
   "cell_type": "code",
   "execution_count": null,
   "id": "33b30636",
   "metadata": {},
   "outputs": [
    {
     "name": "stdout",
     "output_type": "stream",
     "text": [
      "\n",
      "Question 13: Create a dictionary with list values: {'fruits': ['apple', 'banana'], 'colors': ['red', 'blue']}\n",
      "<class 'dict'>\n"
     ]
    }
   ],
   "source": [
    "# Question 13: Create a dictionary with list values: {'fruits': ['apple', 'banana'], 'colors': ['red', 'blue']}\n",
    "print(\"\\nQuestion 13: Create a dictionary with list values: {'fruits': ['apple', 'banana'], 'colors': ['red', 'blue']}\")\n",
    "# Your code here\n",
    "der={\"person\":['rakesh',25],'fruites':['red','blue']}\n",
    "        print(type(d))"
   ]
  },
  {
   "cell_type": "code",
   "execution_count": 87,
   "id": "1db00135",
   "metadata": {},
   "outputs": [
    {
     "name": "stdout",
     "output_type": "stream",
     "text": [
      "\n",
      "Question 14: Add 'orange' to the 'fruits' list in nested dictionary\n"
     ]
    },
    {
     "data": {
      "text/plain": [
       "{'person': ['rakesh', 25],\n",
       " 'fruites': ['red', 'blue', 'grapes', 'grapes', 'grapes']}"
      ]
     },
     "execution_count": 87,
     "metadata": {},
     "output_type": "execute_result"
    }
   ],
   "source": [
    "# Question 14: Add 'orange' to the 'fruits' list in nested dictionary\n",
    "print(\"\\nQuestion 14: Add 'orange' to the 'fruits' list in nested dictionary\")\n",
    "# Your code here\n",
    "der\n",
    "der['fruites'].append(\"grapes\")\n",
    "der"
   ]
  },
  {
   "cell_type": "code",
   "execution_count": 3,
   "id": "1cace93b",
   "metadata": {},
   "outputs": [
    {
     "name": "stdout",
     "output_type": "stream",
     "text": [
      "\n",
      "Question 15: Create a dictionary with tuple values: {'coordinates': (10, 20), 'rgb': (255, 0, 0)}\n"
     ]
    },
    {
     "data": {
      "text/plain": [
       "dict"
      ]
     },
     "execution_count": 3,
     "metadata": {},
     "output_type": "execute_result"
    }
   ],
   "source": [
    "# Question 15: Create a dictionary with tuple values: {'coordinates': (10, 20), 'rgb': (255, 0, 0)}\n",
    "print(\"\\nQuestion 15: Create a dictionary with tuple values: {'coordinates': (10, 20), 'rgb': (255, 0, 0)}\")\n",
    "# Your code here\n",
    "d={'coordinates':(10,20),\"rgb\":(255,0,0)}\n",
    "type(d)"
   ]
  },
  {
   "cell_type": "code",
   "execution_count": 5,
   "id": "d41c1b1b",
   "metadata": {},
   "outputs": [
    {
     "name": "stdout",
     "output_type": "stream",
     "text": [
      "\n",
      "Question 16: Extract first coordinate from nested tuple\n"
     ]
    },
    {
     "data": {
      "text/plain": [
       "10"
      ]
     },
     "execution_count": 5,
     "metadata": {},
     "output_type": "execute_result"
    }
   ],
   "source": [
    "# Question 16: Extract first coordinate from nested tuple\n",
    "print(\"\\nQuestion 16: Extract first coordinate from nested tuple\")\n",
    "# Your code here\n",
    "d\n",
    "d['coordinates'][0]"
   ]
  },
  {
   "cell_type": "code",
   "execution_count": 29,
   "id": "2db4cd77",
   "metadata": {},
   "outputs": [
    {
     "name": "stdout",
     "output_type": "stream",
     "text": [
      "\n",
      "Question 17: Create a dictionary with set values: {'vowels': {'a', 'e', 'i'}, 'consonants': {'b', 'c', 'd'}}\n"
     ]
    },
    {
     "data": {
      "text/plain": [
       "dict"
      ]
     },
     "execution_count": 29,
     "metadata": {},
     "output_type": "execute_result"
    }
   ],
   "source": [
    "# Question 17: Create a dictionary with set values: {'vowels': {'a', 'e', 'i'}, 'consonants': {'b', 'c', 'd'}}\n",
    "print(\"\\nQuestion 17: Create a dictionary with set values: {'vowels': {'a', 'e', 'i'}, 'consonants': {'b', 'c', 'd'}}\")\n",
    "# Your code here\n",
    "d={'vowels':{'a','e','i','u'}, 'consonents':{'b','c','d'}}\n",
    "type(d)"
   ]
  },
  {
   "cell_type": "code",
   "execution_count": 31,
   "id": "7bcfac47",
   "metadata": {},
   "outputs": [
    {
     "name": "stdout",
     "output_type": "stream",
     "text": [
      "\n",
      "Question 18: Add 'o' to vowels set in nested dictionary\n"
     ]
    },
    {
     "data": {
      "text/plain": [
       "{'vowels': {'a', 'e', 'i', 'o', 'u'}, 'consonents': {'b', 'c', 'd'}}"
      ]
     },
     "execution_count": 31,
     "metadata": {},
     "output_type": "execute_result"
    }
   ],
   "source": [
    "\n",
    "# Question 18: Add 'o' to vowels set in nested dictionary\n",
    "print(\"\\nQuestion 18: Add 'o' to vowels set in nested dictionary\")\n",
    "# Your code here\n",
    "d['vowels'].update('o')\n",
    "d\n",
    "\n"
   ]
  },
  {
   "cell_type": "code",
   "execution_count": 34,
   "id": "3111be06",
   "metadata": {},
   "outputs": [
    {
     "name": "stdout",
     "output_type": "stream",
     "text": [
      "\n",
      "Question 19: Create a 3-level nested dictionary: {'company': {'department': {'employee': {'name': 'John', 'id': 123}}}}\n"
     ]
    },
    {
     "data": {
      "text/plain": [
       "dict"
      ]
     },
     "execution_count": 34,
     "metadata": {},
     "output_type": "execute_result"
    }
   ],
   "source": [
    "# Question 19: Create a 3-level nested dictionary: {'company': {'department': {'employee': {'name': 'John', 'id': 123}}}}\n",
    "print(\"\\nQuestion 19: Create a 3-level nested dictionary: {'company': {'department': {'employee': {'name': 'John', 'id': 123}}}}\")\n",
    "# Your code here\n",
    "d={'company':{\"department\":{\"employe\":{\"name\":\"john\",'id':'123'}}}}\n",
    "type(d)"
   ]
  },
  {
   "cell_type": "code",
   "execution_count": 37,
   "id": "20fbdf39",
   "metadata": {},
   "outputs": [
    {
     "name": "stdout",
     "output_type": "stream",
     "text": [
      "\n",
      "Question 20: Access employee name from 3-level nested dictionary\n"
     ]
    },
    {
     "data": {
      "text/plain": [
       "'john'"
      ]
     },
     "execution_count": 37,
     "metadata": {},
     "output_type": "execute_result"
    }
   ],
   "source": [
    "# Question 20: Access employee name from 3-level nested dictionary\n",
    "print(\"\\nQuestion 20: Access employee name from 3-level nested dictionary\")\n",
    "# Your code here\n",
    "d['company']['department']['employe']['name']"
   ]
  },
  {
   "cell_type": "code",
   "execution_count": 39,
   "id": "19e0f5c0",
   "metadata": {},
   "outputs": [
    {
     "name": "stdout",
     "output_type": "stream",
     "text": [
      "\n",
      "Question 21: Create a dictionary with mixed data types: {'int': 42, 'float': 3.14, 'str': 'hello', 'bool': True}\n"
     ]
    },
    {
     "data": {
      "text/plain": [
       "dict"
      ]
     },
     "execution_count": 39,
     "metadata": {},
     "output_type": "execute_result"
    }
   ],
   "source": [
    "# Question 21: Create a dictionary with mixed data types: {'int': 42, 'float': 3.14, 'str': 'hello', 'bool': True}\n",
    "print(\"\\nQuestion 21: Create a dictionary with mixed data types: {'int': 42, 'float': 3.14, 'str': 'hello', 'bool': True}\")\n",
    "# Your code here\n",
    "d={'int':42,'float':3.14,'str':\"hello\",'bool':True}\n",
    "type(d)"
   ]
  },
  {
   "cell_type": "code",
   "execution_count": 66,
   "id": "3d224bde",
   "metadata": {},
   "outputs": [
    {
     "name": "stdout",
     "output_type": "stream",
     "text": [
      "\n",
      "Question 22: Check data type of each value in mixed dictionary\n",
      "<class 'int'>\n",
      "<class 'float'>\n",
      "<class 'str'>\n",
      "<class 'bool'>\n"
     ]
    }
   ],
   "source": [
    "# Question 22: Check data type of each value in mixed dictionary\n",
    "print(\"\\nQuestion 22: Check data type of each value in mixed dictionary\")\n",
    "# Your code here\n",
    "d={'int':42,'float':3.14,'str':\"hello\",'bool':True}\n",
    "for i in d:\n",
    "    print(type(d[i])) \n"
   ]
  },
  {
   "cell_type": "code",
   "execution_count": 78,
   "id": "39e73ace",
   "metadata": {},
   "outputs": [
    {
     "name": "stdout",
     "output_type": "stream",
     "text": [
      "\n",
      "Question 23: Create a dictionary with function values: {'len': len, 'str': str, 'int': int}\n"
     ]
    },
    {
     "data": {
      "text/plain": [
       "dict"
      ]
     },
     "execution_count": 78,
     "metadata": {},
     "output_type": "execute_result"
    }
   ],
   "source": [
    "# Question 23: Create a dictionary with function values: {'len': len, 'str': str, 'int': int}\n",
    "print(\"\\nQuestion 23: Create a dictionary with function values: {'len': len, 'str': str, 'int': int}\")\n",
    "# Your code here\n",
    "d={'len':len,'str':str,'int':int}\n",
    "type(d)"
   ]
  },
  {
   "cell_type": "code",
   "execution_count": null,
   "id": "d39bb3cc",
   "metadata": {},
   "outputs": [
    {
     "name": "stdout",
     "output_type": "stream",
     "text": [
      "\n",
      "Question 24: Apply each function to '123' using dictionary\n",
      "<built-in function len>\n",
      "<class 'str'>\n",
      "<class 'int'>\n"
     ]
    },
    {
     "data": {
      "text/plain": [
       "{'len': <function len(obj, /)>, 'str': str, 'int': int}"
      ]
     },
     "execution_count": 79,
     "metadata": {},
     "output_type": "execute_result"
    }
   ],
   "source": [
    "# Question 24: Apply each function to \"123\" using dictionary\n",
    "print(\"\\nQuestion 24: Apply each function to '123' using dictionary\")\n",
    "# Your code here\n",
    "values='123'\n",
    "for i in d:\n",
    "    d[i]=d[i](values)\n",
    "d\n"
   ]
  },
  {
   "cell_type": "code",
   "execution_count": 85,
   "id": "8a91ae81",
   "metadata": {},
   "outputs": [
    {
     "name": "stdout",
     "output_type": "stream",
     "text": [
      "\n",
      "Question 25: Create a dictionary with lambda functions: {'double': lambda x: x*2, 'square': lambda x: x**2}\n"
     ]
    }
   ],
   "source": [
    "# Question 25: Create a dictionary with lambda functions: {'double': lambda x: x*2, 'square': lambda x: x**2}\n",
    "print(\"\\nQuestion 25: Create a dictionary with lambda functions: {'double': lambda x: x*2, 'square': lambda x: x**2}\")\n",
    "# Your code here\n",
    "d={'double': lambda x: x*2, 'square': lambda x: x**2}"
   ]
  },
  {
   "cell_type": "code",
   "execution_count": 89,
   "id": "11384798",
   "metadata": {},
   "outputs": [
    {
     "name": "stdout",
     "output_type": "stream",
     "text": [
      "\n",
      "Question 26: Apply each lambda function to 5\n",
      "{'double': 10, 'square': 25}\n"
     ]
    }
   ],
   "source": [
    "# Question 26: Apply each lambda function to 5\n",
    "print(\"\\nQuestion 26: Apply each lambda function to 5\")\n",
    "# Your code here\n",
    "d = {\n",
    "    'double': lambda x: x * 2,\n",
    "    'square': lambda x: x ** 2\n",
    "}\n",
    "\n",
    "result = {}\n",
    "for key, func in d.items():\n",
    "    result[key] = func(5)\n",
    "\n",
    "print(result)\n",
    "\n",
    "\n"
   ]
  }
 ],
 "metadata": {
  "kernelspec": {
   "display_name": "Python 3",
   "language": "python",
   "name": "python3"
  },
  "language_info": {
   "codemirror_mode": {
    "name": "ipython",
    "version": 3
   },
   "file_extension": ".py",
   "mimetype": "text/x-python",
   "name": "python",
   "nbconvert_exporter": "python",
   "pygments_lexer": "ipython3",
   "version": "3.13.5"
  }
 },
 "nbformat": 4,
 "nbformat_minor": 5
}
