{
 "cells": [
  {
   "cell_type": "code",
   "execution_count": null,
   "id": "87c776e7",
   "metadata": {},
   "outputs": [],
   "source": [
    "# COMPLEX DATATYPE ASSIGNMENT\n",
    "# =========================="
   ]
  },
  {
   "cell_type": "code",
   "execution_count": 2,
   "id": "5d473392",
   "metadata": {},
   "outputs": [
    {
     "name": "stdout",
     "output_type": "stream",
     "text": [
      "SOLVED EXAMPLE:\n",
      "Create a complex number and find its conjugate\n",
      "Complex number: (3+4j)\n",
      "Conjugate: (3-4j)\n",
      "Magnitude: 5.0\n",
      "--------------------------------------------------\n"
     ]
    }
   ],
   "source": [
    "# SOLVED EXAMPLE\n",
    "# --------------\n",
    "# Question: Create a complex number and find its conjugate\n",
    "print(\"SOLVED EXAMPLE:\")\n",
    "print(\"Create a complex number and find its conjugate\")\n",
    "z = 3 + 4j\n",
    "conjugate = z.conjugate()\n",
    "magnitude = abs(z)\n",
    "print(f\"Complex number: {z}\")\n",
    "print(f\"Conjugate: {conjugate}\")\n",
    "print(f\"Magnitude: {magnitude}\")\n",
    "print(\"-\" * 50)"
   ]
  },
  {
   "cell_type": "code",
   "execution_count": 3,
   "id": "9cca082c",
   "metadata": {},
   "outputs": [
    {
     "name": "stdout",
     "output_type": "stream",
     "text": [
      "Question 1: Create complex number 5 + 3j\n"
     ]
    },
    {
     "data": {
      "text/plain": [
       "complex"
      ]
     },
     "execution_count": 3,
     "metadata": {},
     "output_type": "execute_result"
    }
   ],
   "source": [
    "# Question 1: Create complex number 5 + 3j\n",
    "print(\"Question 1: Create complex number 5 + 3j\")\n",
    "# Your code here\n",
    "c=5+3j\n",
    "type(c)"
   ]
  },
  {
   "cell_type": "code",
   "execution_count": 4,
   "id": "439b89a4",
   "metadata": {},
   "outputs": [
    {
     "name": "stdout",
     "output_type": "stream",
     "text": [
      "\n",
      "Question 2: Find the real part of complex number 7 - 2j\n"
     ]
    },
    {
     "data": {
      "text/plain": [
       "7.0"
      ]
     },
     "execution_count": 4,
     "metadata": {},
     "output_type": "execute_result"
    }
   ],
   "source": [
    "# Question 2: Find the real part of complex number 7 - 2j\n",
    "print(\"\\nQuestion 2: Find the real part of complex number 7 - 2j\")\n",
    "# Your code here\n",
    "c=7 - 2j\n",
    "c.real"
   ]
  },
  {
   "cell_type": "code",
   "execution_count": 5,
   "id": "5c56ad43",
   "metadata": {},
   "outputs": [
    {
     "name": "stdout",
     "output_type": "stream",
     "text": [
      "\n",
      "Question 3: Find the imaginary part of complex number 4 + 6j\n"
     ]
    },
    {
     "data": {
      "text/plain": [
       "6.0"
      ]
     },
     "execution_count": 5,
     "metadata": {},
     "output_type": "execute_result"
    }
   ],
   "source": [
    "# Question 3: Find the imaginary part of complex number 4 + 6j\n",
    "print(\"\\nQuestion 3: Find the imaginary part of complex number 4 + 6j\")\n",
    "# Your code here\n",
    "c=4+6j\n",
    "c.imag"
   ]
  },
  {
   "cell_type": "code",
   "execution_count": 6,
   "id": "a413ac84",
   "metadata": {},
   "outputs": [
    {
     "name": "stdout",
     "output_type": "stream",
     "text": [
      "\n",
      "Question 4: Add two complex numbers: (3 + 2j) and (1 + 4j)\n",
      "(4+6j)\n"
     ]
    }
   ],
   "source": [
    "# Question 4: Add two complex numbers: (3 + 2j) and (1 + 4j)\n",
    "print(\"\\nQuestion 4: Add two complex numbers: (3 + 2j) and (1 + 4j)\")\n",
    "# Your code here\n",
    "a=3 + 2j\n",
    "b=1 + 4j\n",
    "print(a+b)"
   ]
  },
  {
   "cell_type": "code",
   "execution_count": 9,
   "id": "5f5aa173",
   "metadata": {},
   "outputs": [
    {
     "name": "stdout",
     "output_type": "stream",
     "text": [
      "\n",
      "Question 5: Multiply two complex numbers: (2 + 3j) and (1 + 2j)\n",
      "(-4+7j)\n"
     ]
    }
   ],
   "source": [
    "# Question 5: Multiply two complex numbers: (2 + 3j) and (1 + 2j)\n",
    "print(\"\\nQuestion 5: Multiply two complex numbers: (2 + 3j) and (1 + 2j)\")\n",
    "# Your code here\n",
    "a=2 + 3j\n",
    "b=1 + 2j\n",
    "print(a*b)"
   ]
  },
  {
   "cell_type": "code",
   "execution_count": 10,
   "id": "6cd24dbb",
   "metadata": {},
   "outputs": [
    {
     "name": "stdout",
     "output_type": "stream",
     "text": [
      "\n",
      "Question 6: Find the magnitude of complex number 6 + 8j\n"
     ]
    },
    {
     "data": {
      "text/plain": [
       "10.0"
      ]
     },
     "execution_count": 10,
     "metadata": {},
     "output_type": "execute_result"
    }
   ],
   "source": [
    "\n",
    "# Question 6: Find the magnitude of complex number 6 + 8j\n",
    "print(\"\\nQuestion 6: Find the magnitude of complex number 6 + 8j\")\n",
    "# Your code here\n",
    "import math\n",
    "\n",
    "a=6 + 8j\n",
    "magnitude=abs(a)\n",
    "magnitude\n"
   ]
  },
  {
   "cell_type": "code",
   "execution_count": 12,
   "metadata": {},
   "outputs": [
    {
     "name": "stdout",
     "output_type": "stream",
     "text": [
      "\n",
      "Question 7: Find the conjugate of complex number 5 - 7j\n"
     ]
    },
    {
     "data": {
      "text/plain": [
       "(5+7j)"
      ]
     },
     "execution_count": 12,
     "metadata": {},
     "output_type": "execute_result"
    }
   ],
   "source": [
    "# Question 7: Find the conjugate of complex number 5 - 7j\n",
    "print(\"\\nQuestion 7: Find the conjugate of complex number 5 - 7j\")\n",
    "# Your code here\n",
    "x=5-7j\n",
    "x.conjugate()\n"
   ]
  },
  {
   "cell_type": "code",
   "execution_count": 13,
   "id": "df814e45",
   "metadata": {},
   "outputs": [
    {
     "name": "stdout",
     "output_type": "stream",
     "text": [
      "\n",
      "Question 8: Subtract complex numbers: (10 + 5j) - (3 + 2j)\n",
      "(7+3j)\n"
     ]
    }
   ],
   "source": [
    "# Question 8: Subtract complex numbers: (10 + 5j) - (3 + 2j)\n",
    "print(\"\\nQuestion 8: Subtract complex numbers: (10 + 5j) - (3 + 2j)\")\n",
    "# Your code here\n",
    "print((10+5j)-(3+2j))"
   ]
  },
  {
   "cell_type": "code",
   "execution_count": 14,
   "id": "99cac00b",
   "metadata": {},
   "outputs": [
    {
     "name": "stdout",
     "output_type": "stream",
     "text": [
      "\n",
      "Question 9: Divide complex numbers: (8 + 6j) / (2 + 1j)\n",
      "(16.4+24.8j)\n"
     ]
    }
   ],
   "source": [
    "# Question 9: Divide complex numbers: (8 + 6j) / (2 + 1j)\n",
    "print(\"\\nQuestion 9: Divide complex numbers: (8 + 6j) / (2 + 1j)\")\n",
    "# Your code here\n",
    "print((8+66j)/(2+1j))"
   ]
  },
  {
   "cell_type": "code",
   "execution_count": 15,
   "id": "943afefb",
   "metadata": {},
   "outputs": [
    {
     "name": "stdout",
     "output_type": "stream",
     "text": [
      "\n",
      "Question 10: Find the phase angle of complex number 1 + 1j\n"
     ]
    },
    {
     "data": {
      "text/plain": [
       "0.7853981633974483"
      ]
     },
     "execution_count": 15,
     "metadata": {},
     "output_type": "execute_result"
    }
   ],
   "source": [
    "# Question 10: Find the phase angle of complex number 1 + 1j\n",
    "print(\"\\nQuestion 10: Find the phase angle of complex number 1 + 1j\")\n",
    "# Your code here \n",
    "import cmath\n",
    "c=1+1j\n",
    "cmath.phase(c)"
   ]
  }
 ],
 "metadata": {
  "kernelspec": {
   "display_name": "Python 3",
   "language": "python",
   "name": "python3"
  },
  "language_info": {
   "codemirror_mode": {
    "name": "ipython",
    "version": 3
   },
   "file_extension": ".py",
   "mimetype": "text/x-python",
   "name": "python",
   "nbconvert_exporter": "python",
   "pygments_lexer": "ipython3",
   "version": "3.13.5"
  }
 },
 "nbformat": 4,
 "nbformat_minor": 5
}
