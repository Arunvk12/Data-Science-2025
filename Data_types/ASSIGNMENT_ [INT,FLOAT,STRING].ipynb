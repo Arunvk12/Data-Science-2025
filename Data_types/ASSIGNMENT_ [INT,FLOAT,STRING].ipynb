{
 "cells": [
  {
   "cell_type": "code",
   "execution_count": null,
   "id": "3f406512",
   "metadata": {},
   "outputs": [],
   "source": []
  },
  {
   "cell_type": "code",
   "execution_count": null,
   "id": "09f9b5b3",
   "metadata": {},
   "outputs": [],
   "source": []
  },
  {
   "cell_type": "code",
   "execution_count": null,
   "id": "553425a2",
   "metadata": {},
   "outputs": [],
   "source": []
  },
  {
   "cell_type": "code",
   "execution_count": 1,
   "id": "b238e09c",
   "metadata": {},
   "outputs": [
    {
     "name": "stdout",
     "output_type": "stream",
     "text": [
      "SOLVED EXAMPLE:\n",
      "Calculate the sum of first 5 even numbers\n",
      "First 5 even numbers: [2, 4, 6, 8, 10]\n",
      "Sum: 30\n",
      "--------------------------------------------------\n"
     ]
    }
   ],
   "source": [
    "print(\"SOLVED EXAMPLE:\")\n",
    "print(\"Calculate the sum of first 5 even numbers\")\n",
    "first_5_even = [2, 4, 6, 8, 10]\n",
    "sum_even = sum(first_5_even)\n",
    "print(f\"First 5 even numbers: {first_5_even}\")\n",
    "print(f\"Sum: {sum_even}\")\n",
    "print(\"-\" * 50)\n"
   ]
  },
  {
   "cell_type": "code",
   "execution_count": 12,
   "id": "0ddbfcf4",
   "metadata": {},
   "outputs": [
    {
     "name": "stdout",
     "output_type": "stream",
     "text": [
      "Question 1: Calculate the product of first 10 natural numbers\n"
     ]
    },
    {
     "data": {
      "text/plain": [
       "3628800"
      ]
     },
     "execution_count": 12,
     "metadata": {},
     "output_type": "execute_result"
    }
   ],
   "source": [
    "# Question 1: Calculate the product of first 10 natural numbers\n",
    "print(\"Question 1: Calculate the product of first 10 natural numbers\")\n",
    "# Your code here\n",
    "import math\n",
    "n=math.factorial(10)\n",
    "n"
   ]
  },
  {
   "cell_type": "code",
   "execution_count": 5,
   "id": "9c31d93e",
   "metadata": {},
   "outputs": [
    {
     "name": "stdout",
     "output_type": "stream",
     "text": [
      "\n",
      "Question 2: Find the remainder when 156 is divided by 7\n"
     ]
    },
    {
     "data": {
      "text/plain": [
       "22.285714285714285"
      ]
     },
     "execution_count": 5,
     "metadata": {},
     "output_type": "execute_result"
    }
   ],
   "source": [
    "# Question 2: Find the remainder when 156 is divided by 7\n",
    "print(\"\\nQuestion 2: Find the remainder when 156 is divided by 7\")\n",
    "# Your code here\n",
    "n=156\n",
    "d=7\n",
    "r=n/d\n",
    "r"
   ]
  },
  {
   "cell_type": "code",
   "execution_count": 6,
   "id": "081eef61",
   "metadata": {},
   "outputs": [
    {
     "name": "stdout",
     "output_type": "stream",
     "text": [
      "\n",
      "Question 3: Calculate the square of 25\n"
     ]
    },
    {
     "data": {
      "text/plain": [
       "625"
      ]
     },
     "execution_count": 6,
     "metadata": {},
     "output_type": "execute_result"
    }
   ],
   "source": [
    "# Question 3: Calculate the square of 25\n",
    "print(\"\\nQuestion 3: Calculate the square of 25\")\n",
    "# Your code here\n",
    "n=25\n",
    "s=n**2\n",
    "s"
   ]
  },
  {
   "cell_type": "code",
   "execution_count": 10,
   "id": "74c9d627",
   "metadata": {},
   "outputs": [
    {
     "name": "stdout",
     "output_type": "stream",
     "text": [
      "\n",
      "Question 4: Find the cube root of 125\n"
     ]
    },
    {
     "data": {
      "text/plain": [
       "5"
      ]
     },
     "execution_count": 10,
     "metadata": {},
     "output_type": "execute_result"
    }
   ],
   "source": [
    "# Question 4: Find the cube root of 125\n",
    "print(\"\\nQuestion 4: Find the cube root of 125\")\n",
    "# Your code here\n",
    "n=125\n",
    "c=n**(1/3)\n",
    "round(c)\n"
   ]
  },
  {
   "cell_type": "code",
   "execution_count": 113,
   "id": "ca78f8ab",
   "metadata": {},
   "outputs": [
    {
     "name": "stdout",
     "output_type": "stream",
     "text": [
      "\n",
      "Question 5: Calculate the sum of digits in number 12345\n"
     ]
    },
    {
     "data": {
      "text/plain": [
       "15"
      ]
     },
     "execution_count": 113,
     "metadata": {},
     "output_type": "execute_result"
    }
   ],
   "source": [
    "# Question 5: Calculate the sum of digits in number 12345\n",
    "print(\"\\nQuestion 5: Calculate the sum of digits in number 12345\")\n",
    "# Your code here\n",
    "n=[1,2,3,4,5]\n",
    "t=sum(n)\n",
    "t\n"
   ]
  },
  {
   "cell_type": "code",
   "execution_count": 52,
   "id": "8856d42d",
   "metadata": {},
   "outputs": [
    {
     "name": "stdout",
     "output_type": "stream",
     "text": [
      "\n",
      "Question 6: Check if 97 is a prime number\n",
      "98\n",
      "not a prime no\n"
     ]
    }
   ],
   "source": [
    "# Question 6: Check if 97 is a prime number\n",
    "print(\"\\nQuestion 6: Check if 97 is a prime number\")\n",
    "# Your code here\n",
    "n=int(input())\n",
    "print(n)\n",
    "if n<2:\n",
    "    print(\"not a prime no\")\n",
    "else:\n",
    "    for i in range(2,n):\n",
    "        if n%i==0:\n",
    "            print(\"not a prime no\")\n",
    "            break\n",
    "    else:\n",
    "        print(\"yes it is a prime no\")"
   ]
  },
  {
   "cell_type": "code",
   "execution_count": 53,
   "id": "77b99045",
   "metadata": {},
   "outputs": [
    {
     "name": "stdout",
     "output_type": "stream",
     "text": [
      "\n",
      "Question 7: Find the factorial of 8\n",
      "40320\n"
     ]
    }
   ],
   "source": [
    "# Question 7: Find the factorial of 8\n",
    "print(\"\\nQuestion 7: Find the factorial of 8\")\n",
    "# Your code here\n",
    "import math\n",
    "n=int(input())\n",
    "print(math.factorial(n))"
   ]
  },
  {
   "cell_type": "code",
   "execution_count": 61,
   "id": "87819bc8",
   "metadata": {},
   "outputs": [
    {
     "name": "stdout",
     "output_type": "stream",
     "text": [
      "40320\n"
     ]
    }
   ],
   "source": [
    "n=int(input())\n",
    "fact=1\n",
    "for i in range(1,n+1):\n",
    "    fact=fact*i\n",
    "    \n",
    "print(fact)\n",
    "\n",
    "    \n",
    "    "
   ]
  },
  {
   "cell_type": "code",
   "execution_count": 63,
   "id": "714ec0f3",
   "metadata": {},
   "outputs": [
    {
     "name": "stdout",
     "output_type": "stream",
     "text": [
      "\n",
      "Question 8: Calculate the average of numbers: 15, 23, 31, 42, 56\n"
     ]
    },
    {
     "data": {
      "text/plain": [
       "33.4"
      ]
     },
     "execution_count": 63,
     "metadata": {},
     "output_type": "execute_result"
    }
   ],
   "source": [
    "# Question 8: Calculate the average of numbers: 15, 23, 31, 42, 56\n",
    "print(\"\\nQuestion 8: Calculate the average of numbers: 15, 23, 31, 42, 56\")\n",
    "# Your code here\n",
    "n=15, 23, 31, 42, 56\n",
    "avg=sum(n)/len(n)\n",
    "avg"
   ]
  },
  {
   "cell_type": "code",
   "execution_count": 90,
   "id": "b1dab388",
   "metadata": {},
   "outputs": [
    {
     "name": "stdout",
     "output_type": "stream",
     "text": [
      "\n",
      "Question 9: Find the greatest common divisor (GCD) of 48 and 36\n"
     ]
    },
    {
     "data": {
      "text/plain": [
       "1"
      ]
     },
     "execution_count": 90,
     "metadata": {},
     "output_type": "execute_result"
    }
   ],
   "source": [
    "# Question 9: Find the greatest common divisor (GCD) of 48 and 36\n",
    "print(\"\\nQuestion 9: Find the greatest common divisor (GCD) of 48 and 36\")\n",
    "# Your code here\n",
    "import math\n",
    "gcd=math.gcd(45,88)\n",
    "gcd"
   ]
  },
  {
   "cell_type": "code",
   "execution_count": 92,
   "id": "0a0a16ec",
   "metadata": {},
   "outputs": [
    {
     "name": "stdout",
     "output_type": "stream",
     "text": [
      "GCD is: 1\n"
     ]
    }
   ],
   "source": [
    "n = 45\n",
    "d = 88\n",
    "\n",
    "# Swap if needed\n",
    "if n < d:\n",
    "    n, d = d, n\n",
    "\n",
    "while d != 0:\n",
    "    n, d = d, n % d\n",
    "\n",
    "print(\"GCD is:\", n)\n"
   ]
  },
  {
   "cell_type": "code",
   "execution_count": 108,
   "id": "afb2acc2",
   "metadata": {},
   "outputs": [
    {
     "name": "stdout",
     "output_type": "stream",
     "text": [
      "\n",
      "Question 10: Calculate the sum of first 20 odd numbers\n",
      "Sum is: 400\n"
     ]
    }
   ],
   "source": [
    "# Question 10: Calculate the sum of first 20 odd numbers\n",
    "print(\"\\nQuestion 10: Calculate the sum of first 20 odd numbers\")\n",
    "# Your code here \n",
    "n = int(input(\"Enter how many odd numbers to sum: \"))\n",
    "print(\"Sum is:\", n * n)\n"
   ]
  },
  {
   "cell_type": "code",
   "execution_count": 1,
   "id": "076b1eda",
   "metadata": {},
   "outputs": [
    {
     "name": "stdout",
     "output_type": "stream",
     "text": [
      "SOLVED EXAMPLE:\n",
      "Calculate the area of a circle with radius 5.5\n",
      "Radius: 5.5\n",
      "Area: 95.03\n",
      "--------------------------------------------------\n"
     ]
    }
   ],
   "source": [
    "# Question: Calculate the area of a circle with radius 5.5\n",
    "print(\"SOLVED EXAMPLE:\")\n",
    "print(\"Calculate the area of a circle with radius 5.5\")\n",
    "import math\n",
    "radius = 5.5\n",
    "area = math.pi * radius ** 2\n",
    "print(f\"Radius: {radius}\")\n",
    "print(f\"Area: {area:.2f}\")\n",
    "print(\"-\" * 50)"
   ]
  },
  {
   "cell_type": "code",
   "execution_count": 4,
   "id": "22c16dfc",
   "metadata": {},
   "outputs": [
    {
     "name": "stdout",
     "output_type": "stream",
     "text": [
      "Question 1: Calculate the average of 3.14, 2.718, 1.618, 0.577\n",
      "2.01325\n"
     ]
    }
   ],
   "source": [
    "# Question 1: Calculate the average of 3.14, 2.718, 1.618, 0.577\n",
    "print(\"Question 1: Calculate the average of 3.14, 2.718, 1.618, 0.577\")\n",
    "# Your code here\n",
    "a=[3.14, 2.718, 1.618, 0.577]\n",
    "print(sum(a)/len(a))\n",
    "\n"
   ]
  },
  {
   "cell_type": "code",
   "execution_count": 9,
   "id": "e76133d7",
   "metadata": {},
   "outputs": [
    {
     "name": "stdout",
     "output_type": "stream",
     "text": [
      "\n",
      "Question 2: Convert 98.6 Fahrenheit to Celsius\n",
      "37.0\n"
     ]
    }
   ],
   "source": [
    "# Question 2: Convert 98.6 Fahrenheit to Celsius (F = C * 9/5 + 32)\n",
    "print(\"\\nQuestion 2: Convert 98.6 Fahrenheit to Celsius\")\n",
    "# Your code here\n",
    "f=float(input())\n",
    "celsius=(f-32)*5/9#C=(F−32)×5/9\n",
    "print(celsius)\n",
    "\n"
   ]
  },
  {
   "cell_type": "code",
   "execution_count": 16,
   "id": "56b10524",
   "metadata": {},
   "outputs": [
    {
     "name": "stdout",
     "output_type": "stream",
     "text": [
      "\n",
      "Question 3: Calculate compound interest on $1000 at 5.5% for 3 years\n",
      "compound interest is1174.24\n"
     ]
    }
   ],
   "source": [
    "# Question 3: Calculate the compound interest on $1000 at 5.5% for 3 years\n",
    "print(\"\\nQuestion 3: Calculate compound interest on $1000 at 5.5% for 3 years\")\n",
    "# Your code here\n",
    "p=float(input(\"enter the principle:\"))\n",
    "r=float(input(\"enter the annual rate\"))\n",
    "t=float(input(\"enter the time in years\"))\n",
    "\n",
    "A=p*(1+r/100)**t\n",
    "print(f\"compound interest is{A:.2f}\")"
   ]
  },
  {
   "cell_type": "code",
   "execution_count": 18,
   "id": "73bcc031",
   "metadata": {},
   "outputs": [
    {
     "name": "stdout",
     "output_type": "stream",
     "text": [
      "\n",
      "Question 4: Find the hypotenuse of a right triangle with sides 3.5 and 4.2\n"
     ]
    },
    {
     "data": {
      "text/plain": [
       "21.14"
      ]
     },
     "execution_count": 18,
     "metadata": {},
     "output_type": "execute_result"
    }
   ],
   "source": [
    "# Question 4: Find the hypotenuse of a right triangle with sides 3.5 and 4.2\n",
    "print(\"\\nQuestion 4: Find the hypotenuse of a right triangle with sides 3.5 and 4.2\")\n",
    "# Your code here\n",
    "import math\n",
    "a=float(input())\n",
    "b=float(input())\n",
    "RT=math.sqrt(a**2)+(b**2)\n",
    "RT\n"
   ]
  },
  {
   "cell_type": "code",
   "execution_count": 23,
   "id": "958eeec5",
   "metadata": {},
   "outputs": [
    {
     "name": "stdout",
     "output_type": "stream",
     "text": [
      "\n",
      "Question 5: Calculate the volume of a sphere with radius 7.8\n",
      "volume1987.80\n"
     ]
    }
   ],
   "source": [
    "# Question 5: Calculate the volume of a sphere with radius 7.8\n",
    "print(\"\\nQuestion 5: Calculate the volume of a sphere with radius 7.8\")\n",
    "# Your code here\n",
    "import math\n",
    "r=float(input())\n",
    "v=4/3*math.pi*r**3\n",
    "print(f'volume{v:.2f}')\n"
   ]
  },
  {
   "cell_type": "code",
   "execution_count": 25,
   "id": "3f4a0088",
   "metadata": {},
   "outputs": [
    {
     "name": "stdout",
     "output_type": "stream",
     "text": [
      "\n",
      "Question 6: Round 3.14159 to 3 decimal places\n",
      " 3.142\n"
     ]
    }
   ],
   "source": [
    "# Question 6: Round 3.14159 to 3 decimal places\n",
    "print(\"\\nQuestion 6: Round 3.14159 to 3 decimal places\")\n",
    "# Your code here\n",
    "r=3.14159\n",
    "print(f\" {r:.3f}\")"
   ]
  },
  {
   "cell_type": "code",
   "execution_count": 28,
   "id": "70944141",
   "metadata": {},
   "outputs": [
    {
     "name": "stdout",
     "output_type": "stream",
     "text": [
      "\n",
      "Question 7: Calculate the percentage: 45 out of 67\n",
      "67.16%\n"
     ]
    }
   ],
   "source": [
    "# Question 7: Calculate the percentage: 45 out of 67\n",
    "print(\"\\nQuestion 7: Calculate the percentage: 45 out of 67\")\n",
    "# Your code here\n",
    "a=45\n",
    "b=67\n",
    "p=a/b*100\n",
    "print(f'{p:.4}%')"
   ]
  },
  {
   "cell_type": "code",
   "execution_count": 31,
   "id": "321cec79",
   "metadata": {},
   "outputs": [
    {
     "name": "stdout",
     "output_type": "stream",
     "text": [
      "\n",
      "Question 8: Find the square root of 23.456\n"
     ]
    },
    {
     "data": {
      "text/plain": [
       "5"
      ]
     },
     "execution_count": 31,
     "metadata": {},
     "output_type": "execute_result"
    }
   ],
   "source": [
    "# Question 8: Find the square root of 23.456\n",
    "print(\"\\nQuestion 8: Find the square root of 23.456\")\n",
    "# Your code here\n",
    "n=23.456\n",
    "r=n**(1/2)\n",
    "round(r)"
   ]
  },
  {
   "cell_type": "code",
   "execution_count": 33,
   "id": "6fac1125",
   "metadata": {},
   "outputs": [
    {
     "name": "stdout",
     "output_type": "stream",
     "text": [
      "\n",
      "Question 9: Calculate simple interest: Principal=2500, Rate=6.5%, Time=2.5 years\n"
     ]
    },
    {
     "data": {
      "text/plain": [
       "406.25"
      ]
     },
     "execution_count": 33,
     "metadata": {},
     "output_type": "execute_result"
    }
   ],
   "source": [
    "# Question 9: Calculate the simple interest: Principal=2500, Rate=6.5%, Time=2.5 years\n",
    "print(\"\\nQuestion 9: Calculate simple interest: Principal=2500, Rate=6.5%, Time=2.5 years\")\n",
    "# Your code here\n",
    "p=2500\n",
    "r=6.5\n",
    "t=2.5\n",
    "si=(p*r*t)/100\n",
    "si"
   ]
  },
  {
   "cell_type": "code",
   "execution_count": 34,
   "id": "66da83b3",
   "metadata": {},
   "outputs": [
    {
     "name": "stdout",
     "output_type": "stream",
     "text": [
      "\n",
      "Question 10: Convert 45.7 degrees to radians\n"
     ]
    },
    {
     "data": {
      "text/plain": [
       "0.7976154681614086"
      ]
     },
     "execution_count": 34,
     "metadata": {},
     "output_type": "execute_result"
    }
   ],
   "source": [
    "# Question 10: Convert 45.7 degrees to radians\n",
    "print(\"\\nQuestion 10: Convert 45.7 degrees to radians\")\n",
    "# Your code here \n",
    "import math\n",
    "d=45.7\n",
    "r=d*math.pi/180\n",
    "r"
   ]
  },
  {
   "cell_type": "code",
   "execution_count": 36,
   "id": "96316bb1",
   "metadata": {},
   "outputs": [
    {
     "name": "stdout",
     "output_type": "stream",
     "text": [
      "SOLVED EXAMPLE:\n",
      "Count vowels in the string 'Hello World'\n",
      "String: Hello World\n",
      "Number of vowels: 3\n",
      "--------------------------------------------------\n"
     ]
    }
   ],
   "source": [
    "print(\"SOLVED EXAMPLE:\")\n",
    "print(\"Count vowels in the string 'Hello World'\")\n",
    "text = \"Hello World\"\n",
    "vowels = \"aeiouAEIOU\"\n",
    "count = sum(1 for char in text if char in vowels)\n",
    "print(f\"String: {text}\")\n",
    "print(f\"Number of vowels: {count}\")\n",
    "print(\"-\" * 50)"
   ]
  },
  {
   "cell_type": "code",
   "execution_count": 3,
   "id": "8548d465",
   "metadata": {},
   "outputs": [
    {
     "name": "stdout",
     "output_type": "stream",
     "text": [
      "3\n"
     ]
    }
   ],
   "source": [
    "text=\"Hello World\"\n",
    "vowels='aeiouAEIOU'\n",
    "count=0\n",
    "for i in text:\n",
    "    if i in vowels:\n",
    "        count=count+1\n",
    "print(count)"
   ]
  },
  {
   "cell_type": "code",
   "execution_count": null,
   "id": "8c12f5c9",
   "metadata": {},
   "outputs": [
    {
     "name": "stdout",
     "output_type": "stream",
     "text": [
      "Question 1: Reverse the string 'Python Programming'\n"
     ]
    },
    {
     "data": {
      "text/plain": [
       "'gnimmargorP nohtyP'"
      ]
     },
     "execution_count": 26,
     "metadata": {},
     "output_type": "execute_result"
    }
   ],
   "source": [
    "\n",
    "# Question 1: Reverse the string \"Python Programming\"\n",
    "print(\"Question 1: Reverse the string 'Python Programming'\")\n",
    "# Your code here\n",
    "str='Python Programming'\n",
    "str[::-1]#string[start : stop : step]"
   ]
  },
  {
   "cell_type": "code",
   "execution_count": 29,
   "id": "45ae981e",
   "metadata": {},
   "outputs": [
    {
     "name": "stdout",
     "output_type": "stream",
     "text": [
      "\n",
      "Question 2: Check if 'racecar' is a palindrome\n",
      "it is a plindrome\n"
     ]
    }
   ],
   "source": [
    "# Question 2: Check if \"racecar\" is a palindrome\n",
    "print(\"\\nQuestion 2: Check if 'racecar' is a palindrome\")\n",
    "# Your code here\n",
    "a=input(\"enter the string:\")\n",
    "b=a[::-1]\n",
    "if a==b:\n",
    "    print(\"it is a plindrome\")\n",
    "else:\n",
    "    print(\"it is not a plindrome\")\n",
    "\n"
   ]
  },
  {
   "cell_type": "code",
   "execution_count": 32,
   "id": "c12e9006",
   "metadata": {},
   "outputs": [
    {
     "name": "stdout",
     "output_type": "stream",
     "text": [
      "\n",
      "Question 3: Count the number of words in 'Python is a great programming language'\n",
      "6\n"
     ]
    }
   ],
   "source": [
    "# Question 3: Count the number of words in \"Python is a great programming language\"\n",
    "print(\"\\nQuestion 3: Count the number of words in 'Python is a great programming language'\")\n",
    "# Your code here\n",
    "w='Python is a great programming language'\n",
    "s=w.split()\n",
    "print(len(s))"
   ]
  },
  {
   "cell_type": "code",
   "execution_count": 33,
   "id": "cc2c3504",
   "metadata": {},
   "outputs": [
    {
     "name": "stdout",
     "output_type": "stream",
     "text": [
      "\n",
      "Question 4: Convert 'hello world' to title case\n"
     ]
    },
    {
     "data": {
      "text/plain": [
       "'Hello World'"
      ]
     },
     "execution_count": 33,
     "metadata": {},
     "output_type": "execute_result"
    }
   ],
   "source": [
    "# Question 4: Convert \"hello world\" to title case\n",
    "print(\"\\nQuestion 4: Convert 'hello world' to title case\")\n",
    "# Your code here\n",
    "w='hello world'\n",
    "w.title()"
   ]
  },
  {
   "cell_type": "code",
   "execution_count": 35,
   "id": "d9b0bc9c",
   "metadata": {},
   "outputs": [
    {
     "name": "stdout",
     "output_type": "stream",
     "text": [
      "\n",
      "Question 5: Find the length of string 'Data Science'\n",
      "12\n"
     ]
    }
   ],
   "source": [
    "# Question 5: Find the length of string \"Data Science\"\n",
    "print(\"\\nQuestion 5: Find the length of string 'Data Science'\")\n",
    "# Your code here\n",
    "a='Data Science'\n",
    "print(len(a))\n"
   ]
  },
  {
   "cell_type": "code",
   "execution_count": 36,
   "id": "1a4e57a1",
   "metadata": {},
   "outputs": [
    {
     "name": "stdout",
     "output_type": "stream",
     "text": [
      "\n",
      "Question 6: Replace all spaces with underscores in 'Machine Learning'\n"
     ]
    },
    {
     "data": {
      "text/plain": [
       "'Machine_Learning'"
      ]
     },
     "execution_count": 36,
     "metadata": {},
     "output_type": "execute_result"
    }
   ],
   "source": [
    "# Question 6: Replace all spaces with underscores in \"Machine Learning\"\n",
    "print(\"\\nQuestion 6: Replace all spaces with underscores in 'Machine Learning'\")\n",
    "# Your code here\n",
    "w='Machine Learning'\n",
    "w.replace(\" \",\"_\")"
   ]
  },
  {
   "cell_type": "code",
   "execution_count": 37,
   "id": "a6d90b0b",
   "metadata": {},
   "outputs": [
    {
     "name": "stdout",
     "output_type": "stream",
     "text": [
      "\n",
      "Question 7: Check if 'python' is in 'Python Programming Language'\n"
     ]
    },
    {
     "data": {
      "text/plain": [
       "False"
      ]
     },
     "execution_count": 37,
     "metadata": {},
     "output_type": "execute_result"
    }
   ],
   "source": [
    "# Question 7: Check if \"python\" is in \"Python Programming Language\"\n",
    "print(\"\\nQuestion 7: Check if 'python' is in 'Python Programming Language'\")\n",
    "# Your code here\n",
    "a='Python Programming Language'\n",
    "\"python\" in a"
   ]
  },
  {
   "cell_type": "code",
   "execution_count": 39,
   "id": "63fd2ff8",
   "metadata": {},
   "outputs": [
    {
     "name": "stdout",
     "output_type": "stream",
     "text": [
      "\n",
      "Question 8: Extract the first 5 characters from 'Artificial Intelligence'\n"
     ]
    },
    {
     "data": {
      "text/plain": [
       "'Artifi'"
      ]
     },
     "execution_count": 39,
     "metadata": {},
     "output_type": "execute_result"
    }
   ],
   "source": [
    "# Question 8: Extract the first 5 characters from \"Artificial Intelligence\"\n",
    "print(\"\\nQuestion 8: Extract the first 5 characters from 'Artificial Intelligence'\")\n",
    "# Your code here\n",
    "a='Artificial Intelligence'\n",
    "a[0:6]"
   ]
  },
  {
   "cell_type": "code",
   "execution_count": 40,
   "id": "a2b44058",
   "metadata": {},
   "outputs": [
    {
     "name": "stdout",
     "output_type": "stream",
     "text": [
      "\n",
      "Question 9: Convert 'UPPERCASE' to lowercase\n"
     ]
    },
    {
     "data": {
      "text/plain": [
       "'uppercase'"
      ]
     },
     "execution_count": 40,
     "metadata": {},
     "output_type": "execute_result"
    }
   ],
   "source": [
    "# Question 9: Convert \"UPPERCASE\" to lowercase\n",
    "print(\"\\nQuestion 9: Convert 'UPPERCASE' to lowercase\")\n",
    "# Your code here\n",
    "a='UPPERCASE'\n",
    "a.lower()"
   ]
  },
  {
   "cell_type": "code",
   "execution_count": 56,
   "id": "da07697e",
   "metadata": {},
   "outputs": [
    {
     "name": "stdout",
     "output_type": "stream",
     "text": [
      "\n",
      "Question 10: Remove all vowels from 'Computer Science'\n",
      "C\n",
      "m\n",
      "p\n",
      "t\n",
      "r\n",
      "S\n",
      "c\n",
      "n\n",
      "c\n"
     ]
    }
   ],
   "source": [
    "# Question 10: Remove all vowels from \"Computer Science\"\n",
    "print(\"\\nQuestion 10: Remove all vowels from 'Computer Science'\")\n",
    "# Your code here\n",
    "a='Computer Science'\n",
    "for i in a:\n",
    "    if i not in \" aeiouAEIOU\":\n",
    "        print(i)\n",
    "\n",
    "        "
   ]
  },
  {
   "cell_type": "code",
   "execution_count": 1,
   "id": "dfe39f22",
   "metadata": {},
   "outputs": [
    {
     "name": "stdout",
     "output_type": "stream",
     "text": [
      "\n",
      "Question 11: Find the most frequent character in 'mississippi'\n",
      "\n",
      "Question 11: Find the most frequent character in 'mississippi'\n",
      "Most frequent character: s\n"
     ]
    }
   ],
   "source": [
    "# Question 11: Find the most frequent character in \"mississippi\"\n",
    "print(\"\\nQuestion 11: Find the most frequent character in 'mississippi'\")\n",
    "# Your code here\n",
    "print(\"\\nQuestion 11: Find the most frequent character in 'mississippi'\")\n",
    "\n",
    "text = \"mississippi\"\n",
    "most_freq = max(set(text), key=text.count)\n",
    "print(\"Most frequent character:\", most_freq)\n"
   ]
  },
  {
   "cell_type": "code",
   "execution_count": null,
   "id": "6490f285",
   "metadata": {},
   "outputs": [],
   "source": []
  },
  {
   "cell_type": "code",
   "execution_count": 91,
   "id": "deaace3c",
   "metadata": {},
   "outputs": [
    {
     "name": "stdout",
     "output_type": "stream",
     "text": [
      "\n",
      "Question 12: Check if two strings are anagrams: 'listen' and 'silent'\n",
      "not a anagram\n"
     ]
    }
   ],
   "source": [
    "# Question 12: Check if two strings are anagrams: \"listen\" and \"silent\"\n",
    "print(\"\\nQuestion 12: Check if two strings are anagrams: 'listen' and 'silent'\")\n",
    "# Your code here\n",
    "a=input()\n",
    "b=input()\n",
    "if sorted(a)==sorted(b):\n",
    "    \n",
    "    print(\"it is a anagram\")\n",
    "else:\n",
    "    print(\"not a anagram\")\n",
    "\n"
   ]
  },
  {
   "cell_type": "code",
   "execution_count": 92,
   "id": "2f14bd16",
   "metadata": {},
   "outputs": [
    {
     "name": "stdout",
     "output_type": "stream",
     "text": [
      "\n",
      "Question 13: Capitalize first letter of each word in 'python programming language'\n"
     ]
    },
    {
     "data": {
      "text/plain": [
       "'Python Programming Language'"
      ]
     },
     "execution_count": 92,
     "metadata": {},
     "output_type": "execute_result"
    }
   ],
   "source": [
    "# Question 13: Capitalize first letter of each word in \"python programming language\"\n",
    "print(\"\\nQuestion 13: Capitalize first letter of each word in 'python programming language'\")\n",
    "# Your code here\n",
    "a='python programming language'\n",
    "a.title()"
   ]
  },
  {
   "cell_type": "code",
   "execution_count": 94,
   "id": "c1486d42",
   "metadata": {},
   "outputs": [
    {
     "name": "stdout",
     "output_type": "stream",
     "text": [
      "\n",
      "Question 14: Count consonants in 'Hello World'\n",
      "7\n"
     ]
    }
   ],
   "source": [
    "# Question 14: Count consonants in \"Hello World\"\n",
    "print(\"\\nQuestion 14: Count consonants in 'Hello World'\")\n",
    "# Your code here\n",
    "a='Hello World'\n",
    "count=0\n",
    "for i in a:\n",
    "    if i not in \" AEIOUaeiou\":\n",
    "        count=count+1\n",
    "print(count)"
   ]
  },
  {
   "cell_type": "code",
   "execution_count": 113,
   "id": "8ac135cf",
   "metadata": {},
   "outputs": [
    {
     "name": "stdout",
     "output_type": "stream",
     "text": [
      "\n",
      "Question 15: Find the longest word in 'Python is a programming language'\n",
      "Python\n",
      "programming\n"
     ]
    }
   ],
   "source": [
    "# Question 15: Find the longest word in \"Python is a programming language\"\n",
    "print(\"\\nQuestion 15: Find the longest word in 'Python is a programming language'\")\n",
    "# Your code here\n",
    "a='Python is a programming language'\n",
    "s=a.split()\n",
    "longest=s[0]\n",
    "print(longest)\n",
    "for i in s:\n",
    "    if len(i)>len(longest):\n",
    "        longest=i\n",
    "print(longest)\n",
    "\n",
    "\n",
    "    \n",
    "\n",
    "    "
   ]
  },
  {
   "cell_type": "code",
   "execution_count": 117,
   "id": "95d89291",
   "metadata": {},
   "outputs": [
    {
     "name": "stdout",
     "output_type": "stream",
     "text": [
      "\n",
      "Question 16: Remove all punctuation from 'Hello, World! How are you?'\n",
      "Hello World How are you"
     ]
    }
   ],
   "source": [
    "# Question 16: Remove all punctuation from \"Hello, World! How are you?\"\n",
    "print(\"\\nQuestion 16: Remove all punctuation from 'Hello, World! How are you?'\")\n",
    "# Your code here    \n",
    "a='Hello, World! How are you?'\n",
    "for i in a:\n",
    "    if i not in \",!?\":\n",
    "        print(i,end=\"\")"
   ]
  },
  {
   "cell_type": "code",
   "execution_count": 119,
   "id": "6950785f",
   "metadata": {},
   "outputs": [
    {
     "name": "stdout",
     "output_type": "stream",
     "text": [
      "\n",
      "Question 17: Check if string starts with 'Python'\n"
     ]
    },
    {
     "data": {
      "text/plain": [
       "True"
      ]
     },
     "execution_count": 119,
     "metadata": {},
     "output_type": "execute_result"
    }
   ],
   "source": [
    "# Question 17: Check if string starts with \"Python\"\n",
    "print(\"\\nQuestion 17: Check if string starts with 'Python'\")\n",
    "# Your code here\n",
    "a='Python'\n",
    "a.startswith(\"Python\")"
   ]
  },
  {
   "cell_type": "code",
   "execution_count": 120,
   "id": "4252c9fa",
   "metadata": {},
   "outputs": [
    {
     "name": "stdout",
     "output_type": "stream",
     "text": [
      "\n",
      "Question 18: Find the index of first occurrence of 'o' in 'Hello World'\n"
     ]
    },
    {
     "data": {
      "text/plain": [
       "4"
      ]
     },
     "execution_count": 120,
     "metadata": {},
     "output_type": "execute_result"
    }
   ],
   "source": [
    "# Question 18: Find the index of first occurrence of 'o' in \"Hello World\"\n",
    "print(\"\\nQuestion 18: Find the index of first occurrence of 'o' in 'Hello World'\")\n",
    "# Your code here\n",
    "w='Hello World'\n",
    "w.find(\"o\")"
   ]
  },
  {
   "cell_type": "code",
   "execution_count": 122,
   "id": "5a32ed07",
   "metadata": {},
   "outputs": [
    {
     "name": "stdout",
     "output_type": "stream",
     "text": [
      "\n",
      "Question 19: Split string 'apple,banana,orange' by comma\n"
     ]
    },
    {
     "data": {
      "text/plain": [
       "['apple', 'banana', 'orange']"
      ]
     },
     "execution_count": 122,
     "metadata": {},
     "output_type": "execute_result"
    }
   ],
   "source": [
    "# Question 19: Split string \"apple,banana,orange\" by comma\n",
    "print(\"\\nQuestion 19: Split string 'apple,banana,orange' by comma\")\n",
    "# Your code here\n",
    "a='apple,banana,orange'\n",
    "a.split(',')"
   ]
  },
  {
   "cell_type": "code",
   "execution_count": 130,
   "id": "972febd6",
   "metadata": {},
   "outputs": [
    {
     "name": "stdout",
     "output_type": "stream",
     "text": [
      "\n",
      "Question 20: Join list ['Python', 'is', 'awesome'] with spaces\n"
     ]
    },
    {
     "data": {
      "text/plain": [
       "'Python is awesome'"
      ]
     },
     "execution_count": 130,
     "metadata": {},
     "output_type": "execute_result"
    }
   ],
   "source": [
    "# Question 20: Join list ['Python', 'is', 'awesome'] with spaces\n",
    "print(\"\\nQuestion 20: Join list ['Python', 'is', 'awesome'] with spaces\")\n",
    "# Your code here\n",
    "a= ['Python', 'is', 'awesome']\n",
    "\" \".join(a)"
   ]
  },
  {
   "cell_type": "code",
   "execution_count": 131,
   "id": "bf9c2209",
   "metadata": {},
   "outputs": [
    {
     "name": "stdout",
     "output_type": "stream",
     "text": [
      "\n",
      "Question 21: Check if string contains only digits: '12345'\n"
     ]
    },
    {
     "data": {
      "text/plain": [
       "True"
      ]
     },
     "execution_count": 131,
     "metadata": {},
     "output_type": "execute_result"
    }
   ],
   "source": [
    "# Question 21: Check if string contains only digits: \"12345\"\n",
    "print(\"\\nQuestion 21: Check if string contains only digits: '12345'\")\n",
    "# Your code here\n",
    "st='123456'\n",
    "st.isdigit()\n"
   ]
  },
  {
   "cell_type": "code",
   "execution_count": 133,
   "id": "4e65d267",
   "metadata": {},
   "outputs": [
    {
     "name": "stdout",
     "output_type": "stream",
     "text": [
      "\n",
      "Question 22: Check if string contains only letters: 'HelloWorld'\n"
     ]
    },
    {
     "data": {
      "text/plain": [
       "True"
      ]
     },
     "execution_count": 133,
     "metadata": {},
     "output_type": "execute_result"
    }
   ],
   "source": [
    "# Question 22: Check if string contains only letters: \"HelloWorld\"\n",
    "print(\"\\nQuestion 22: Check if string contains only letters: 'HelloWorld'\")\n",
    "# Your code here\n",
    "str='HelloWorld'\n",
    "str.isalpha()"
   ]
  },
  {
   "cell_type": "code",
   "execution_count": 162,
   "id": "3674e5c0",
   "metadata": {},
   "outputs": [
    {
     "name": "stdout",
     "output_type": "stream",
     "text": [
      "\n",
      "Question 23: Convert 'hello world' to 'hElLo WoRlD' (alternating case)\n",
      " hElLo WoRlD\n"
     ]
    }
   ],
   "source": [
    "# Question 23: Convert \"hello world\" to \"hElLo WoRlD\" (alternating case)\n",
    "print(\"\\nQuestion 23: Convert 'hello world' to 'hElLo WoRlD' (alternating case)\")\n",
    "# Your code here\n",
    "s=\"hello world\"\n",
    "count=\" \"\n",
    "index=0\n",
    "for i in s:\n",
    "    if i ==\" \":\n",
    "        count+=\" \"\n",
    "    else:\n",
    "        if index%2==0:\n",
    "            count+=i.lower()\n",
    "        else:\n",
    "            count+=i.upper()\n",
    "        index +=1\n",
    "print(count)\n"
   ]
  },
  {
   "cell_type": "code",
   "execution_count": 176,
   "id": "f85e04e1",
   "metadata": {},
   "outputs": [
    {
     "name": "stdout",
     "output_type": "stream",
     "text": [
      "\n",
      "Question 24: Find all positions of 'a' in 'banana'\n",
      "[1, 3, 5]\n"
     ]
    }
   ],
   "source": [
    "# Question 24: Find all positions of 'a' in \"banana\"\n",
    "print(\"\\nQuestion 24: Find all positions of 'a' in 'banana'\")\n",
    "# Your code here\n",
    "wrd='banana'\n",
    "postion=[]\n",
    "for index, i in enumerate(wrd):\n",
    "    if i==\"a\":\n",
    "        postion.append(index)\n",
    "print(postion)\n",
    "        \n"
   ]
  },
  {
   "cell_type": "code",
   "execution_count": 172,
   "id": "96d726e4",
   "metadata": {},
   "outputs": [
    {
     "name": "stdout",
     "output_type": "stream",
     "text": [
      "\n",
      "Question 25: Remove leading and trailing whitespace from '  Hello World  '\n"
     ]
    },
    {
     "data": {
      "text/plain": [
       "'Hello World'"
      ]
     },
     "execution_count": 172,
     "metadata": {},
     "output_type": "execute_result"
    }
   ],
   "source": [
    "# Question 25: Remove leading and trailing whitespace from \"  Hello World  \"\n",
    "print(\"\\nQuestion 25: Remove leading and trailing whitespace from '  Hello World  '\")\n",
    "# Your code here\n",
    "s='  Hello World  '\n",
    "s.strip()"
   ]
  },
  {
   "cell_type": "code",
   "execution_count": null,
   "id": "ab120ca9",
   "metadata": {},
   "outputs": [],
   "source": []
  }
 ],
 "metadata": {
  "kernelspec": {
   "display_name": "Python 3",
   "language": "python",
   "name": "python3"
  },
  "language_info": {
   "codemirror_mode": {
    "name": "ipython",
    "version": 3
   },
   "file_extension": ".py",
   "mimetype": "text/x-python",
   "name": "python",
   "nbconvert_exporter": "python",
   "pygments_lexer": "ipython3",
   "version": "3.13.5"
  }
 },
 "nbformat": 4,
 "nbformat_minor": 5
}
