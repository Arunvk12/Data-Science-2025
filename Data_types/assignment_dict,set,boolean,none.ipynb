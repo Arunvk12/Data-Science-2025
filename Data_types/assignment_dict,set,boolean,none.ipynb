{
 "cells": [
  {
   "cell_type": "code",
   "execution_count": 1,
   "id": "1994c1c0",
   "metadata": {},
   "outputs": [
    {
     "name": "stdout",
     "output_type": "stream",
     "text": [
      "\n",
      "Question 27: Create a dictionary with class values: {'list': list, 'dict': dict, 'set': set}\n"
     ]
    },
    {
     "data": {
      "text/plain": [
       "dict"
      ]
     },
     "execution_count": 1,
     "metadata": {},
     "output_type": "execute_result"
    }
   ],
   "source": [
    "# Question 27: Create a dictionary with class values: {'list': list, 'dict': dict, 'set': set}\n",
    "print(\"\\nQuestion 27: Create a dictionary with class values: {'list': list, 'dict': dict, 'set': set}\")\n",
    "# Your code here\n",
    "d={'list':list,'dict':dict,'set':set}\n",
    "type(d)"
   ]
  },
  {
   "cell_type": "code",
   "execution_count": null,
   "id": "23d3701f",
   "metadata": {},
   "outputs": [],
   "source": [
    "# Question 28: Create instances using class dictionary\n",
    "print(\"\\nQuestion 28: Create instances using class dictionary\")\n",
    "# Your code here\n"
   ]
  },
  {
   "cell_type": "code",
   "execution_count": 2,
   "id": "95bbea6b",
   "metadata": {},
   "outputs": [
    {
     "name": "stdout",
     "output_type": "stream",
     "text": [
      "\n",
      "Question 29: Create a dictionary with None values: {'a': None, 'b': None, 'c': None}\n"
     ]
    },
    {
     "data": {
      "text/plain": [
       "{'a': None, 'b': None, 'c': None}"
      ]
     },
     "execution_count": 2,
     "metadata": {},
     "output_type": "execute_result"
    }
   ],
   "source": [
    "# Question 29: Create a dictionary with None values: {'a': None, 'b': None, 'c': None}\n",
    "print(\"\\nQuestion 29: Create a dictionary with None values: {'a': None, 'b': None, 'c': None}\")\n",
    "# Your code here\n",
    "d={'a':None,'b':None,'c':None}\n",
    "d"
   ]
  },
  {
   "cell_type": "code",
   "execution_count": 3,
   "id": "01e3554b",
   "metadata": {},
   "outputs": [
    {
     "name": "stdout",
     "output_type": "stream",
     "text": [
      "\n",
      "Question 30: Replace all None values with 0\n",
      "{'a': 0, 'b': 0, 'c': 0}\n"
     ]
    }
   ],
   "source": [
    "# Question 30: Replace all None values with 0\n",
    "print(\"\\nQuestion 30: Replace all None values with 0\")\n",
    "# Your code here\n",
    "for i in d:\n",
    "    d[i]=0\n",
    "print(d)"
   ]
  },
  {
   "cell_type": "code",
   "execution_count": 8,
   "id": "75cbc46e",
   "metadata": {},
   "outputs": [
    {
     "name": "stdout",
     "output_type": "stream",
     "text": [
      "\n",
      "Question 31: Create a dictionary with boolean values: {'is_active': True, 'is_admin': False}\n"
     ]
    },
    {
     "data": {
      "text/plain": [
       "{'isactive': True, 'is_admin': 'False'}"
      ]
     },
     "execution_count": 8,
     "metadata": {},
     "output_type": "execute_result"
    }
   ],
   "source": [
    "# Question 31: Create a dictionary with boolean values: {'is_active': True, 'is_admin': False}\n",
    "print(\"\\nQuestion 31: Create a dictionary with boolean values: {'is_active': True, 'is_admin': False}\")\n",
    "# Your code here\n",
    "d={\"isactive\":True,'is_admin':'False'}\n",
    "d"
   ]
  },
  {
   "cell_type": "code",
   "execution_count": 9,
   "id": "1e9f6205",
   "metadata": {},
   "outputs": [
    {
     "name": "stdout",
     "output_type": "stream",
     "text": [
      "\n",
      "Question 32: Count True values in boolean dictionary\n"
     ]
    },
    {
     "data": {
      "text/plain": [
       "1"
      ]
     },
     "execution_count": 9,
     "metadata": {},
     "output_type": "execute_result"
    }
   ],
   "source": [
    "# Question 32: Count True values in boolean dictionary\n",
    "print(\"\\nQuestion 32: Count True values in boolean dictionary\")\n",
    "# Your code here\n",
    "c=0\n",
    "for i in d:\n",
    "    if d[i]==True:\n",
    "        c=c+1\n",
    "c"
   ]
  },
  {
   "cell_type": "code",
   "execution_count": 22,
   "id": "55247b89",
   "metadata": {},
   "outputs": [
    {
     "name": "stdout",
     "output_type": "stream",
     "text": [
      "\n",
      "Question 33: Create a dictionary with complex numbers: {'z1': 3+4j, 'z2': 1+2j}\n"
     ]
    },
    {
     "data": {
      "text/plain": [
       "{'z1': (3+4j), 'z2': (1+2j)}"
      ]
     },
     "execution_count": 22,
     "metadata": {},
     "output_type": "execute_result"
    }
   ],
   "source": [
    "# Question 33: Create a dictionary with complex numbers: {'z1': 3+4j, 'z2': 1+2j}\n",
    "print(\"\\nQuestion 33: Create a dictionary with complex numbers: {'z1': 3+4j, 'z2': 1+2j}\")\n",
    "# Your code here\n",
    "d={'z1':3+4j,'z2':1+2j}\n",
    "d"
   ]
  },
  {
   "cell_type": "code",
   "execution_count": 24,
   "id": "8297bd5c",
   "metadata": {},
   "outputs": [
    {
     "name": "stdout",
     "output_type": "stream",
     "text": [
      "\n",
      "Question 34: Find magnitude of each complex number\n"
     ]
    },
    {
     "data": {
      "text/plain": [
       "{'z1': 5.0, 'z2': 2.23606797749979}"
      ]
     },
     "execution_count": 24,
     "metadata": {},
     "output_type": "execute_result"
    }
   ],
   "source": [
    "# Question 34: Find magnitude of each complex number\n",
    "print(\"\\nQuestion 34: Find magnitude of each complex number\")\n",
    "# Your code here\n",
    "for i in d:\n",
    "    d[i]=abs(d[i])\n",
    "d"
   ]
  },
  {
   "cell_type": "code",
   "execution_count": 16,
   "id": "14242d65",
   "metadata": {},
   "outputs": [
    {
     "name": "stdout",
     "output_type": "stream",
     "text": [
      "\n",
      "Question 35: Create a 4-level nested dictionary\n"
     ]
    },
    {
     "data": {
      "text/plain": [
       "{'company': {'department': {'section A': {'employee1': {'name': 'jhon',\n",
       "     'age': 45}}}}}"
      ]
     },
     "execution_count": 16,
     "metadata": {},
     "output_type": "execute_result"
    }
   ],
   "source": [
    "# Question 35: Create a 4-level nested dictionary\n",
    "print(\"\\nQuestion 35: Create a 4-level nested dictionary\")\n",
    "# Your code here\n",
    "d={'company':{'department':{'section A':{'employee1':{'name':'jhon','age':45}}}}}\n",
    "d"
   ]
  },
  {
   "cell_type": "code",
   "execution_count": 18,
   "id": "04cbc726",
   "metadata": {},
   "outputs": [
    {
     "name": "stdout",
     "output_type": "stream",
     "text": [
      "\n",
      "Question 36: Access deepest value in 4-level nested dictionary\n"
     ]
    },
    {
     "data": {
      "text/plain": [
       "45"
      ]
     },
     "execution_count": 18,
     "metadata": {},
     "output_type": "execute_result"
    }
   ],
   "source": [
    "# Question 36: Access deepest value in 4-level nested dictionary\n",
    "print(\"\\nQuestion 36: Access deepest value in 4-level nested dictionary\")\n",
    "# Your code here\n",
    "d['company']['department']['section A']['employee1']['age']"
   ]
  },
  {
   "cell_type": "code",
   "execution_count": 19,
   "id": "9a4079da",
   "metadata": {},
   "outputs": [
    {
     "name": "stdout",
     "output_type": "stream",
     "text": [
      "\n",
      "Question 37: Create a dictionary with range values: {'r1': range(3), 'r2': range(5)}\n"
     ]
    },
    {
     "data": {
      "text/plain": [
       "{'r1': range(0, 3), 'r2': range(0, 5)}"
      ]
     },
     "execution_count": 19,
     "metadata": {},
     "output_type": "execute_result"
    }
   ],
   "source": [
    "# Question 37: Create a dictionary with range values: {'r1': range(3), 'r2': range(5)}\n",
    "print(\"\\nQuestion 37: Create a dictionary with range values: {'r1': range(3), 'r2': range(5)}\")\n",
    "# Your code here\n",
    "d={'r1':range(3),'r2':range(5)}\n",
    "d"
   ]
  },
  {
   "cell_type": "code",
   "execution_count": 26,
   "id": "23e9dc38",
   "metadata": {},
   "outputs": [
    {
     "name": "stdout",
     "output_type": "stream",
     "text": [
      "\n",
      "Question 38: Convert each range to list\n"
     ]
    },
    {
     "data": {
      "text/plain": [
       "{'r1': [0, 1, 2], 'r2': [0, 1, 2, 3, 4]}"
      ]
     },
     "execution_count": 26,
     "metadata": {},
     "output_type": "execute_result"
    }
   ],
   "source": [
    "# Question 38: Convert each range to list\n",
    "print(\"\\nQuestion 38: Convert each range to list\")\n",
    "# Your code here\n",
    "d={'r1':range(3),'r2':range(5)}\n",
    "for i in d:\n",
    "    d[i]=list(d[i])\n",
    "d\n"
   ]
  },
  {
   "cell_type": "code",
   "execution_count": null,
   "id": "c1e03d09",
   "metadata": {},
   "outputs": [],
   "source": [
    "# Question 39: Create a dictionary with generator values\n",
    "print(\"\\nQuestion 39: Create a dictionary with generator values\")\n",
    "# Your code here\n"
   ]
  },
  {
   "cell_type": "code",
   "execution_count": 27,
   "id": "a425958e",
   "metadata": {},
   "outputs": [
    {
     "name": "stdout",
     "output_type": "stream",
     "text": [
      "\n",
      "Question 43: Create a dictionary with nested lists: {'matrix': [[1, 2], [3, 4]], 'vector': [5, 6, 7]}\n"
     ]
    },
    {
     "data": {
      "text/plain": [
       "{'matrix': [[1, 2], [3, 4]], 'vector': [5, 6, 7]}"
      ]
     },
     "execution_count": 27,
     "metadata": {},
     "output_type": "execute_result"
    }
   ],
   "source": [
    "# Question 43: Create a dictionary with nested lists: {'matrix': [[1, 2], [3, 4]], 'vector': [5, 6, 7]}\n",
    "print(\"\\nQuestion 43: Create a dictionary with nested lists: {'matrix': [[1, 2], [3, 4]], 'vector': [5, 6, 7]}\")\n",
    "# Your code here\n",
    "d={'matrix':[[1,2],[3,4]],'vector':[5,6,7]}\n",
    "d"
   ]
  },
  {
   "cell_type": "code",
   "execution_count": 70,
   "id": "d1a173d4",
   "metadata": {},
   "outputs": [
    {
     "name": "stdout",
     "output_type": "stream",
     "text": [
      "\n",
      "Question 44: Find sum of each nested list\n",
      "{'matrix': [3, 7], 'vector': 18}\n"
     ]
    }
   ],
   "source": [
    "# Question 44: Find sum of each nested list\n",
    "print(\"\\nQuestion 44: Find sum of each nested list\")\n",
    "# Your code here\n",
    "e={'matrix':[[1,2],[3,4]],'vector':[5,6,7]}\n",
    "for key, value in d.items():\n",
    "    if isinstance(value[0], list):\n",
    "        e[key] = [sum(inner) for inner in value]\n",
    "    else:\n",
    "        e[key] = sum(value)\n",
    "print(e)\n",
    "\n",
    "    "
   ]
  },
  {
   "cell_type": "code",
   "execution_count": 71,
   "id": "155a754b",
   "metadata": {},
   "outputs": [
    {
     "name": "stdout",
     "output_type": "stream",
     "text": [
      "\n",
      "Question 45: Create a dictionary with nested dictionaries: {'config': {'db': {'host': 'localhost', 'port': 5432}}}\n"
     ]
    },
    {
     "data": {
      "text/plain": [
       "{'config': {'db': {'host': 'localhost', 'port': 5432}}}"
      ]
     },
     "execution_count": 71,
     "metadata": {},
     "output_type": "execute_result"
    }
   ],
   "source": [
    "\n",
    "# Question 45: Create a dictionary with nested dictionaries: {'config': {'db': {'host': 'localhost', 'port': 5432}}}\n",
    "print(\"\\nQuestion 45: Create a dictionary with nested dictionaries: {'config': {'db': {'host': 'localhost', 'port': 5432}}}\")\n",
    "# Your code here\n",
    "d={'config': {'db': {'host': 'localhost', 'port': 5432}}}\n",
    "d"
   ]
  },
  {
   "cell_type": "code",
   "execution_count": 73,
   "id": "53848388",
   "metadata": {},
   "outputs": [
    {
     "name": "stdout",
     "output_type": "stream",
     "text": [
      "\n",
      "Question 46: Access database port from nested configuration\n"
     ]
    },
    {
     "data": {
      "text/plain": [
       "5432"
      ]
     },
     "execution_count": 73,
     "metadata": {},
     "output_type": "execute_result"
    }
   ],
   "source": [
    "# Question 46: Access database port from nested configuration\n",
    "print(\"\\nQuestion 46: Access database port from nested configuration\")\n",
    "# Your code here\n",
    "d={'config': {'db': {'host': 'localhost', 'port': 5432}}}\n",
    "d['config']['db']['port']"
   ]
  },
  {
   "cell_type": "code",
   "execution_count": 75,
   "id": "7482a828",
   "metadata": {},
   "outputs": [
    {
     "name": "stdout",
     "output_type": "stream",
     "text": [
      "\n",
      "Question 47: Create a dictionary with nested tuples: {'points': ((1, 2), (3, 4)), 'rgb': ((255, 0, 0), (0, 255, 0))}\n"
     ]
    },
    {
     "data": {
      "text/plain": [
       "{'points': ((1, 2), (3, 4)), 'rgb': ((255, 0, 0), (0, 255, 0))}"
      ]
     },
     "execution_count": 75,
     "metadata": {},
     "output_type": "execute_result"
    }
   ],
   "source": [
    "# Question 47: Create a dictionary with nested tuples: {'points': ((1, 2), (3, 4)), 'rgb': ((255, 0, 0), (0, 255, 0))}\n",
    "print(\"\\nQuestion 47: Create a dictionary with nested tuples: {'points': ((1, 2), (3, 4)), 'rgb': ((255, 0, 0), (0, 255, 0))}\")\n",
    "# Your code here\n",
    "d={'points':((1,2),(3,4)),'rgb':((255,0,0),(0,255,0))}\n",
    "d"
   ]
  },
  {
   "cell_type": "code",
   "execution_count": 76,
   "id": "1f26e0c9",
   "metadata": {},
   "outputs": [
    {
     "name": "stdout",
     "output_type": "stream",
     "text": [
      "\n",
      "Question 48: Extract first point coordinates\n"
     ]
    },
    {
     "data": {
      "text/plain": [
       "(1, 2)"
      ]
     },
     "execution_count": 76,
     "metadata": {},
     "output_type": "execute_result"
    }
   ],
   "source": [
    "\n",
    "# Question 48: Extract first point coordinates\n",
    "print(\"\\nQuestion 48: Extract first point coordinates\")\n",
    "# Your code here\n",
    "d={'points':((1,2),(3,4)),'rgb':((255,0,0),(0,255,0))}\n",
    "d['points'][0]"
   ]
  },
  {
   "cell_type": "code",
   "execution_count": 86,
   "id": "cb0b4059",
   "metadata": {},
   "outputs": [
    {
     "name": "stdout",
     "output_type": "stream",
     "text": [
      "\n",
      "Question 49: Create a dictionary with nested sets: {'groups': {{1, 2, 3}, {4, 5, 6}}, 'categories': {{'a', 'b'}, {'c', 'd'}}}\n"
     ]
    },
    {
     "data": {
      "text/plain": [
       "{'groups': ({1, 2, 3}, {4, 5, 6}), 'categories': ({'a', 'b'}, {'c', 'd'})}"
      ]
     },
     "execution_count": 86,
     "metadata": {},
     "output_type": "execute_result"
    }
   ],
   "source": [
    "# Question 49: Create a dictionary with nested sets: {'groups': {{1, 2, 3}, {4, 5, 6}}, 'categories': {{'a', 'b'}, {'c', 'd'}}}\n",
    "print(\"\\nQuestion 49: Create a dictionary with nested sets: {'groups': {{1, 2, 3}, {4, 5, 6}}, 'categories': {{'a', 'b'}, {'c', 'd'}}}\")\n",
    "# Your code here\n",
    "n={'groups': ({1, 2, 3}, {4, 5, 6}),'categories': ({'a', 'b'}, {'c', 'd'})}\n",
    "n\n"
   ]
  },
  {
   "cell_type": "code",
   "execution_count": 94,
   "id": "992846c3",
   "metadata": {},
   "outputs": [
    {
     "name": "stdout",
     "output_type": "stream",
     "text": [
      "\n",
      "Question 50: Find union of all nested sets\n"
     ]
    },
    {
     "data": {
      "text/plain": [
       "{1, 2, 3, 4, 5, 6, 'a', 'b', 'c', 'd'}"
      ]
     },
     "execution_count": 94,
     "metadata": {},
     "output_type": "execute_result"
    }
   ],
   "source": [
    "# Question 50: Find union of all nested sets\n",
    "print(\"\\nQuestion 50: Find union of all nested sets\")\n",
    "# Your code here \n",
    "n={'groups': ({1, 2, 3}, {4, 5, 6}),'categories': ({'a', 'b'}, {'c', 'd'})}\n",
    "fn=set()\n",
    "for i in n.values():\n",
    "    for s in i:\n",
    "        fn=fn.union(s)\n",
    "fn"
   ]
  },
  {
   "cell_type": "code",
   "execution_count": null,
   "id": "4c6c27a3",
   "metadata": {},
   "outputs": [],
   "source": [
    "############SETS###############\n"
   ]
  },
  {
   "cell_type": "code",
   "execution_count": 95,
   "id": "15af88bf",
   "metadata": {},
   "outputs": [
    {
     "name": "stdout",
     "output_type": "stream",
     "text": [
      "SOLVED EXAMPLE:\n",
      "Find the union of two sets\n",
      "Set 1: {1, 2, 3, 4, 5}\n",
      "Set 2: {4, 5, 6, 7, 8}\n",
      "Union: {1, 2, 3, 4, 5, 6, 7, 8}\n",
      "--------------------------------------------------\n"
     ]
    }
   ],
   "source": [
    "# Question: Find the union of two sets\n",
    "print(\"SOLVED EXAMPLE:\")\n",
    "print(\"Find the union of two sets\")\n",
    "set1 = {1, 2, 3, 4, 5}\n",
    "set2 = {4, 5, 6, 7, 8}\n",
    "union_set = set1.union(set2)\n",
    "print(f\"Set 1: {set1}\")\n",
    "print(f\"Set 2: {set2}\")\n",
    "print(f\"Union: {union_set}\")\n",
    "print(\"-\" * 50)"
   ]
  },
  {
   "cell_type": "code",
   "execution_count": 104,
   "id": "4e41bdef",
   "metadata": {},
   "outputs": [
    {
     "name": "stdout",
     "output_type": "stream",
     "text": [
      "Question 1: Create a set of first 10 natural numbers\n"
     ]
    },
    {
     "data": {
      "text/plain": [
       "{1, 2, 3, 4, 5, 6, 7, 8, 9, 10}"
      ]
     },
     "execution_count": 104,
     "metadata": {},
     "output_type": "execute_result"
    }
   ],
   "source": [
    "# Question 1: Create a set of first 10 natural numbers\n",
    "print(\"Question 1: Create a set of first 10 natural numbers\")\n",
    "# Your code here\n",
    "n=int(input())\n",
    "d=set()\n",
    "for i in range(1,n+1):\n",
    "    d.add(i)\n",
    "d\n",
    "\n"
   ]
  },
  {
   "cell_type": "code",
   "execution_count": 105,
   "id": "94de211a",
   "metadata": {},
   "outputs": [
    {
     "name": "stdout",
     "output_type": "stream",
     "text": [
      "\n",
      "Question 2: Add element 11 to set {1, 2, 3, 4, 5}\n"
     ]
    },
    {
     "data": {
      "text/plain": [
       "{1, 2, 3, 4, 5, 11}"
      ]
     },
     "execution_count": 105,
     "metadata": {},
     "output_type": "execute_result"
    }
   ],
   "source": [
    "# Question 2: Add element 11 to set {1, 2, 3, 4, 5}\n",
    "print(\"\\nQuestion 2: Add element 11 to set {1, 2, 3, 4, 5}\")\n",
    "# Your code here\n",
    "s={1, 2, 3, 4, 5}\n",
    "s.add(11)\n",
    "s"
   ]
  },
  {
   "cell_type": "code",
   "execution_count": 107,
   "id": "c4bd79c4",
   "metadata": {},
   "outputs": [
    {
     "name": "stdout",
     "output_type": "stream",
     "text": [
      "\n",
      "Question 3: Remove element 3 from set {1, 2, 3, 4, 5, 6}\n"
     ]
    },
    {
     "data": {
      "text/plain": [
       "{1, 2, 4, 5, 6}"
      ]
     },
     "execution_count": 107,
     "metadata": {},
     "output_type": "execute_result"
    }
   ],
   "source": [
    "# Question 3: Remove element 3 from set {1, 2, 3, 4, 5, 6}\n",
    "print(\"\\nQuestion 3: Remove element 3 from set {1, 2, 3, 4, 5, 6}\")\n",
    "# Your code here\n",
    "s={1, 2, 3, 4, 5, 6}\n",
    "s.remove(3)\n",
    "s"
   ]
  },
  {
   "cell_type": "code",
   "execution_count": 108,
   "id": "6eee02e3",
   "metadata": {},
   "outputs": [
    {
     "name": "stdout",
     "output_type": "stream",
     "text": [
      "\n",
      "Question 4: Find the intersection of {1, 2, 3, 4, 5} and {4, 5, 6, 7, 8}\n"
     ]
    },
    {
     "data": {
      "text/plain": [
       "{4, 5}"
      ]
     },
     "execution_count": 108,
     "metadata": {},
     "output_type": "execute_result"
    }
   ],
   "source": [
    "# Question 4: Find the intersection of {1, 2, 3, 4, 5} and {4, 5, 6, 7, 8}\n",
    "print(\"\\nQuestion 4: Find the intersection of {1, 2, 3, 4, 5} and {4, 5, 6, 7, 8}\")\n",
    "# Your code here\n",
    "a={1, 2, 3, 4, 5}\n",
    "b={4, 5, 6, 7, 8}\n",
    "a.intersection(b)"
   ]
  },
  {
   "cell_type": "code",
   "execution_count": 111,
   "id": "d4eb7bcb",
   "metadata": {},
   "outputs": [
    {
     "name": "stdout",
     "output_type": "stream",
     "text": [
      "\n",
      "Question 5: Find the difference between {1, 2, 3, 4, 5} and {4, 5, 6, 7, 8}\n"
     ]
    },
    {
     "data": {
      "text/plain": [
       "{1, 2, 3}"
      ]
     },
     "execution_count": 111,
     "metadata": {},
     "output_type": "execute_result"
    }
   ],
   "source": [
    "\n",
    "# Question 5: Find the difference between {1, 2, 3, 4, 5} and {4, 5, 6, 7, 8}\n",
    "print(\"\\nQuestion 5: Find the difference between {1, 2, 3, 4, 5} and {4, 5, 6, 7, 8}\")\n",
    "# Your code here\n",
    "a={1, 2, 3, 4, 5}\n",
    "b={4, 5, 6, 7, 8}\n",
    "a.difference(b)"
   ]
  },
  {
   "cell_type": "code",
   "execution_count": 112,
   "id": "33b6cf48",
   "metadata": {},
   "outputs": [
    {
     "name": "stdout",
     "output_type": "stream",
     "text": [
      "\n",
      "Question 6: Check if 5 is in set {1, 2, 3, 4, 6, 7, 8}\n"
     ]
    },
    {
     "data": {
      "text/plain": [
       "False"
      ]
     },
     "execution_count": 112,
     "metadata": {},
     "output_type": "execute_result"
    }
   ],
   "source": [
    "# Question 6: Check if 5 is in set {1, 2, 3, 4, 6, 7, 8}\n",
    "print(\"\\nQuestion 6: Check if 5 is in set {1, 2, 3, 4, 6, 7, 8}\")\n",
    "# Your code here\n",
    "s={1, 2, 3, 4, 6, 7, 8}\n",
    "5 in s"
   ]
  },
  {
   "cell_type": "code",
   "execution_count": 114,
   "id": "26ff6906",
   "metadata": {},
   "outputs": [
    {
     "name": "stdout",
     "output_type": "stream",
     "text": [
      "\n",
      "Question 7: Find the length of set {'a', 'b', 'c', 'd', 'e'}\n"
     ]
    },
    {
     "data": {
      "text/plain": [
       "5"
      ]
     },
     "execution_count": 114,
     "metadata": {},
     "output_type": "execute_result"
    }
   ],
   "source": [
    "# Question 7: Find the length of set {'a', 'b', 'c', 'd', 'e'}\n",
    "print(\"\\nQuestion 7: Find the length of set {'a', 'b', 'c', 'd', 'e'}\")\n",
    "# Your code here\n",
    "s={'a', 'b', 'c', 'd', 'e'}\n",
    "len(s)"
   ]
  },
  {
   "cell_type": "code",
   "execution_count": 115,
   "id": "84519ce1",
   "metadata": {},
   "outputs": [
    {
     "name": "stdout",
     "output_type": "stream",
     "text": [
      "\n",
      "Question 8: Create a set of vowels from string 'hello world'\n"
     ]
    },
    {
     "data": {
      "text/plain": [
       "{'e', 'o'}"
      ]
     },
     "execution_count": 115,
     "metadata": {},
     "output_type": "execute_result"
    }
   ],
   "source": [
    "# Question 8: Create a set of vowels from string \"hello world\"\n",
    "print(\"\\nQuestion 8: Create a set of vowels from string 'hello world'\")\n",
    "# Your code here\n",
    "s='hello world'\n",
    "d=set()\n",
    "for i in s:\n",
    "    if i in\"aeiouAEIOU\":\n",
    "        d.add(i)\n",
    "d\n"
   ]
  },
  {
   "cell_type": "code",
   "execution_count": 119,
   "id": "4d925bf1",
   "metadata": {},
   "outputs": [
    {
     "name": "stdout",
     "output_type": "stream",
     "text": [
      "\n",
      "Question 9: Remove duplicates from list [1, 2, 2, 3, 4, 4, 5, 6, 6, 7] using set\n"
     ]
    },
    {
     "data": {
      "text/plain": [
       "{1, 2, 3, 4, 5, 6, 7}"
      ]
     },
     "execution_count": 119,
     "metadata": {},
     "output_type": "execute_result"
    }
   ],
   "source": [
    "# Question 9: Remove duplicates from list [1, 2, 2, 3, 4, 4, 5, 6, 6, 7] using set\n",
    "print(\"\\nQuestion 9: Remove duplicates from list [1, 2, 2, 3, 4, 4, 5, 6, 6, 7] using set\")\n",
    "# Your code here\n",
    "l= [1, 2, 2, 3, 4, 4, 5, 6, 6, 7]\n",
    "s=set(l)\n",
    "s"
   ]
  },
  {
   "cell_type": "code",
   "execution_count": 123,
   "id": "a798d8c3",
   "metadata": {},
   "outputs": [
    {
     "name": "stdout",
     "output_type": "stream",
     "text": [
      "\n",
      "Question 10: Check if {1, 2, 3} is a subset of {1, 2, 3, 4, 5, 6}\n"
     ]
    },
    {
     "data": {
      "text/plain": [
       "True"
      ]
     },
     "execution_count": 123,
     "metadata": {},
     "output_type": "execute_result"
    }
   ],
   "source": [
    "# Question 10: Check if {1, 2, 3} is a subset of {1, 2, 3, 4, 5, 6}\n",
    "print(\"\\nQuestion 10: Check if {1, 2, 3} is a subset of {1, 2, 3, 4, 5, 6}\")\n",
    "# Your code here \n",
    "a={1, 2, 3}\n",
    "b={1, 2, 3, 4, 5, 6}\n",
    "a.issubset(b)\n"
   ]
  },
  {
   "cell_type": "code",
   "execution_count": null,
   "id": "e2666c16",
   "metadata": {},
   "outputs": [],
   "source": [
    "# BOOLEAN DATATYPE ASSIGNMENT\n",
    "# =========================="
   ]
  },
  {
   "cell_type": "code",
   "execution_count": 124,
   "id": "ae619bf8",
   "metadata": {},
   "outputs": [
    {
     "name": "stdout",
     "output_type": "stream",
     "text": [
      "SOLVED EXAMPLE:\n",
      "Check if a number is both even and greater than 10\n",
      "Number: 16\n",
      "Is even: True\n",
      "Is greater than 10: True\n",
      "Both conditions: True\n",
      "--------------------------------------------------\n"
     ]
    }
   ],
   "source": [
    "# Question: Check if a number is both even and greater than 10\n",
    "print(\"SOLVED EXAMPLE:\")\n",
    "print(\"Check if a number is both even and greater than 10\")\n",
    "number = 16\n",
    "is_even = number % 2 == 0\n",
    "is_greater_than_10 = number > 10\n",
    "result = is_even and is_greater_than_10\n",
    "print(f\"Number: {number}\")\n",
    "print(f\"Is even: {is_even}\")\n",
    "print(f\"Is greater than 10: {is_greater_than_10}\")\n",
    "print(f\"Both conditions: {result}\")\n",
    "print(\"-\" * 50)\n"
   ]
  },
  {
   "cell_type": "code",
   "execution_count": 126,
   "id": "ebd88329",
   "metadata": {},
   "outputs": [
    {
     "name": "stdout",
     "output_type": "stream",
     "text": [
      "Question 1: Check if 25 is greater than 20 and less than 30\n",
      "yes 25 is greater than 20 and less than 30 \n",
      "True\n"
     ]
    }
   ],
   "source": [
    "# Question 1: Check if 25 is greater than 20 and less than 30\n",
    "print(\"Question 1: Check if 25 is greater than 20 and less than 30\")\n",
    "# Your code here\n",
    "if 25>20 and 25<30:\n",
    "    print(\"yes 25 is greater than 20 and less than 30 \")\n",
    "\n",
    "print(25>20 and 25<30)"
   ]
  },
  {
   "cell_type": "code",
   "execution_count": null,
   "id": "4ed76a6c",
   "metadata": {},
   "outputs": [
    {
     "name": "stdout",
     "output_type": "stream",
     "text": [
      "\n",
      "Question 2: Check if string 'python' is equal to 'Python' (case sensitive)\n",
      "False\n"
     ]
    }
   ],
   "source": [
    "# Question 2: Check if string \"python\" is equal to \"Python\" (case sensitive)\n",
    "print(\"\\nQuestion 2: Check if string 'python' is equal to 'Python' (case sensitive)\")\n",
    "# Your code here\n",
    "print('python'=='Python')\n"
   ]
  },
  {
   "cell_type": "code",
   "execution_count": null,
   "id": "36400681",
   "metadata": {},
   "outputs": [
    {
     "ename": "SyntaxError",
     "evalue": "invalid syntax (4104545651.py, line 8)",
     "output_type": "error",
     "traceback": [
      "  \u001b[36mCell\u001b[39m\u001b[36m \u001b[39m\u001b[32mIn[132]\u001b[39m\u001b[32m, line 8\u001b[39m\n\u001b[31m    \u001b[39m\u001b[31mprint(is 15/3 and 15/5)\u001b[39m\n          ^\n\u001b[31mSyntaxError\u001b[39m\u001b[31m:\u001b[39m invalid syntax\n"
     ]
    }
   ],
   "source": [
    "# Question 3: Check if 15 is divisible by both 3 and 5\n",
    "print(\"\\nQuestion 3: Check if 15 is divisible by both 3 and 5\")\n",
    "# Your code here\n",
    "if 15/3 and 15/5:\n",
    "    print(\"yes\")\n",
    "else:\n",
    "    print(\"no\")"
   ]
  },
  {
   "cell_type": "code",
   "execution_count": 129,
   "id": "d0ca6fc1",
   "metadata": {},
   "outputs": [
    {
     "name": "stdout",
     "output_type": "stream",
     "text": [
      "\n",
      "Question 4: Check if 7 is not equal to 8\n",
      "False\n"
     ]
    }
   ],
   "source": [
    "\n",
    "# Question 4: Check if 7 is not equal to 8\n",
    "print(\"\\nQuestion 4: Check if 7 is not equal to 8\")\n",
    "# Your code here\n",
    "print(7==8)"
   ]
  },
  {
   "cell_type": "code",
   "execution_count": 133,
   "id": "582c8781",
   "metadata": {},
   "outputs": [
    {
     "name": "stdout",
     "output_type": "stream",
     "text": [
      "\n",
      "Question 5: Check if 100 is greater than 50 or less than 25\n",
      "False\n"
     ]
    }
   ],
   "source": [
    "# Question 5: Check if 100 is greater than 50 or less than 25\n",
    "print(\"\\nQuestion 5: Check if 100 is greater than 50 or less than 25\")\n",
    "# Your code here\n",
    "print(100>50 and 100<25)"
   ]
  },
  {
   "cell_type": "code",
   "execution_count": 135,
   "id": "c2a1a8b2",
   "metadata": {},
   "outputs": [
    {
     "name": "stdout",
     "output_type": "stream",
     "text": [
      "\n",
      "Question 6: Check if 0 is falsy in Python\n"
     ]
    },
    {
     "data": {
      "text/plain": [
       "True"
      ]
     },
     "execution_count": 135,
     "metadata": {},
     "output_type": "execute_result"
    }
   ],
   "source": [
    "# Question 6: Check if 0 is falsy in Python\n",
    "print(\"\\nQuestion 6: Check if 0 is falsy in Python\")\n",
    "# Your code here\n",
    "0 in[False]"
   ]
  },
  {
   "cell_type": "code",
   "execution_count": 138,
   "id": "de488e0e",
   "metadata": {},
   "outputs": [
    {
     "name": "stdout",
     "output_type": "stream",
     "text": [
      "\n",
      "Question 7: Check if empty string '' is falsy in Python\n"
     ]
    },
    {
     "data": {
      "text/plain": [
       "False"
      ]
     },
     "execution_count": 138,
     "metadata": {},
     "output_type": "execute_result"
    }
   ],
   "source": [
    "# Question 7: Check if empty string \"\" is falsy in Python\n",
    "print(\"\\nQuestion 7: Check if empty string '' is falsy in Python\")\n",
    "# Your code here\n",
    "' 'in[False]"
   ]
  },
  {
   "cell_type": "code",
   "execution_count": 141,
   "id": "879b5d1a",
   "metadata": {},
   "outputs": [
    {
     "name": "stdout",
     "output_type": "stream",
     "text": [
      "\n",
      "Question 8: Check if 42 is truthy in Python\n"
     ]
    },
    {
     "data": {
      "text/plain": [
       "True"
      ]
     },
     "execution_count": 141,
     "metadata": {},
     "output_type": "execute_result"
    }
   ],
   "source": [
    "# Question 8: Check if 42 is truthy in Python\n",
    "print(\"\\nQuestion 8: Check if 42 is truthy in Python\")\n",
    "# Your code here\n",
    "n=int(input())\n",
    "42 in [n]"
   ]
  },
  {
   "cell_type": "code",
   "execution_count": 144,
   "id": "9cfccc55",
   "metadata": {},
   "outputs": [
    {
     "name": "stdout",
     "output_type": "stream",
     "text": [
      "\n",
      "Question 9: Check if 10 is between 5 and 15 (inclusive)\n",
      "True\n"
     ]
    }
   ],
   "source": [
    "# Question 9: Check if 10 is between 5 and 15 (inclusive)\n",
    "print(\"\\nQuestion 9: Check if 10 is between 5 and 15 (inclusive)\")\n",
    "# Your code here\n",
    "print(5<=10<=15)"
   ]
  },
  {
   "cell_type": "code",
   "execution_count": 146,
   "id": "527b0fd4",
   "metadata": {},
   "outputs": [
    {
     "name": "stdout",
     "output_type": "stream",
     "text": [
      "\n",
      "Question 10: Check if 3.14 is greater than 3 and less than 4\n",
      "True\n"
     ]
    }
   ],
   "source": [
    "# Question 10: Check if 3.14 is greater than 3 and less than 4\n",
    "print(\"\\nQuestion 10: Check if 3.14 is greater than 3 and less than 4\")\n",
    "# Your code here \n",
    "print(3<3.14<4)"
   ]
  },
  {
   "cell_type": "code",
   "execution_count": 147,
   "id": "19a1a407",
   "metadata": {},
   "outputs": [
    {
     "name": "stdout",
     "output_type": "stream",
     "text": [
      "SOLVED EXAMPLE:\n",
      "Check if a variable is None\n",
      "Variable: None\n",
      "Is None: True\n",
      "--------------------------------------------------\n"
     ]
    }
   ],
   "source": [
    "# NONE DATATYPE ASSIGNMENT\n",
    "# =======================\n",
    "# Question: Check if a variable is None\n",
    "print(\"SOLVED EXAMPLE:\")\n",
    "print(\"Check if a variable is None\")\n",
    "variable = None\n",
    "is_none = variable is None\n",
    "print(f\"Variable: {variable}\")\n",
    "print(f\"Is None: {is_none}\")\n",
    "print(\"-\" * 50)\n"
   ]
  },
  {
   "cell_type": "code",
   "execution_count": 150,
   "id": "75d6661f",
   "metadata": {},
   "outputs": [
    {
     "name": "stdout",
     "output_type": "stream",
     "text": [
      "Question 1: Create a variable and assign None to it\n"
     ]
    }
   ],
   "source": [
    "# Question 1: Create a variable and assign None to it\n",
    "print(\"Question 1: Create a variable and assign None to it\")\n",
    "# Your code here\n",
    "i=None\n",
    "i"
   ]
  },
  {
   "cell_type": "code",
   "execution_count": 152,
   "id": "82299a1d",
   "metadata": {},
   "outputs": [
    {
     "name": "stdout",
     "output_type": "stream",
     "text": [
      "\n",
      "Question 2: Check if None equals None\n",
      "True\n"
     ]
    }
   ],
   "source": [
    "# Question 2: Check if None equals None\n",
    "print(\"\\nQuestion 2: Check if None equals None\")\n",
    "# Your code here\n",
    "print(None==None)"
   ]
  },
  {
   "cell_type": "code",
   "execution_count": 153,
   "id": "a563bc54",
   "metadata": {},
   "outputs": [
    {
     "name": "stdout",
     "output_type": "stream",
     "text": [
      "\n",
      "Question 3: Check if None is None\n",
      "True\n"
     ]
    }
   ],
   "source": [
    "\n",
    "# Question 3: Check if None is None\n",
    "print(\"\\nQuestion 3: Check if None is None\")\n",
    "# Your code here\n",
    "print(None is None)"
   ]
  },
  {
   "cell_type": "code",
   "execution_count": 155,
   "id": "b7b5c6ca",
   "metadata": {},
   "outputs": [
    {
     "name": "stdout",
     "output_type": "stream",
     "text": [
      "\n",
      "Question 4: Check if 0 is None\n",
      "False\n"
     ]
    }
   ],
   "source": [
    "# Question 4: Check if 0 is None\n",
    "print(\"\\nQuestion 4: Check if 0 is None\")\n",
    "# Your code here\n",
    "print(0 is None)"
   ]
  },
  {
   "cell_type": "code",
   "execution_count": 158,
   "id": "4946c772",
   "metadata": {},
   "outputs": [
    {
     "name": "stdout",
     "output_type": "stream",
     "text": [
      "\n",
      "Question 5: Check if empty string is None\n",
      "False\n"
     ]
    }
   ],
   "source": [
    "# Question 5: Check if empty string is None\n",
    "print(\"\\nQuestion 5: Check if empty string is None\")\n",
    "# Your code here\n",
    "print(\" \" is None)"
   ]
  },
  {
   "cell_type": "code",
   "execution_count": 159,
   "id": "cf932d46",
   "metadata": {},
   "outputs": [
    {
     "name": "stdout",
     "output_type": "stream",
     "text": [
      "\n",
      "Question 6: Check if False is None\n",
      "False\n"
     ]
    }
   ],
   "source": [
    "# Question 6: Check if False is None\n",
    "print(\"\\nQuestion 6: Check if False is None\")\n",
    "# Your code here\n",
    "print(False is None)"
   ]
  },
  {
   "cell_type": "code",
   "execution_count": 160,
   "id": "54b70015",
   "metadata": {},
   "outputs": [
    {
     "name": "stdout",
     "output_type": "stream",
     "text": [
      "\n",
      "Question 7: Check if empty list is None\n",
      "False\n"
     ]
    }
   ],
   "source": [
    "# Question 7: Check if empty list is None\n",
    "print(\"\\nQuestion 7: Check if empty list is None\")\n",
    "# Your code here\n",
    "l=[]\n",
    "print(l is None)"
   ]
  },
  {
   "cell_type": "code",
   "execution_count": 161,
   "id": "b2e117ea",
   "metadata": {},
   "outputs": [
    {
     "name": "stdout",
     "output_type": "stream",
     "text": [
      "\n",
      "Question 8: Check if empty dictionary is None\n"
     ]
    },
    {
     "data": {
      "text/plain": [
       "False"
      ]
     },
     "execution_count": 161,
     "metadata": {},
     "output_type": "execute_result"
    }
   ],
   "source": [
    "\n",
    "# Question 8: Check if empty dictionary is None\n",
    "print(\"\\nQuestion 8: Check if empty dictionary is None\")\n",
    "# Your code here\n",
    "d={}\n",
    "d is None"
   ]
  },
  {
   "cell_type": "code",
   "execution_count": 164,
   "id": "540abdb2",
   "metadata": {},
   "outputs": [
    {
     "name": "stdout",
     "output_type": "stream",
     "text": [
      "\n",
      "Question 9: Check if empty tuple is None\n"
     ]
    },
    {
     "data": {
      "text/plain": [
       "False"
      ]
     },
     "execution_count": 164,
     "metadata": {},
     "output_type": "execute_result"
    }
   ],
   "source": [
    "# Question 9: Check if empty tuple is None\n",
    "print(\"\\nQuestion 9: Check if empty tuple is None\")\n",
    "# Your code here\n",
    "() is None"
   ]
  },
  {
   "cell_type": "code",
   "execution_count": 166,
   "id": "40f95ee3",
   "metadata": {},
   "outputs": [
    {
     "name": "stdout",
     "output_type": "stream",
     "text": [
      "\n",
      "Question 10: Check if empty set is None\n"
     ]
    },
    {
     "data": {
      "text/plain": [
       "False"
      ]
     },
     "execution_count": 166,
     "metadata": {},
     "output_type": "execute_result"
    }
   ],
   "source": [
    "# Question 10: Check if empty set is None\n",
    "print(\"\\nQuestion 10: Check if empty set is None\")\n",
    "# Your code here \n",
    "d=set()\n",
    "d is None"
   ]
  },
  {
   "cell_type": "code",
   "execution_count": null,
   "id": "305780a3",
   "metadata": {},
   "outputs": [],
   "source": []
  }
 ],
 "metadata": {
  "kernelspec": {
   "display_name": "Python 3",
   "language": "python",
   "name": "python3"
  },
  "language_info": {
   "codemirror_mode": {
    "name": "ipython",
    "version": 3
   },
   "file_extension": ".py",
   "mimetype": "text/x-python",
   "name": "python",
   "nbconvert_exporter": "python",
   "pygments_lexer": "ipython3",
   "version": "3.13.5"
  }
 },
 "nbformat": 4,
 "nbformat_minor": 5
}
