{
 "cells": [
  {
   "cell_type": "code",
   "execution_count": 2,
   "id": "541dc00b",
   "metadata": {},
   "outputs": [
    {
     "name": "stdout",
     "output_type": "stream",
     "text": [
      "SOLVED EXAMPLE:\n",
      "Find the maximum and minimum values in a list\n",
      "List: [23, 45, 12, 67, 34, 89, 56]\n",
      "Maximum: 89\n",
      "Minimum: 12\n",
      "--------------------------------------------------\n"
     ]
    }
   ],
   "source": [
    "#  SOLVED EXAMPLE\n",
    "# --------------\n",
    "# Question: Find the maximum and minimum values in a list\n",
    "print(\"SOLVED EXAMPLE:\")\n",
    "print(\"Find the maximum and minimum values in a list\")\n",
    "numbers = [23, 45, 12, 67, 34, 89, 56]\n",
    "max_val = max(numbers)\n",
    "min_val = min(numbers)\n",
    "print(f\"List: {numbers}\")\n",
    "print(f\"Maximum: {max_val}\")\n",
    "print(f\"Minimum: {min_val}\")\n",
    "print(\"-\" * 50)"
   ]
  },
  {
   "cell_type": "code",
   "execution_count": null,
   "id": "1864c680",
   "metadata": {},
   "outputs": [],
   "source": []
  },
  {
   "cell_type": "code",
   "execution_count": 6,
   "id": "3961bf66",
   "metadata": {},
   "outputs": [
    {
     "name": "stdout",
     "output_type": "stream",
     "text": [
      "Question 1: Create a list of first 10 square numbers\n",
      "[1, 4, 9, 16, 25, 36, 49, 64, 81, 100]\n"
     ]
    }
   ],
   "source": [
    "# Question 1: Create a list of first 10 square numbers\n",
    "print(\"Question 1: Create a list of first 10 square numbers\")\n",
    "# Your code here\n",
    "l=[]\n",
    "for i in range(1,11):\n",
    "    c=i**2\n",
    "    l.append(c)\n",
    "print(l)\n",
    "\n"
   ]
  },
  {
   "cell_type": "code",
   "execution_count": 9,
   "id": "5c196776",
   "metadata": {},
   "outputs": [
    {
     "name": "stdout",
     "output_type": "stream",
     "text": [
      "\n",
      "Question 2: Find the sum of all even numbers in [1, 2, 3, 4, 5, 6, 7, 8, 9, 10]\n",
      "30\n"
     ]
    }
   ],
   "source": [
    "# Question 2: Find the sum of all even numbers in [1, 2, 3, 4, 5, 6, 7, 8, 9, 10]\n",
    "print(\"\\nQuestion 2: Find the sum of all even numbers in [1, 2, 3, 4, 5, 6, 7, 8, 9, 10]\")\n",
    "# Your code here\n",
    "l=[1, 2, 3, 4, 5, 6, 7, 8, 9, 10]\n",
    "c=0\n",
    "for i in l:\n",
    "    if i%2==0:\n",
    "        c=c+i\n",
    "print(c)"
   ]
  },
  {
   "cell_type": "code",
   "execution_count": null,
   "id": "8e23073f",
   "metadata": {},
   "outputs": [
    {
     "name": "stdout",
     "output_type": "stream",
     "text": [
      "\n",
      "Question 3: Remove duplicates from [1, 2, 2, 3, 4, 4, 5, 6, 6, 7]\n"
     ]
    },
    {
     "data": {
      "text/plain": [
       "[1, 2, 3, 4, 5, 6, 7]"
      ]
     },
     "execution_count": 11,
     "metadata": {},
     "output_type": "execute_result"
    }
   ],
   "source": [
    "# Question 3: Remove duplicates from [1, 2, 2, 3, 4, 4, 5, 6, 6, 7]\n",
    "print(\"\\nQuestion 3: Remove duplicates from [1, 2, 2, 3, 4, 4, 5, 6, 6, 7]\")\n",
    "# Your code here\n",
    "l=[1, 2, 2, 3, 4, 4, 5, 6, 6, 7]\n",
    "f=set(l)\n",
    "d=list(f)\n",
    "d"
   ]
  },
  {
   "cell_type": "code",
   "execution_count": 19,
   "id": "668b1435",
   "metadata": {},
   "outputs": [
    {
     "name": "stdout",
     "output_type": "stream",
     "text": [
      "[1, 2, 3, 4, 5, 6, 7]\n"
     ]
    }
   ],
   "source": [
    "str=[]\n",
    "for i in l:\n",
    "    if i not in str:\n",
    "        str.append(i)\n",
    "print(str)"
   ]
  },
  {
   "cell_type": "code",
   "execution_count": 21,
   "id": "966f3ad5",
   "metadata": {},
   "outputs": [
    {
     "name": "stdout",
     "output_type": "stream",
     "text": [
      "\n",
      "Question 4: Sort the list [64, 34, 25, 12, 22, 11, 90] in descending order\n"
     ]
    },
    {
     "data": {
      "text/plain": [
       "[90, 64, 34, 25, 22, 12, 11]"
      ]
     },
     "execution_count": 21,
     "metadata": {},
     "output_type": "execute_result"
    }
   ],
   "source": [
    "# Question 4: Sort the list [64, 34, 25, 12, 22, 11, 90] in descending order\n",
    "print(\"\\nQuestion 4: Sort the list [64, 34, 25, 12, 22, 11, 90] in descending order\")\n",
    "# Your code here\n",
    "l=[64, 34, 25, 12, 22, 11, 90]\n",
    "l.sort(reverse=True)\n",
    "l"
   ]
  },
  {
   "cell_type": "code",
   "execution_count": 22,
   "id": "dff11cad",
   "metadata": {},
   "outputs": [
    {
     "name": "stdout",
     "output_type": "stream",
     "text": [
      "\n",
      "Question 5: Find the average of numbers in [15, 23, 31, 42, 56, 78, 91]\n"
     ]
    },
    {
     "data": {
      "text/plain": [
       "48.0"
      ]
     },
     "execution_count": 22,
     "metadata": {},
     "output_type": "execute_result"
    }
   ],
   "source": [
    "# Question 5: Find the average of numbers in [15, 23, 31, 42, 56, 78, 91]\n",
    "print(\"\\nQuestion 5: Find the average of numbers in [15, 23, 31, 42, 56, 78, 91]\")\n",
    "# Your code here\n",
    "l=[15, 23, 31, 42, 56, 78, 91]\n",
    "t=sum(l)/len(l)\n",
    "t"
   ]
  },
  {
   "cell_type": "code",
   "execution_count": null,
   "id": "e7f58ea3",
   "metadata": {},
   "outputs": [
    {
     "name": "stdout",
     "output_type": "stream",
     "text": [
      "\n",
      "Question 6: Create a list of first 15 Fibonacci numbers\n",
      "[0, 1, 1, 2, 3, 5, 8, 13, 21, 34, 55, 89, 144, 233, 377, 610]\n"
     ]
    }
   ],
   "source": [
    "# Question 6: Create a list of first 15 Fibonacci numbers\n",
    "print(\"\\nQuestion 6: Create a list of first 15 Fibonacci numbers\")\n",
    "# Your code here\n",
    "\n",
    "l=int(input())\n",
    "st=[]\n",
    "for i in range(0,l+1):\n",
    "    if i==0:\n",
    "        st.append(i)\n",
    "    elif i==1:\n",
    "        st.append(i)\n",
    "    else:\n",
    "        d=st[i-1]+st[i-2]\n",
    "        st.append(d)\n",
    "print(st)\n",
    "\n",
    "\n",
    "\n",
    "        "
   ]
  },
  {
   "cell_type": "code",
   "execution_count": 52,
   "id": "1479ce8d",
   "metadata": {},
   "outputs": [
    {
     "name": "stdout",
     "output_type": "stream",
     "text": [
      "\n",
      "Question 7: Find the second largest number in [45, 67, 23, 89, 12, 34, 78]\n",
      "78\n"
     ]
    }
   ],
   "source": [
    "# Question 7: Find the second largest number in [45, 67, 23, 89, 12, 34, 78]\n",
    "print(\"\\nQuestion 7: Find the second largest number in [45, 67, 23, 89, 12, 34, 78]\")\n",
    "# Your code here\n",
    "l=[45, 67, 23, 89, 12, 34, 78]\n",
    "l.sort(reverse=True)\n",
    "print(l[1])"
   ]
  },
  {
   "cell_type": "code",
   "execution_count": 53,
   "id": "54520955",
   "metadata": {},
   "outputs": [
    {
     "name": "stdout",
     "output_type": "stream",
     "text": [
      "the second higheset number is :78 \n"
     ]
    }
   ],
   "source": [
    "l=[45, 67, 23, 89, 12, 34, 78]\n",
    "d=max(l)\n",
    "st=[]\n",
    "for i in l:\n",
    "    if i<d:\n",
    "        st.append(i)\n",
    "print(f\"the second higheset number is :{max(st)} \")\n",
    "\n",
    "      \n",
    "    "
   ]
  },
  {
   "cell_type": "code",
   "execution_count": 55,
   "id": "3cb4bf51",
   "metadata": {},
   "outputs": [
    {
     "name": "stdout",
     "output_type": "stream",
     "text": [
      "\n",
      "Question 8: Reverse the list [1, 2, 3, 4, 5, 6, 7, 8, 9, 10]\n"
     ]
    },
    {
     "data": {
      "text/plain": [
       "[10, 9, 8, 7, 6, 5, 4, 3, 2, 1]"
      ]
     },
     "execution_count": 55,
     "metadata": {},
     "output_type": "execute_result"
    }
   ],
   "source": [
    "# Question 8: Reverse the list [1, 2, 3, 4, 5, 6, 7, 8, 9, 10]\n",
    "print(\"\\nQuestion 8: Reverse the list [1, 2, 3, 4, 5, 6, 7, 8, 9, 10]\")\n",
    "# Your code here\n",
    "l=[1, 2, 3, 4, 5, 6, 7, 8, 9, 10]\n",
    "l.reverse()\n",
    "l"
   ]
  },
  {
   "cell_type": "code",
   "execution_count": 56,
   "id": "3d04fd90",
   "metadata": {},
   "outputs": [
    {
     "name": "stdout",
     "output_type": "stream",
     "text": [
      "\n",
      "Question 9: Count how many times 5 appears in [1, 5, 2, 5, 3, 5, 4, 5, 6]\n"
     ]
    },
    {
     "data": {
      "text/plain": [
       "4"
      ]
     },
     "execution_count": 56,
     "metadata": {},
     "output_type": "execute_result"
    }
   ],
   "source": [
    "# Question 9: Count how many times 5 appears in [1, 5, 2, 5, 3, 5, 4, 5, 6]\n",
    "print(\"\\nQuestion 9: Count how many times 5 appears in [1, 5, 2, 5, 3, 5, 4, 5, 6]\")\n",
    "# Your code here\n",
    "l=[1, 5, 2, 5, 3, 5, 4, 5, 6]\n",
    "l.count(5)"
   ]
  },
  {
   "cell_type": "code",
   "execution_count": 71,
   "id": "6232b138",
   "metadata": {},
   "outputs": [
    {
     "name": "stdout",
     "output_type": "stream",
     "text": [
      "\n",
      "Question 10: Create a list of prime numbers between 1 and 50\n",
      "[2, 3, 5, 7, 11, 13, 17, 19, 23, 29, 31, 37, 41, 43, 47]\n"
     ]
    }
   ],
   "source": [
    "# Question 10: Create a list of prime numbers between 1 and 50\n",
    "print(\"\\nQuestion 10: Create a list of prime numbers between 1 and 50\")\n",
    "# Your code here\n",
    "\n",
    "\n",
    "st = []\n",
    "\n",
    "for n in range(2, 51):          # check from 2 to 50\n",
    "    for i in range(2, n):       # try dividing n by numbers from 2 to n-1\n",
    "        if n % i == 0:\n",
    "            break               # not prime, so break\n",
    "    else:\n",
    "        st.append(n)            # prime, so add to list\n",
    "\n",
    "print(st)\n",
    "\n"
   ]
  },
  {
   "cell_type": "code",
   "execution_count": 78,
   "id": "2d25bf7a",
   "metadata": {},
   "outputs": [
    {
     "name": "stdout",
     "output_type": "stream",
     "text": [
      "\n",
      "Question 11: Flatten nested list [[1, 2, 3], [4, 5, 6], [7, 8, 9]]\n"
     ]
    },
    {
     "data": {
      "text/plain": [
       "[1, 2, 3, 4, 5, 6, 7, 8, 9]"
      ]
     },
     "execution_count": 78,
     "metadata": {},
     "output_type": "execute_result"
    }
   ],
   "source": [
    "print(\"\\nQuestion 11: Flatten nested list [[1, 2, 3], [4, 5, 6], [7, 8, 9]]\")\n",
    "# Your code here\n",
    "l=[[1, 2, 3], [4, 5, 6], [7, 8, 9]]\n",
    "st=[]\n",
    "for i in l:\n",
    "    st.extend(i)\n",
    "st\n"
   ]
  },
  {
   "cell_type": "code",
   "execution_count": 83,
   "id": "5ff7a9ff",
   "metadata": {},
   "outputs": [
    {
     "name": "stdout",
     "output_type": "stream",
     "text": [
      "\n",
      "Question 12: Find common elements between [1, 2, 3, 4, 5] and [4, 5, 6, 7, 8]\n"
     ]
    },
    {
     "data": {
      "text/plain": [
       "{4, 5}"
      ]
     },
     "execution_count": 83,
     "metadata": {},
     "output_type": "execute_result"
    }
   ],
   "source": [
    "# Question 12: Find common elements between [1, 2, 3, 4, 5] and [4, 5, 6, 7, 8]\n",
    "print(\"\\nQuestion 12: Find common elements between [1, 2, 3, 4, 5] and [4, 5, 6, 7, 8]\")\n",
    "# Your code here\n",
    "a=[1, 2, 3, 4, 5]\n",
    "b=[4, 5, 6, 7, 8]\n",
    "l=set(a)\n",
    "s=set(b)\n",
    "l.intersection(s)"
   ]
  },
  {
   "cell_type": "code",
   "execution_count": 87,
   "id": "d6986350",
   "metadata": {},
   "outputs": [
    {
     "data": {
      "text/plain": [
       "[4, 5]"
      ]
     },
     "execution_count": 87,
     "metadata": {},
     "output_type": "execute_result"
    }
   ],
   "source": [
    "a\n",
    "b\n",
    "st=[]\n",
    "for i in a :\n",
    "    if i in b:\n",
    "        st.append(i)\n",
    "st\n"
   ]
  },
  {
   "cell_type": "code",
   "execution_count": 91,
   "id": "ed86d2e4",
   "metadata": {},
   "outputs": [
    {
     "name": "stdout",
     "output_type": "stream",
     "text": [
      "\n",
      "Question 13: Create a list of lists: [[1, 2], [3, 4], [5, 6]]\n",
      "[[1, 2], [3, 4], [5, 6]]\n"
     ]
    }
   ],
   "source": [
    "# Question 13: Create a list of lists: [[1, 2], [3, 4], [5, 6]]\n",
    "print(\"\\nQuestion 13: Create a list of lists: [[1, 2], [3, 4], [5, 6]]\")\n",
    "# Your code here\n",
    "lists=[[1, 2], [3, 4], [5, 6]]\n",
    "print(lists)"
   ]
  },
  {
   "cell_type": "code",
   "execution_count": 92,
   "id": "f7419079",
   "metadata": {},
   "outputs": [
    {
     "name": "stdout",
     "output_type": "stream",
     "text": [
      "\n",
      "Question 14: Find the sum of each sublist in [[1, 2, 3], [4, 5, 6], [7, 8, 9]]\n"
     ]
    },
    {
     "data": {
      "text/plain": [
       "[6, 15, 24]"
      ]
     },
     "execution_count": 92,
     "metadata": {},
     "output_type": "execute_result"
    }
   ],
   "source": [
    "# Question 14: Find the sum of each sublist in [[1, 2, 3], [4, 5, 6], [7, 8, 9]]\n",
    "print(\"\\nQuestion 14: Find the sum of each sublist in [[1, 2, 3], [4, 5, 6], [7, 8, 9]]\")\n",
    "# Your code here\n",
    "l=[[1, 2, 3], [4, 5, 6], [7, 8, 9]]\n",
    "st=[]\n",
    "for i in l:\n",
    "    d=sum(i)\n",
    "    st.append(d)\n",
    "st\n",
    "\n"
   ]
  },
  {
   "cell_type": "code",
   "execution_count": 93,
   "id": "8c60baba",
   "metadata": {},
   "outputs": [
    {
     "name": "stdout",
     "output_type": "stream",
     "text": [
      "\n",
      "Question 15: Transpose the matrix [[1, 2, 3], [4, 5, 6], [7, 8, 9]]\n"
     ]
    }
   ],
   "source": [
    "# Question 15: Transpose the matrix [[1, 2, 3], [4, 5, 6], [7, 8, 9]]\n",
    "print(\"\\nQuestion 15: Transpose the matrix [[1, 2, 3], [4, 5, 6], [7, 8, 9]]\")\n",
    "# Your code here\n"
   ]
  },
  {
   "cell_type": "code",
   "execution_count": 100,
   "id": "b071db57",
   "metadata": {},
   "outputs": [
    {
     "name": "stdout",
     "output_type": "stream",
     "text": [
      "\n",
      "Question 16: Find the maximum value in each sublist of [[1, 5, 3], [9, 2, 7], [4, 8, 6]]\n"
     ]
    },
    {
     "data": {
      "text/plain": [
       "[5, 9, 8]"
      ]
     },
     "execution_count": 100,
     "metadata": {},
     "output_type": "execute_result"
    }
   ],
   "source": [
    "# Question 16: Find the maximum value in each sublist of [[1, 5, 3], [9, 2, 7], [4, 8, 6]]\n",
    "print(\"\\nQuestion 16: Find the maximum value in each sublist of [[1, 5, 3], [9, 2, 7], [4, 8, 6]]\")\n",
    "# Your code here\n",
    "l=[[1, 5, 3], [9, 2, 7], [4, 8, 6]]\n",
    "st=[]\n",
    "for i in l:\n",
    "    s=max(i)\n",
    "    st.append(s)\n",
    "st\n"
   ]
  },
  {
   "cell_type": "code",
   "execution_count": null,
   "id": "2ff38bd1",
   "metadata": {},
   "outputs": [],
   "source": [
    "# Question 17: Create a 3D list: [[[1, 2], [3, 4]], [[5, 6], [7, 8]]]\n",
    "print(\"\\nQuestion 17: Create a 3D list: [[[1, 2], [3, 4]], [[5, 6], [7, 8]]]\")\n",
    "# Your code here\n",
    "\n",
    "\n"
   ]
  },
  {
   "cell_type": "code",
   "execution_count": null,
   "id": "43c920fd",
   "metadata": {},
   "outputs": [],
   "source": [
    "# Question 18: Find the sum of all elements in 3D list [[[1, 2], [3, 4]], [[5, 6], [7, 8]]]\n",
    "print(\"\\nQuestion 18: Find the sum of all elements in 3D list [[[1, 2], [3, 4]], [[5, 6], [7, 8]]]\")\n",
    "# Your code here\n"
   ]
  },
  {
   "cell_type": "code",
   "execution_count": 118,
   "id": "93cf9b14",
   "metadata": {},
   "outputs": [
    {
     "name": "stdout",
     "output_type": "stream",
     "text": [
      "\n",
      "Question 19: Extract all even numbers from nested list [[1, 2, 3], [4, 5, 6], [7, 8, 9]]\n"
     ]
    },
    {
     "data": {
      "text/plain": [
       "[2, 4, 6, 8]"
      ]
     },
     "execution_count": 118,
     "metadata": {},
     "output_type": "execute_result"
    }
   ],
   "source": [
    "# Question 19: Extract all even numbers from nested list [[1, 2, 3], [4, 5, 6], [7, 8, 9]]\n",
    "print(\"\\nQuestion 19: Extract all even numbers from nested list [[1, 2, 3], [4, 5, 6], [7, 8, 9]]\")\n",
    "# Your code here\n",
    "l=[[1, 2, 3], [4, 5, 6], [7, 8, 9]]\n",
    "st=[]\n",
    "a=[]\n",
    "for i in l:\n",
    "    st.extend(i)\n",
    "    \n",
    "for j in st:\n",
    "    if j%2==0:\n",
    "        a.append(j)\n",
    "a\n",
    "\n",
    "\n"
   ]
  },
  {
   "cell_type": "code",
   "execution_count": 121,
   "id": "2a554cac",
   "metadata": {},
   "outputs": [
    {
     "name": "stdout",
     "output_type": "stream",
     "text": [
      "\n",
      "Question 20: Create a list of mixed data types: [1, 'hello', 3.14, True, [1, 2, 3]]\n"
     ]
    },
    {
     "data": {
      "text/plain": [
       "[1, 'hello', 3.14, True, [1, 2, 3]]"
      ]
     },
     "execution_count": 121,
     "metadata": {},
     "output_type": "execute_result"
    }
   ],
   "source": [
    "# Question 20: Create a list of mixed data types: [1, \"hello\", 3.14, True, [1, 2, 3]]\n",
    "print(\"\\nQuestion 20: Create a list of mixed data types: [1, 'hello', 3.14, True, [1, 2, 3]]\")\n",
    "# Your code here\n",
    "l=[1, 'hello', 3.14, True, [1, 2, 3]]\n",
    "l"
   ]
  },
  {
   "cell_type": "code",
   "execution_count": null,
   "id": "d4074ac5",
   "metadata": {},
   "outputs": [
    {
     "name": "stdout",
     "output_type": "stream",
     "text": [
      "\n",
      "Question 21: Find the length of each string in ['apple', 'banana', 'cherry', 'date']\n",
      "5,6,6,4,"
     ]
    }
   ],
   "source": [
    "# Question 21: Find the length of each string in [\"apple\", \"banana\", \"cherry\", \"date\"]\n",
    "print(\"\\nQuestion 21: Find the length of each string in ['apple', 'banana', 'cherry', 'date']\")\n",
    "# Your code here\n",
    "l=['apple', 'banana', 'cherry', 'date']\n",
    "for i in l:\n",
    "    print(len(i),end=\",\")\n",
    "\n",
    "    \n"
   ]
  },
  {
   "cell_type": "code",
   "execution_count": 149,
   "id": "31828057",
   "metadata": {},
   "outputs": [
    {
     "name": "stdout",
     "output_type": "stream",
     "text": [
      "\n",
      "Question 22: Create a list of tuples: [(1, 'a'), (2, 'b'), (3, 'c')]\n",
      "[(1, 'a'), (2, 'b'), (3, 'c')]\n"
     ]
    }
   ],
   "source": [
    "# Question 22: Create a list of tuples: [(1, 'a'), (2, 'b'), (3, 'c')]\n",
    "print(\"\\nQuestion 22: Create a list of tuples: [(1, 'a'), (2, 'b'), (3, 'c')]\")\n",
    "# Your code here\n",
    "a= [(1, 'a'), (2, 'b'), (3, 'c')]\n",
    "print(a)\n"
   ]
  },
  {
   "cell_type": "code",
   "execution_count": 159,
   "id": "5dcd5f97",
   "metadata": {},
   "outputs": [
    {
     "name": "stdout",
     "output_type": "stream",
     "text": [
      "\n",
      "Question 23: Extract first element from each tuple in [(1, 'a'), (2, 'b'), (3, 'c')]\n",
      "((1, 'a'), (2, 'b'), (3, 'c'))\n",
      "1 2 3 "
     ]
    }
   ],
   "source": [
    "# Question 23: Extract first element from each tuple in [(1, 'a'), (2, 'b'), (3, 'c')]\n",
    "print(\"\\nQuestion 23: Extract first element from each tuple in [(1, 'a'), (2, 'b'), (3, 'c')]\")\n",
    "# Your code here\n",
    "l=[(1, 'a'), (2, 'b'), (3, 'c')]\n",
    "s=tuple(l)\n",
    "print(s)\n",
    "for i in s:\n",
    "    print(i[0],end=\" \")\n",
    "\n"
   ]
  },
  {
   "cell_type": "code",
   "execution_count": 161,
   "id": "d22020da",
   "metadata": {},
   "outputs": [
    {
     "name": "stdout",
     "output_type": "stream",
     "text": [
      "\n",
      "Question 24: Create a list of dictionaries: [{'name': 'Alice', 'age': 25}, {'name': 'Bob', 'age': 30}]\n"
     ]
    },
    {
     "data": {
      "text/plain": [
       "[{'name': 'Alice', 'age': 25}, {'name': 'Bob', 'age': 30}]"
      ]
     },
     "execution_count": 161,
     "metadata": {},
     "output_type": "execute_result"
    }
   ],
   "source": [
    "# Question 24: Create a list of dictionaries: [{'name': 'Alice', 'age': 25}, {'name': 'Bob', 'age': 30}]\n",
    "print(\"\\nQuestion 24: Create a list of dictionaries: [{'name': 'Alice', 'age': 25}, {'name': 'Bob', 'age': 30}]\")\n",
    "# Your code here\n",
    "d=[{'name': 'Alice', 'age': 25}, {'name': 'Bob', 'age': 30}]\n",
    "d\n"
   ]
  },
  {
   "cell_type": "code",
   "execution_count": 178,
   "id": "0f06a115",
   "metadata": {},
   "outputs": [
    {
     "name": "stdout",
     "output_type": "stream",
     "text": [
      "\n",
      "Question 25: Extract all 'name' values from list of dictionaries\n"
     ]
    },
    {
     "data": {
      "text/plain": [
       "['Alice', 'Bob']"
      ]
     },
     "execution_count": 178,
     "metadata": {},
     "output_type": "execute_result"
    }
   ],
   "source": [
    "# Question 25: Extract all 'name' values from list of dictionaries\n",
    "print(\"\\nQuestion 25: Extract all 'name' values from list of dictionaries\")\n",
    "# Your code here\n",
    "d=[{'name': 'Alice', 'age': 25}, {'name': 'Bob', 'age': 30}]\n",
    "st=[]\n",
    "for i in d:\n",
    "    s=i['name']\n",
    "    st.append(s)\n",
    "st"
   ]
  },
  {
   "cell_type": "code",
   "execution_count": null,
   "id": "bf8e6670",
   "metadata": {},
   "outputs": [],
   "source": []
  }
 ],
 "metadata": {
  "kernelspec": {
   "display_name": "Python 3",
   "language": "python",
   "name": "python3"
  },
  "language_info": {
   "codemirror_mode": {
    "name": "ipython",
    "version": 3
   },
   "file_extension": ".py",
   "mimetype": "text/x-python",
   "name": "python",
   "nbconvert_exporter": "python",
   "pygments_lexer": "ipython3",
   "version": "3.13.5"
  }
 },
 "nbformat": 4,
 "nbformat_minor": 5
}
