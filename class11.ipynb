{
 "cells": [
  {
   "cell_type": "code",
   "execution_count": 1,
   "id": "e6487da5",
   "metadata": {},
   "outputs": [
    {
     "data": {
      "text/plain": [
       "array([0, 9, 7, 7, 4, 4, 9, 1, 3, 7], dtype=int32)"
      ]
     },
     "execution_count": 1,
     "metadata": {},
     "output_type": "execute_result"
    }
   ],
   "source": [
    "import numpy as np\n",
    "data=np.random.randint(0,10,10)\n",
    "data"
   ]
  },
  {
   "cell_type": "code",
   "execution_count": 7,
   "id": "b609c140",
   "metadata": {},
   "outputs": [
    {
     "data": {
      "text/plain": [
       "np.float64(3.25)"
      ]
     },
     "execution_count": 7,
     "metadata": {},
     "output_type": "execute_result"
    }
   ],
   "source": [
    "np.quantile(data,0.25)"
   ]
  },
  {
   "cell_type": "code",
   "execution_count": 8,
   "id": "7ca1ee8c",
   "metadata": {},
   "outputs": [
    {
     "data": {
      "text/plain": [
       "np.float64(5.0)"
      ]
     },
     "execution_count": 8,
     "metadata": {},
     "output_type": "execute_result"
    }
   ],
   "source": [
    "np.quantile(data,0.5)"
   ]
  },
  {
   "cell_type": "code",
   "execution_count": 14,
   "id": "2922c8ff",
   "metadata": {},
   "outputs": [
    {
     "data": {
      "text/plain": [
       "np.float64(6.75)"
      ]
     },
     "execution_count": 14,
     "metadata": {},
     "output_type": "execute_result"
    }
   ],
   "source": [
    "np.quantile(data,0.75)"
   ]
  },
  {
   "cell_type": "code",
   "execution_count": 16,
   "id": "f9bca42f",
   "metadata": {},
   "outputs": [
    {
     "data": {
      "text/plain": [
       "array([[3, 0, 0],\n",
       "       [3, 1, 5],\n",
       "       [0, 6, 2]], dtype=int32)"
      ]
     },
     "execution_count": 16,
     "metadata": {},
     "output_type": "execute_result"
    }
   ],
   "source": [
    "data=np.random.randint(0,10,(3,3))\n",
    "data"
   ]
  },
  {
   "cell_type": "code",
   "execution_count": 17,
   "id": "8fc781cc",
   "metadata": {},
   "outputs": [
    {
     "data": {
      "text/plain": [
       "array([[ 1.        ,  0.        , -0.75592895],\n",
       "       [ 0.        ,  1.        , -0.65465367],\n",
       "       [-0.75592895, -0.65465367,  1.        ]])"
      ]
     },
     "execution_count": 17,
     "metadata": {},
     "output_type": "execute_result"
    }
   ],
   "source": [
    "np.corrcoef(data)"
   ]
  },
  {
   "cell_type": "code",
   "execution_count": 4,
   "id": "7096f440",
   "metadata": {},
   "outputs": [
    {
     "name": "stderr",
     "output_type": "stream",
     "text": [
      "<>:1: SyntaxWarning: invalid escape sequence '\\D'\n",
      "<>:1: SyntaxWarning: invalid escape sequence '\\D'\n",
      "C:\\Users\\Dell\\AppData\\Local\\Temp\\ipykernel_1244\\4089633100.py:1: SyntaxWarning: invalid escape sequence '\\D'\n",
      "  np.loadtxt(\"D:\\DATA SCIENCE\\PYTHON\\TXT.csv\",delimiter=',',skiprows=1)\n"
     ]
    },
    {
     "data": {
      "text/plain": [
       "array([[40., 26., 27., 27.],\n",
       "       [30., 31., 35., 25.],\n",
       "       [28., 35., 38., 30.],\n",
       "       [24., 30., 29., 40.],\n",
       "       [29., 22., 36., 22.],\n",
       "       [25., 33., 21., 37.],\n",
       "       [30., 33., 38., 38.],\n",
       "       [29., 29., 22., 29.],\n",
       "       [22., 23., 37., 29.],\n",
       "       [35., 21., 21., 37.],\n",
       "       [20., 21., 29., 30.],\n",
       "       [27., 25., 29., 40.],\n",
       "       [36., 26., 33., 30.],\n",
       "       [29., 39., 29., 29.],\n",
       "       [25., 26., 21., 28.],\n",
       "       [36., 40., 31., 21.],\n",
       "       [32., 21., 26., 34.],\n",
       "       [39., 33., 36., 22.],\n",
       "       [35., 24., 39., 29.]])"
      ]
     },
     "execution_count": 4,
     "metadata": {},
     "output_type": "execute_result"
    }
   ],
   "source": [
    "np.loadtxt(\"D:\\DATA SCIENCE\\PYTHON\\TXT.csv\",delimiter=',',skiprows=1)"
   ]
  },
  {
   "cell_type": "code",
   "execution_count": 6,
   "id": "7265bc35",
   "metadata": {},
   "outputs": [
    {
     "data": {
      "text/plain": [
       "array([[142, 182, 169, 192, 106,  79],\n",
       "       [ 89,  77,  79, 196, 135, 159],\n",
       "       [ 80, 159,  25,  87, 118, 151],\n",
       "       [125, 120,  33,  62, 159, 131]], dtype=int32)"
      ]
     },
     "execution_count": 6,
     "metadata": {},
     "output_type": "execute_result"
    }
   ],
   "source": [
    "data=np.random.randint(10,200,(4,6))\n",
    "data\n"
   ]
  },
  {
   "cell_type": "code",
   "execution_count": 7,
   "id": "f0313f24",
   "metadata": {},
   "outputs": [],
   "source": [
    "np.save(\"array.npy\",data)"
   ]
  },
  {
   "cell_type": "code",
   "execution_count": 8,
   "id": "bc494925",
   "metadata": {},
   "outputs": [
    {
     "data": {
      "text/plain": [
       "array([[142, 182, 169, 192, 106,  79],\n",
       "       [ 89,  77,  79, 196, 135, 159],\n",
       "       [ 80, 159,  25,  87, 118, 151],\n",
       "       [125, 120,  33,  62, 159, 131]], dtype=int32)"
      ]
     },
     "execution_count": 8,
     "metadata": {},
     "output_type": "execute_result"
    }
   ],
   "source": [
    "np.load(\"array.npy\")"
   ]
  },
  {
   "cell_type": "code",
   "execution_count": 22,
   "id": "547ac7de",
   "metadata": {},
   "outputs": [
    {
     "data": {
      "text/plain": [
       "array([1., 2., 3., 4., 6.])"
      ]
     },
     "execution_count": 22,
     "metadata": {},
     "output_type": "execute_result"
    }
   ],
   "source": [
    "arr=np.fromstring('1 2 3 4 6',sep=\" \",dtype=float)\n",
    "arr"
   ]
  },
  {
   "cell_type": "code",
   "execution_count": 30,
   "id": "8f397684",
   "metadata": {},
   "outputs": [
    {
     "name": "stdout",
     "output_type": "stream",
     "text": [
      "[1. 2. 3. 4. 6.]\n"
     ]
    }
   ],
   "source": [
    "arr=np.fromstring('1\\t2\\t3\\t4\\t6',sep=\"\\t\",dtype=float)\n",
    "print(arr)"
   ]
  },
  {
   "cell_type": "code",
   "execution_count": 32,
   "id": "69710235",
   "metadata": {},
   "outputs": [
    {
     "name": "stdout",
     "output_type": "stream",
     "text": [
      "[1. 2. 3.]\n"
     ]
    }
   ],
   "source": [
    "arr=np.fromstring('1 2 3 4 6',sep=\" \",count=3)\n",
    "print(arr)"
   ]
  },
  {
   "cell_type": "code",
   "execution_count": 40,
   "id": "92a6bb61",
   "metadata": {},
   "outputs": [
    {
     "name": "stderr",
     "output_type": "stream",
     "text": [
      "<>:1: SyntaxWarning: invalid escape sequence '\\D'\n",
      "<>:1: SyntaxWarning: invalid escape sequence '\\D'\n",
      "C:\\Users\\Dell\\AppData\\Local\\Temp\\ipykernel_1244\\1267399388.py:1: SyntaxWarning: invalid escape sequence '\\D'\n",
      "  txt=open(\"D:\\DATA SCIENCE\\PYTHON\\sm.txt\")\n"
     ]
    },
    {
     "data": {
      "text/plain": [
       "'sample\\nsample\\n\\nsample\\nsample\\nsample\\nsample\\nsample\\nsample\\nsample\\nsample\\nsample\\nsample\\nsample\\nsample\\nsample\\nsample\\nsample\\nsample\\nsample\\nsample\\nsample\\nsample\\nsample\\nsample\\nsample\\nsample\\nsample\\nsample\\nsample\\nsample\\nsample\\nsample\\nsample\\nsample\\nsample\\nsample\\nsample\\nsample\\nsample\\nsample\\nsample\\nsample\\nsample\\nsample\\nsample\\nsample\\nsample\\nsample\\nsample\\nsample\\n'"
      ]
     },
     "execution_count": 40,
     "metadata": {},
     "output_type": "execute_result"
    }
   ],
   "source": [
    "txt=open(\"D:\\DATA SCIENCE\\PYTHON\\sm.txt\")\n",
    "txt.read()"
   ]
  },
  {
   "cell_type": "code",
   "execution_count": 47,
   "id": "f15261f4",
   "metadata": {},
   "outputs": [
    {
     "data": {
      "text/plain": [
       "'sample\\nsample\\n\\nsample\\nsample\\nsample\\nsample\\nsample\\nsample\\nsample\\nsample\\nsample\\nsample\\nsample\\nsample\\nsample\\nsample\\nsample\\nsample\\nsample\\nsample\\nsample\\nsample\\nsample\\nsample\\nsample\\nsample\\nsample\\nsample\\nsample\\nsample\\nsample\\nsample\\nsample\\nsample\\nsample\\nsample\\nsample\\nsample\\nsample\\nsample\\nsample\\nsample\\nsample\\nsample\\nsample\\nsample\\nsample\\nsample\\nsample\\nsample\\n'"
      ]
     },
     "execution_count": 47,
     "metadata": {},
     "output_type": "execute_result"
    }
   ],
   "source": [
    "txt.seek(0)#it tells again you read from first and print\n",
    "txt.read()"
   ]
  },
  {
   "cell_type": "code",
   "execution_count": null,
   "id": "af65f1a2",
   "metadata": {},
   "outputs": [
    {
     "data": {
      "text/plain": [
       "['sample',\n",
       " 'sample',\n",
       " '',\n",
       " 'sample',\n",
       " 'sample',\n",
       " 'sample',\n",
       " 'sample',\n",
       " 'sample',\n",
       " 'sample',\n",
       " 'sample',\n",
       " 'sample',\n",
       " 'sample',\n",
       " 'sample',\n",
       " 'sample',\n",
       " 'sample',\n",
       " 'sample',\n",
       " 'sample',\n",
       " 'sample',\n",
       " 'sample',\n",
       " 'sample',\n",
       " 'sample',\n",
       " 'sample',\n",
       " 'sample',\n",
       " 'sample',\n",
       " 'sample',\n",
       " 'sample',\n",
       " 'sample',\n",
       " 'sample',\n",
       " 'sample',\n",
       " 'sample',\n",
       " 'sample',\n",
       " 'sample',\n",
       " 'sample',\n",
       " 'sample',\n",
       " 'sample',\n",
       " 'sample',\n",
       " 'sample',\n",
       " 'sample',\n",
       " 'sample',\n",
       " 'sample',\n",
       " 'sample',\n",
       " 'sample',\n",
       " 'sample',\n",
       " 'sample',\n",
       " 'sample',\n",
       " 'sample',\n",
       " 'sample',\n",
       " 'sample',\n",
       " 'sample',\n",
       " 'sample',\n",
       " 'sample']"
      ]
     },
     "execution_count": 48,
     "metadata": {},
     "output_type": "execute_result"
    }
   ],
   "source": [
    "txt.seek(0)\n",
    "txt.read().splitlines()#it gives line by line"
   ]
  },
  {
   "cell_type": "code",
   "execution_count": null,
   "id": "ce8e65dd",
   "metadata": {},
   "outputs": [],
   "source": [
    "| Mode  | Meaning                  | Can Read? | Can Write? | File Created if Missing? |\n",
    "|-------|--------------------------|-----------|------------|--------------------------|\n",
    "| r   | Read text                 | ✅        | ❌         | ❌                       |\n",
    "| w   | Write text (overwrite)    | ❌        | ✅         | ✅                       |\n",
    "| a   | Append text               | ❌        | ✅         | ✅                       |\n",
    "| r+  | Read + write              | ✅        | ✅         | ❌                       |\n",
    "| rb  | Read binary               | ✅        | ❌         | ❌                       |\n",
    "| wb  | Write binary              | ❌        | ✅         | ✅                       |"
   ]
  },
  {
   "cell_type": "code",
   "execution_count": 16,
   "id": "0e852cb9",
   "metadata": {},
   "outputs": [],
   "source": [
    "with open(\"f.txt\",'w') as file:\n",
    "    file.write(\"DATA SCIENCES\")#IT IS USED TO WRITE INSIDE THE FILE"
   ]
  },
  {
   "cell_type": "code",
   "execution_count": 17,
   "id": "77f124cd",
   "metadata": {},
   "outputs": [
    {
     "name": "stdout",
     "output_type": "stream",
     "text": [
      "DATA SCIENCES\n"
     ]
    }
   ],
   "source": [
    "with open(\"f.txt\",'r') as file:\n",
    "    content=file.read()\n",
    "    print(content)"
   ]
  },
  {
   "cell_type": "code",
   "execution_count": 18,
   "id": "d263f7f1",
   "metadata": {},
   "outputs": [],
   "source": [
    "with open(\"f.txt\",'a') as file:\n",
    "    file.write(\"first code\\n\")\n",
    "    file.write(\"second code\\n\")\n",
    "    file.write(\"third code\\n\")\n",
    "\n"
   ]
  },
  {
   "cell_type": "code",
   "execution_count": 19,
   "id": "3765ec7c",
   "metadata": {},
   "outputs": [
    {
     "name": "stdout",
     "output_type": "stream",
     "text": [
      "DATA SCIENCESfirst code\n",
      "second code\n",
      "third code\n",
      "\n"
     ]
    }
   ],
   "source": [
    "with open(\"f.txt\",'r') as file:\n",
    "    content=file.read()\n",
    "    print(content)"
   ]
  },
  {
   "cell_type": "code",
   "execution_count": 29,
   "id": "33cc9f77",
   "metadata": {},
   "outputs": [],
   "source": [
    "with open(\"f.txt\",'r+') as f:\n",
    "    text=f.read()\n",
    "    f.seek(0)\n",
    "    f.write(\"upadted contenet \"+text)\n"
   ]
  },
  {
   "cell_type": "code",
   "execution_count": 32,
   "id": "4fb9ef0f",
   "metadata": {},
   "outputs": [
    {
     "name": "stdout",
     "output_type": "stream",
     "text": [
      "upadted contenet upadted contenet upadted contenet t code\n",
      "second code\n",
      "third code\n",
      "\n"
     ]
    }
   ],
   "source": [
    "with open(\"f.txt\",'r') as f:\n",
    "    print(f.read())"
   ]
  },
  {
   "cell_type": "code",
   "execution_count": null,
   "id": "db6b490d",
   "metadata": {},
   "outputs": [
    {
     "name": "stderr",
     "output_type": "stream",
     "text": [
      "<>:2: SyntaxWarning: invalid escape sequence '\\D'\n",
      "<>:2: SyntaxWarning: invalid escape sequence '\\D'\n",
      "C:\\Users\\Dell\\AppData\\Local\\Temp\\ipykernel_11284\\3945793782.py:2: SyntaxWarning: invalid escape sequence '\\D'\n",
      "  with open(\"D:\\DATA SCIENCE\\PYTHON\\3BR22CS403_Provisional_Grade_Card.pdf\",\"rb\") as f:\n",
      "C:\\Users\\Dell\\AppData\\Local\\Temp\\ipykernel_11284\\3945793782.py:2: SyntaxWarning: invalid escape sequence '\\D'\n",
      "  with open(\"D:\\DATA SCIENCE\\PYTHON\\3BR22CS403_Provisional_Grade_Card.pdf\",\"rb\") as f:\n"
     ]
    },
    {
     "ename": "OSError",
     "evalue": "[Errno 22] Invalid argument: 'D:\\\\DATA SCIENCE\\\\PYTHON\\x03BR22CS403_Provisional_Grade_Card.pdf'",
     "output_type": "error",
     "traceback": [
      "\u001b[31m---------------------------------------------------------------------------\u001b[39m",
      "\u001b[31mOSError\u001b[39m                                   Traceback (most recent call last)",
      "\u001b[36mCell\u001b[39m\u001b[36m \u001b[39m\u001b[32mIn[49]\u001b[39m\u001b[32m, line 2\u001b[39m\n\u001b[32m      1\u001b[39m \u001b[38;5;28;01mimport\u001b[39;00m\u001b[38;5;250m \u001b[39m\u001b[34;01mPyPDF2\u001b[39;00m\n\u001b[32m----> \u001b[39m\u001b[32m2\u001b[39m \u001b[38;5;28;01mwith\u001b[39;00m \u001b[38;5;28;43mopen\u001b[39;49m\u001b[43m(\u001b[49m\u001b[33;43m\"\u001b[39;49m\u001b[33;43mD:\u001b[39;49m\u001b[33;43m\\\u001b[39;49m\u001b[33;43mDATA SCIENCE\u001b[39;49m\u001b[33;43m\\\u001b[39;49m\u001b[33;43mPYTHON\u001b[39;49m\u001b[38;5;130;43;01m\\3\u001b[39;49;00m\u001b[33;43mBR22CS403_Provisional_Grade_Card.pdf\u001b[39;49m\u001b[33;43m\"\u001b[39;49m\u001b[43m,\u001b[49m\u001b[33;43m\"\u001b[39;49m\u001b[33;43mrb\u001b[39;49m\u001b[33;43m\"\u001b[39;49m\u001b[43m)\u001b[49m \u001b[38;5;28;01mas\u001b[39;00m f:\n\u001b[32m      3\u001b[39m     reader=PyPDF2.PdfReader(f)\n\u001b[32m      4\u001b[39m     \u001b[38;5;28mprint\u001b[39m(\u001b[33m\"\u001b[39m\u001b[33mno of pages in the pdf\u001b[39m\u001b[33m\"\u001b[39m,\u001b[38;5;28mlen\u001b[39m(reader.pages))\n",
      "\u001b[36mFile \u001b[39m\u001b[32m~\\AppData\\Roaming\\Python\\Python313\\site-packages\\IPython\\core\\interactiveshell.py:343\u001b[39m, in \u001b[36m_modified_open\u001b[39m\u001b[34m(file, *args, **kwargs)\u001b[39m\n\u001b[32m    336\u001b[39m \u001b[38;5;28;01mif\u001b[39;00m file \u001b[38;5;129;01min\u001b[39;00m {\u001b[32m0\u001b[39m, \u001b[32m1\u001b[39m, \u001b[32m2\u001b[39m}:\n\u001b[32m    337\u001b[39m     \u001b[38;5;28;01mraise\u001b[39;00m \u001b[38;5;167;01mValueError\u001b[39;00m(\n\u001b[32m    338\u001b[39m         \u001b[33mf\u001b[39m\u001b[33m\"\u001b[39m\u001b[33mIPython won\u001b[39m\u001b[33m'\u001b[39m\u001b[33mt let you open fd=\u001b[39m\u001b[38;5;132;01m{\u001b[39;00mfile\u001b[38;5;132;01m}\u001b[39;00m\u001b[33m by default \u001b[39m\u001b[33m\"\u001b[39m\n\u001b[32m    339\u001b[39m         \u001b[33m\"\u001b[39m\u001b[33mas it is likely to crash IPython. If you know what you are doing, \u001b[39m\u001b[33m\"\u001b[39m\n\u001b[32m    340\u001b[39m         \u001b[33m\"\u001b[39m\u001b[33myou can use builtins\u001b[39m\u001b[33m'\u001b[39m\u001b[33m open.\u001b[39m\u001b[33m\"\u001b[39m\n\u001b[32m    341\u001b[39m     )\n\u001b[32m--> \u001b[39m\u001b[32m343\u001b[39m \u001b[38;5;28;01mreturn\u001b[39;00m \u001b[43mio_open\u001b[49m\u001b[43m(\u001b[49m\u001b[43mfile\u001b[49m\u001b[43m,\u001b[49m\u001b[43m \u001b[49m\u001b[43m*\u001b[49m\u001b[43margs\u001b[49m\u001b[43m,\u001b[49m\u001b[43m \u001b[49m\u001b[43m*\u001b[49m\u001b[43m*\u001b[49m\u001b[43mkwargs\u001b[49m\u001b[43m)\u001b[49m\n",
      "\u001b[31mOSError\u001b[39m: [Errno 22] Invalid argument: 'D:\\\\DATA SCIENCE\\\\PYTHON\\x03BR22CS403_Provisional_Grade_Card.pdf'"
     ]
    }
   ],
   "source": [
    "import PyPDF2\n",
    "with open(\"\",\"rb\") as f:\n",
    "    reader=PyPDF2.PdfReader(f)\n",
    "    print(\"no of pages in the pdf\",len(reader.pages))\n",
    "\n",
    "    page=reader.pages[0]\n",
    "    txt=page.extract_text()\n",
    "    print(txt)\n"
   ]
  },
  {
   "cell_type": "code",
   "execution_count": null,
   "id": "a9adc87b",
   "metadata": {},
   "outputs": [],
   "source": []
  }
 ],
 "metadata": {
  "kernelspec": {
   "display_name": "Python 3",
   "language": "python",
   "name": "python3"
  },
  "language_info": {
   "codemirror_mode": {
    "name": "ipython",
    "version": 3
   },
   "file_extension": ".py",
   "mimetype": "text/x-python",
   "name": "python",
   "nbconvert_exporter": "python",
   "pygments_lexer": "ipython3",
   "version": "3.13.2"
  }
 },
 "nbformat": 4,
 "nbformat_minor": 5
}
